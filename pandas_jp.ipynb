{
 "cells": [
  {
   "cell_type": "markdown",
   "metadata": {
    "_cell_guid": "daffadeb-f0c8-4a27-b62c-aea950edc588",
    "_uuid": "e0e294bdfc0df9aa8f58fb8b6ae828c7ae062ccd"
   },
   "source": [
    "このガイドは [10 Minute Guide to Pandas](https://pandas.pydata.org/pandas-docs/stable/10min.html) を翻訳し、コードをより実行しやすいようにjupyter notebookのカーネルとしたものです。このガイドは、いままでPandasを使ったことのないビギナー向けのものです。Pandasがいかにパワフルであるかを示す多くのサンプルコードが記載されています。ぜひ、Pandasを楽しんでください。"
   ]
  },
  {
   "cell_type": "markdown",
   "metadata": {
    "_cell_guid": "da21b90d-98fc-483f-bf58-bd1dacf7027c",
    "_kg_hide-input": true,
    "_uuid": "90fb4599b093efccc95cacb6db2da95bcd695545"
   },
   "source": [
    "### これはpandas初心者向けの簡単な紹介です。[クックブック](https://pandas.pydata.org/pandas-docs/stable/cookbook.html#cookbook)でもっと詳細なレシピを見ることができます。"
   ]
  },
  {
   "cell_type": "code",
   "execution_count": 1,
   "metadata": {
    "_cell_guid": "f26dff57-ef68-4cbf-86f1-b027cc75d6c1",
    "_uuid": "e0a227d03ea6a2d1995268f8cea078357eb596d4"
   },
   "outputs": [],
   "source": [
    "import pandas as pd\n",
    "import numpy as np\n",
    "import matplotlib.pyplot as plt"
   ]
  },
  {
   "cell_type": "markdown",
   "metadata": {
    "_cell_guid": "0c4de500-e940-428a-a624-d72cf69055ae",
    "_uuid": "666bd202e06457942b464ff348f49256eb40cb10"
   },
   "source": [
    "# オブジェクトの作成\n",
    "データ構造のイントロダクション　リストからシリーズを作成します。デフォルトで整数のインデックスが付加されます。"
   ]
  },
  {
   "cell_type": "code",
   "execution_count": 2,
   "metadata": {
    "_cell_guid": "684d2ff9-f491-4384-b51d-d89a545f40a6",
    "_uuid": "3d527ebba36697ffcf0b5d46ef717172edcb0539"
   },
   "outputs": [
    {
     "data": {
      "text/plain": [
       "0    1.0\n",
       "1    3.0\n",
       "2    5.0\n",
       "3    NaN\n",
       "4    6.0\n",
       "5    8.0\n",
       "dtype: float64"
      ]
     },
     "execution_count": 2,
     "metadata": {},
     "output_type": "execute_result"
    }
   ],
   "source": [
    "s = pd.Series([1,3,5,np.nan,6,8])\n",
    "s"
   ]
  },
  {
   "cell_type": "markdown",
   "metadata": {
    "_cell_guid": "a34354da-ed7a-4b6c-b29a-371b98778256",
    "_uuid": "762a9ec540f47f1aeba21b5a7deb1cf51a0994eb"
   },
   "source": [
    "numpyの配列からdatetimeのインデックスとラベル付のコラムで構成される[データフレーム](https://pandas.pydata.org/pandas-docs/stable/generated/pandas.DataFrame.html#pandas.DataFrame)を作成します。 "
   ]
  },
  {
   "cell_type": "code",
   "execution_count": 3,
   "metadata": {
    "_cell_guid": "1f57494c-5ec2-49a4-adb4-4843d5c39c62",
    "_uuid": "50b786a38ed5b11ec29c308d29599623c26f0f23"
   },
   "outputs": [
    {
     "data": {
      "text/plain": [
       "DatetimeIndex(['2014-11-01', '2014-11-02', '2014-11-03', '2014-11-04',\n",
       "               '2014-11-05', '2014-11-06'],\n",
       "              dtype='datetime64[ns]', freq='D')"
      ]
     },
     "execution_count": 3,
     "metadata": {},
     "output_type": "execute_result"
    }
   ],
   "source": [
    "dates = pd.date_range('20141101', periods=6)\n",
    "dates"
   ]
  },
  {
   "cell_type": "code",
   "execution_count": 103,
   "metadata": {
    "_cell_guid": "e29399aa-3818-4dd8-bc3b-634aa5c3fe78",
    "_uuid": "b21c8f9e3992c18eb839851aaa6ad057654e9082"
   },
   "outputs": [
    {
     "data": {
      "text/html": [
       "<div>\n",
       "<style>\n",
       "    .dataframe thead tr:only-child th {\n",
       "        text-align: right;\n",
       "    }\n",
       "\n",
       "    .dataframe thead th {\n",
       "        text-align: left;\n",
       "    }\n",
       "\n",
       "    .dataframe tbody tr th {\n",
       "        vertical-align: top;\n",
       "    }\n",
       "</style>\n",
       "<table border=\"1\" class=\"dataframe\">\n",
       "  <thead>\n",
       "    <tr style=\"text-align: right;\">\n",
       "      <th></th>\n",
       "      <th>one</th>\n",
       "      <th>two</th>\n",
       "      <th>three</th>\n",
       "      <th>four</th>\n",
       "    </tr>\n",
       "  </thead>\n",
       "  <tbody>\n",
       "    <tr>\n",
       "      <th>2014-11-01</th>\n",
       "      <td>-1.013910</td>\n",
       "      <td>0.645651</td>\n",
       "      <td>-0.471663</td>\n",
       "      <td>1.598430</td>\n",
       "    </tr>\n",
       "    <tr>\n",
       "      <th>2014-11-02</th>\n",
       "      <td>-0.167958</td>\n",
       "      <td>0.569376</td>\n",
       "      <td>0.042177</td>\n",
       "      <td>-1.073518</td>\n",
       "    </tr>\n",
       "    <tr>\n",
       "      <th>2014-11-03</th>\n",
       "      <td>0.620331</td>\n",
       "      <td>-2.125627</td>\n",
       "      <td>-1.148625</td>\n",
       "      <td>-0.860663</td>\n",
       "    </tr>\n",
       "    <tr>\n",
       "      <th>2014-11-04</th>\n",
       "      <td>-0.648284</td>\n",
       "      <td>-2.651192</td>\n",
       "      <td>0.211608</td>\n",
       "      <td>0.408859</td>\n",
       "    </tr>\n",
       "    <tr>\n",
       "      <th>2014-11-05</th>\n",
       "      <td>-0.544463</td>\n",
       "      <td>-0.098360</td>\n",
       "      <td>0.172779</td>\n",
       "      <td>0.771743</td>\n",
       "    </tr>\n",
       "    <tr>\n",
       "      <th>2014-11-06</th>\n",
       "      <td>0.096059</td>\n",
       "      <td>2.273602</td>\n",
       "      <td>-1.125638</td>\n",
       "      <td>0.490312</td>\n",
       "    </tr>\n",
       "  </tbody>\n",
       "</table>\n",
       "</div>"
      ],
      "text/plain": [
       "                 one       two     three      four\n",
       "2014-11-01 -1.013910  0.645651 -0.471663  1.598430\n",
       "2014-11-02 -0.167958  0.569376  0.042177 -1.073518\n",
       "2014-11-03  0.620331 -2.125627 -1.148625 -0.860663\n",
       "2014-11-04 -0.648284 -2.651192  0.211608  0.408859\n",
       "2014-11-05 -0.544463 -0.098360  0.172779  0.771743\n",
       "2014-11-06  0.096059  2.273602 -1.125638  0.490312"
      ]
     },
     "execution_count": 103,
     "metadata": {},
     "output_type": "execute_result"
    }
   ],
   "source": [
    "df = pd.DataFrame(np.random.randn(6,4), index=dates,columns=['one','two','three','four'])\n",
    "df"
   ]
  },
  {
   "cell_type": "markdown",
   "metadata": {
    "_cell_guid": "6622566b-e889-4589-88db-9e6ac53bda43",
    "_uuid": "886f7623a8e6ef893a83174796656aa7417c72be"
   },
   "source": [
    "辞書型のオブジェクトで、一連の連続した値に変換できる要素を持つものから、データフレームを作成します。"
   ]
  },
  {
   "cell_type": "code",
   "execution_count": 5,
   "metadata": {
    "_cell_guid": "a36d23bb-aa78-4964-984f-1c0fef73c85b",
    "_uuid": "91c969a5e0dede5ed222df08fda0a19e7ecb6ba9"
   },
   "outputs": [
    {
     "data": {
      "text/html": [
       "<div>\n",
       "<style>\n",
       "    .dataframe thead tr:only-child th {\n",
       "        text-align: right;\n",
       "    }\n",
       "\n",
       "    .dataframe thead th {\n",
       "        text-align: left;\n",
       "    }\n",
       "\n",
       "    .dataframe tbody tr th {\n",
       "        vertical-align: top;\n",
       "    }\n",
       "</style>\n",
       "<table border=\"1\" class=\"dataframe\">\n",
       "  <thead>\n",
       "    <tr style=\"text-align: right;\">\n",
       "      <th></th>\n",
       "      <th>A</th>\n",
       "      <th>B</th>\n",
       "      <th>C</th>\n",
       "      <th>D</th>\n",
       "      <th>E</th>\n",
       "      <th>F</th>\n",
       "    </tr>\n",
       "  </thead>\n",
       "  <tbody>\n",
       "    <tr>\n",
       "      <th>0</th>\n",
       "      <td>1.0</td>\n",
       "      <td>2013-01-02</td>\n",
       "      <td>1.0</td>\n",
       "      <td>3</td>\n",
       "      <td>test</td>\n",
       "      <td>foo</td>\n",
       "    </tr>\n",
       "    <tr>\n",
       "      <th>1</th>\n",
       "      <td>1.0</td>\n",
       "      <td>2013-01-02</td>\n",
       "      <td>1.0</td>\n",
       "      <td>3</td>\n",
       "      <td>train</td>\n",
       "      <td>foo</td>\n",
       "    </tr>\n",
       "    <tr>\n",
       "      <th>2</th>\n",
       "      <td>1.0</td>\n",
       "      <td>2013-01-02</td>\n",
       "      <td>1.0</td>\n",
       "      <td>3</td>\n",
       "      <td>test</td>\n",
       "      <td>foo</td>\n",
       "    </tr>\n",
       "    <tr>\n",
       "      <th>3</th>\n",
       "      <td>1.0</td>\n",
       "      <td>2013-01-02</td>\n",
       "      <td>1.0</td>\n",
       "      <td>3</td>\n",
       "      <td>train</td>\n",
       "      <td>foo</td>\n",
       "    </tr>\n",
       "  </tbody>\n",
       "</table>\n",
       "</div>"
      ],
      "text/plain": [
       "     A          B    C  D      E    F\n",
       "0  1.0 2013-01-02  1.0  3   test  foo\n",
       "1  1.0 2013-01-02  1.0  3  train  foo\n",
       "2  1.0 2013-01-02  1.0  3   test  foo\n",
       "3  1.0 2013-01-02  1.0  3  train  foo"
      ]
     },
     "execution_count": 5,
     "metadata": {},
     "output_type": "execute_result"
    }
   ],
   "source": [
    "df2 = pd.DataFrame({ 'A' : 1.,\n",
    "   ....:                      'B' : pd.Timestamp('20130102'),\n",
    "   ....:                      'C' : pd.Series(1,index=list(range(4)),dtype='float32'),\n",
    "   ....:                      'D' : np.array([3] * 4,dtype='int32'),\n",
    "   ....:                      'E' : pd.Categorical([\"test\",\"train\",\"test\",\"train\"]),\n",
    "   ....:                      'F' : 'foo' })\n",
    "   ....: \n",
    "df2"
   ]
  },
  {
   "cell_type": "markdown",
   "metadata": {
    "_cell_guid": "10d03951-7cbd-4ee0-9302-1a77697a74f2",
    "_uuid": "05e30726935db33f49e624f496fc8c953be46383"
   },
   "source": [
    "それぞれの列の [dtypes](https://pandas.pydata.org/pandas-docs/stable/basics.html#basics-dtypes)を確認しましょう。"
   ]
  },
  {
   "cell_type": "code",
   "execution_count": 6,
   "metadata": {
    "_cell_guid": "e862ec95-5893-4f46-ac7d-4d8a638ffc1f",
    "_uuid": "9e7f0e3693cf1f63718fce13feed81c93ed22d58"
   },
   "outputs": [
    {
     "data": {
      "text/plain": [
       "A           float64\n",
       "B    datetime64[ns]\n",
       "C           float32\n",
       "D             int32\n",
       "E          category\n",
       "F            object\n",
       "dtype: object"
      ]
     },
     "execution_count": 6,
     "metadata": {},
     "output_type": "execute_result"
    }
   ],
   "source": [
    "df2.dtypes"
   ]
  },
  {
   "cell_type": "markdown",
   "metadata": {
    "_cell_guid": "860dc5f5-ce12-47b0-b0b1-09cc4aba5f73",
    "_uuid": "886b98db6af991c2ec742c18085b0b8a7b88d31f"
   },
   "source": [
    "\n",
    "# データを確認する\n",
    "参考 [Basics section](https://pandas.pydata.org/pandas-docs/stable/basics.html#basics)\n",
    "\n",
    "データフレームの最初と最後の部分を確認します。"
   ]
  },
  {
   "cell_type": "code",
   "execution_count": 7,
   "metadata": {
    "_cell_guid": "b1b5ca0e-4b43-4ec9-80ee-65b807d234d2",
    "_uuid": "c1d9e77ee2cfdc5b81af10b29565a9166ca01994"
   },
   "outputs": [
    {
     "data": {
      "text/html": [
       "<div>\n",
       "<style>\n",
       "    .dataframe thead tr:only-child th {\n",
       "        text-align: right;\n",
       "    }\n",
       "\n",
       "    .dataframe thead th {\n",
       "        text-align: left;\n",
       "    }\n",
       "\n",
       "    .dataframe tbody tr th {\n",
       "        vertical-align: top;\n",
       "    }\n",
       "</style>\n",
       "<table border=\"1\" class=\"dataframe\">\n",
       "  <thead>\n",
       "    <tr style=\"text-align: right;\">\n",
       "      <th></th>\n",
       "      <th>one</th>\n",
       "      <th>two</th>\n",
       "      <th>three</th>\n",
       "      <th>four</th>\n",
       "    </tr>\n",
       "  </thead>\n",
       "  <tbody>\n",
       "    <tr>\n",
       "      <th>2014-11-01</th>\n",
       "      <td>-1.600769</td>\n",
       "      <td>0.221099</td>\n",
       "      <td>0.021585</td>\n",
       "      <td>-1.401094</td>\n",
       "    </tr>\n",
       "    <tr>\n",
       "      <th>2014-11-02</th>\n",
       "      <td>1.056213</td>\n",
       "      <td>-0.263292</td>\n",
       "      <td>1.766088</td>\n",
       "      <td>-0.814938</td>\n",
       "    </tr>\n",
       "    <tr>\n",
       "      <th>2014-11-03</th>\n",
       "      <td>1.058138</td>\n",
       "      <td>1.649387</td>\n",
       "      <td>1.075582</td>\n",
       "      <td>0.431538</td>\n",
       "    </tr>\n",
       "    <tr>\n",
       "      <th>2014-11-04</th>\n",
       "      <td>0.642886</td>\n",
       "      <td>0.020734</td>\n",
       "      <td>0.737457</td>\n",
       "      <td>0.276887</td>\n",
       "    </tr>\n",
       "    <tr>\n",
       "      <th>2014-11-05</th>\n",
       "      <td>0.021690</td>\n",
       "      <td>0.057333</td>\n",
       "      <td>0.998961</td>\n",
       "      <td>-0.360318</td>\n",
       "    </tr>\n",
       "  </tbody>\n",
       "</table>\n",
       "</div>"
      ],
      "text/plain": [
       "                 one       two     three      four\n",
       "2014-11-01 -1.600769  0.221099  0.021585 -1.401094\n",
       "2014-11-02  1.056213 -0.263292  1.766088 -0.814938\n",
       "2014-11-03  1.058138  1.649387  1.075582  0.431538\n",
       "2014-11-04  0.642886  0.020734  0.737457  0.276887\n",
       "2014-11-05  0.021690  0.057333  0.998961 -0.360318"
      ]
     },
     "execution_count": 7,
     "metadata": {},
     "output_type": "execute_result"
    }
   ],
   "source": [
    "df.head()"
   ]
  },
  {
   "cell_type": "code",
   "execution_count": 8,
   "metadata": {
    "_cell_guid": "3428b24c-520e-4d23-b439-9c9e2b8d353d",
    "_uuid": "74c7c24d7adc0382cdc6055a88643ea7cbe2c111"
   },
   "outputs": [
    {
     "data": {
      "text/html": [
       "<div>\n",
       "<style>\n",
       "    .dataframe thead tr:only-child th {\n",
       "        text-align: right;\n",
       "    }\n",
       "\n",
       "    .dataframe thead th {\n",
       "        text-align: left;\n",
       "    }\n",
       "\n",
       "    .dataframe tbody tr th {\n",
       "        vertical-align: top;\n",
       "    }\n",
       "</style>\n",
       "<table border=\"1\" class=\"dataframe\">\n",
       "  <thead>\n",
       "    <tr style=\"text-align: right;\">\n",
       "      <th></th>\n",
       "      <th>one</th>\n",
       "      <th>two</th>\n",
       "      <th>three</th>\n",
       "      <th>four</th>\n",
       "    </tr>\n",
       "  </thead>\n",
       "  <tbody>\n",
       "    <tr>\n",
       "      <th>2014-11-04</th>\n",
       "      <td>0.642886</td>\n",
       "      <td>0.020734</td>\n",
       "      <td>0.737457</td>\n",
       "      <td>0.276887</td>\n",
       "    </tr>\n",
       "    <tr>\n",
       "      <th>2014-11-05</th>\n",
       "      <td>0.021690</td>\n",
       "      <td>0.057333</td>\n",
       "      <td>0.998961</td>\n",
       "      <td>-0.360318</td>\n",
       "    </tr>\n",
       "    <tr>\n",
       "      <th>2014-11-06</th>\n",
       "      <td>-0.468473</td>\n",
       "      <td>0.108894</td>\n",
       "      <td>0.412678</td>\n",
       "      <td>0.364218</td>\n",
       "    </tr>\n",
       "  </tbody>\n",
       "</table>\n",
       "</div>"
      ],
      "text/plain": [
       "                 one       two     three      four\n",
       "2014-11-04  0.642886  0.020734  0.737457  0.276887\n",
       "2014-11-05  0.021690  0.057333  0.998961 -0.360318\n",
       "2014-11-06 -0.468473  0.108894  0.412678  0.364218"
      ]
     },
     "execution_count": 8,
     "metadata": {},
     "output_type": "execute_result"
    }
   ],
   "source": [
    "df.tail(3)"
   ]
  },
  {
   "cell_type": "markdown",
   "metadata": {
    "_cell_guid": "efec648c-6c39-4b09-a87e-cf3dc723ff0b",
    "_uuid": "5c4372dac3fba6ebf7fc16e222ab135529dfb3fe"
   },
   "source": [
    "インデックスとコラム名及び関連するnumpyデータを表示します。"
   ]
  },
  {
   "cell_type": "code",
   "execution_count": 9,
   "metadata": {
    "_cell_guid": "53a240a3-ecb2-4f38-8862-da1d00aedf7c",
    "_uuid": "056ab69a40592e47b9e07cb2514784eb50d81ade"
   },
   "outputs": [
    {
     "data": {
      "text/plain": [
       "DatetimeIndex(['2014-11-01', '2014-11-02', '2014-11-03', '2014-11-04',\n",
       "               '2014-11-05', '2014-11-06'],\n",
       "              dtype='datetime64[ns]', freq='D')"
      ]
     },
     "execution_count": 9,
     "metadata": {},
     "output_type": "execute_result"
    }
   ],
   "source": [
    "df.index"
   ]
  },
  {
   "cell_type": "code",
   "execution_count": 10,
   "metadata": {
    "_cell_guid": "a9cae030-681e-4b3d-993f-0e2cbaaa10a9",
    "_uuid": "b86456edbcc2249100502525c1fd38dd4235d0f3"
   },
   "outputs": [
    {
     "data": {
      "text/plain": [
       "Index(['one', 'two', 'three', 'four'], dtype='object')"
      ]
     },
     "execution_count": 10,
     "metadata": {},
     "output_type": "execute_result"
    }
   ],
   "source": [
    "df.columns"
   ]
  },
  {
   "cell_type": "code",
   "execution_count": 11,
   "metadata": {
    "_cell_guid": "0d442ada-0d41-4fe4-a843-48592068306d",
    "_uuid": "842fe1b27b0714ee2155a657e3eec4f3719a40b0"
   },
   "outputs": [
    {
     "data": {
      "text/plain": [
       "array([[-1.60076889,  0.22109854,  0.02158489, -1.40109415],\n",
       "       [ 1.05621301, -0.2632922 ,  1.76608796, -0.81493848],\n",
       "       [ 1.05813816,  1.64938709,  1.07558217,  0.43153807],\n",
       "       [ 0.64288567,  0.02073441,  0.7374565 ,  0.27688726],\n",
       "       [ 0.02168958,  0.05733348,  0.9989606 , -0.36031822],\n",
       "       [-0.46847296,  0.10889358,  0.4126783 ,  0.36421791]])"
      ]
     },
     "execution_count": 11,
     "metadata": {},
     "output_type": "execute_result"
    }
   ],
   "source": [
    "df.values"
   ]
  },
  {
   "cell_type": "markdown",
   "metadata": {
    "_cell_guid": "ab9e7b9e-f32b-4c0f-9df6-32d4464a4cb2",
    "_uuid": "7ef425f14c048accd98f18f3a5e0974fa9fe8a78"
   },
   "source": [
    "データの要約統計量を表示します。"
   ]
  },
  {
   "cell_type": "code",
   "execution_count": 12,
   "metadata": {
    "_cell_guid": "43393dfd-989c-43a6-834e-550c8d3ccbd4",
    "_uuid": "1f1dbb5dd09ffa4c2ee0c3c289328de4c070ad2b"
   },
   "outputs": [
    {
     "data": {
      "text/html": [
       "<div>\n",
       "<style>\n",
       "    .dataframe thead tr:only-child th {\n",
       "        text-align: right;\n",
       "    }\n",
       "\n",
       "    .dataframe thead th {\n",
       "        text-align: left;\n",
       "    }\n",
       "\n",
       "    .dataframe tbody tr th {\n",
       "        vertical-align: top;\n",
       "    }\n",
       "</style>\n",
       "<table border=\"1\" class=\"dataframe\">\n",
       "  <thead>\n",
       "    <tr style=\"text-align: right;\">\n",
       "      <th></th>\n",
       "      <th>one</th>\n",
       "      <th>two</th>\n",
       "      <th>three</th>\n",
       "      <th>four</th>\n",
       "    </tr>\n",
       "  </thead>\n",
       "  <tbody>\n",
       "    <tr>\n",
       "      <th>count</th>\n",
       "      <td>6.000000</td>\n",
       "      <td>6.000000</td>\n",
       "      <td>6.000000</td>\n",
       "      <td>6.000000</td>\n",
       "    </tr>\n",
       "    <tr>\n",
       "      <th>mean</th>\n",
       "      <td>0.118281</td>\n",
       "      <td>0.299026</td>\n",
       "      <td>0.835392</td>\n",
       "      <td>-0.250618</td>\n",
       "    </tr>\n",
       "    <tr>\n",
       "      <th>std</th>\n",
       "      <td>1.034118</td>\n",
       "      <td>0.680847</td>\n",
       "      <td>0.600200</td>\n",
       "      <td>0.745078</td>\n",
       "    </tr>\n",
       "    <tr>\n",
       "      <th>min</th>\n",
       "      <td>-1.600769</td>\n",
       "      <td>-0.263292</td>\n",
       "      <td>0.021585</td>\n",
       "      <td>-1.401094</td>\n",
       "    </tr>\n",
       "    <tr>\n",
       "      <th>25%</th>\n",
       "      <td>-0.345932</td>\n",
       "      <td>0.029884</td>\n",
       "      <td>0.493873</td>\n",
       "      <td>-0.701283</td>\n",
       "    </tr>\n",
       "    <tr>\n",
       "      <th>50%</th>\n",
       "      <td>0.332288</td>\n",
       "      <td>0.083114</td>\n",
       "      <td>0.868209</td>\n",
       "      <td>-0.041715</td>\n",
       "    </tr>\n",
       "    <tr>\n",
       "      <th>75%</th>\n",
       "      <td>0.952881</td>\n",
       "      <td>0.193047</td>\n",
       "      <td>1.056427</td>\n",
       "      <td>0.342385</td>\n",
       "    </tr>\n",
       "    <tr>\n",
       "      <th>max</th>\n",
       "      <td>1.058138</td>\n",
       "      <td>1.649387</td>\n",
       "      <td>1.766088</td>\n",
       "      <td>0.431538</td>\n",
       "    </tr>\n",
       "  </tbody>\n",
       "</table>\n",
       "</div>"
      ],
      "text/plain": [
       "            one       two     three      four\n",
       "count  6.000000  6.000000  6.000000  6.000000\n",
       "mean   0.118281  0.299026  0.835392 -0.250618\n",
       "std    1.034118  0.680847  0.600200  0.745078\n",
       "min   -1.600769 -0.263292  0.021585 -1.401094\n",
       "25%   -0.345932  0.029884  0.493873 -0.701283\n",
       "50%    0.332288  0.083114  0.868209 -0.041715\n",
       "75%    0.952881  0.193047  1.056427  0.342385\n",
       "max    1.058138  1.649387  1.766088  0.431538"
      ]
     },
     "execution_count": 12,
     "metadata": {},
     "output_type": "execute_result"
    }
   ],
   "source": [
    "df.describe()"
   ]
  },
  {
   "cell_type": "markdown",
   "metadata": {
    "_cell_guid": "21ba544f-8736-4382-8462-20f02c353328",
    "_uuid": "e5fb874c26019da50f1b68fbea8bcf0e7940809f"
   },
   "source": [
    "データを転置します。"
   ]
  },
  {
   "cell_type": "code",
   "execution_count": 13,
   "metadata": {
    "_cell_guid": "13e0e285-eac4-48fc-8a82-23491e8ebaf0",
    "_uuid": "ee5d4078cd8d5a545be55483208e73b9c9e939f4"
   },
   "outputs": [
    {
     "data": {
      "text/html": [
       "<div>\n",
       "<style>\n",
       "    .dataframe thead tr:only-child th {\n",
       "        text-align: right;\n",
       "    }\n",
       "\n",
       "    .dataframe thead th {\n",
       "        text-align: left;\n",
       "    }\n",
       "\n",
       "    .dataframe tbody tr th {\n",
       "        vertical-align: top;\n",
       "    }\n",
       "</style>\n",
       "<table border=\"1\" class=\"dataframe\">\n",
       "  <thead>\n",
       "    <tr style=\"text-align: right;\">\n",
       "      <th></th>\n",
       "      <th>2014-11-01 00:00:00</th>\n",
       "      <th>2014-11-02 00:00:00</th>\n",
       "      <th>2014-11-03 00:00:00</th>\n",
       "      <th>2014-11-04 00:00:00</th>\n",
       "      <th>2014-11-05 00:00:00</th>\n",
       "      <th>2014-11-06 00:00:00</th>\n",
       "    </tr>\n",
       "  </thead>\n",
       "  <tbody>\n",
       "    <tr>\n",
       "      <th>one</th>\n",
       "      <td>-1.600769</td>\n",
       "      <td>1.056213</td>\n",
       "      <td>1.058138</td>\n",
       "      <td>0.642886</td>\n",
       "      <td>0.021690</td>\n",
       "      <td>-0.468473</td>\n",
       "    </tr>\n",
       "    <tr>\n",
       "      <th>two</th>\n",
       "      <td>0.221099</td>\n",
       "      <td>-0.263292</td>\n",
       "      <td>1.649387</td>\n",
       "      <td>0.020734</td>\n",
       "      <td>0.057333</td>\n",
       "      <td>0.108894</td>\n",
       "    </tr>\n",
       "    <tr>\n",
       "      <th>three</th>\n",
       "      <td>0.021585</td>\n",
       "      <td>1.766088</td>\n",
       "      <td>1.075582</td>\n",
       "      <td>0.737457</td>\n",
       "      <td>0.998961</td>\n",
       "      <td>0.412678</td>\n",
       "    </tr>\n",
       "    <tr>\n",
       "      <th>four</th>\n",
       "      <td>-1.401094</td>\n",
       "      <td>-0.814938</td>\n",
       "      <td>0.431538</td>\n",
       "      <td>0.276887</td>\n",
       "      <td>-0.360318</td>\n",
       "      <td>0.364218</td>\n",
       "    </tr>\n",
       "  </tbody>\n",
       "</table>\n",
       "</div>"
      ],
      "text/plain": [
       "       2014-11-01  2014-11-02  2014-11-03  2014-11-04  2014-11-05  2014-11-06\n",
       "one     -1.600769    1.056213    1.058138    0.642886    0.021690   -0.468473\n",
       "two      0.221099   -0.263292    1.649387    0.020734    0.057333    0.108894\n",
       "three    0.021585    1.766088    1.075582    0.737457    0.998961    0.412678\n",
       "four    -1.401094   -0.814938    0.431538    0.276887   -0.360318    0.364218"
      ]
     },
     "execution_count": 13,
     "metadata": {},
     "output_type": "execute_result"
    }
   ],
   "source": [
    "df.T"
   ]
  },
  {
   "cell_type": "markdown",
   "metadata": {
    "_cell_guid": "d92b9eac-9dc6-446e-b87e-d50ef52630a8",
    "_uuid": "b526362d5e5f451a460ca3add042b633538055dc"
   },
   "source": [
    "軸によりソートします（この場合は、列名がアルファ別途の逆順となるようにソートします。）"
   ]
  },
  {
   "cell_type": "code",
   "execution_count": 14,
   "metadata": {
    "_cell_guid": "1dfd42f4-5231-4508-900f-1ddc37cdd250",
    "_uuid": "397ac00b05aa5867ba188f537ae7ac814275352c"
   },
   "outputs": [
    {
     "data": {
      "text/html": [
       "<div>\n",
       "<style>\n",
       "    .dataframe thead tr:only-child th {\n",
       "        text-align: right;\n",
       "    }\n",
       "\n",
       "    .dataframe thead th {\n",
       "        text-align: left;\n",
       "    }\n",
       "\n",
       "    .dataframe tbody tr th {\n",
       "        vertical-align: top;\n",
       "    }\n",
       "</style>\n",
       "<table border=\"1\" class=\"dataframe\">\n",
       "  <thead>\n",
       "    <tr style=\"text-align: right;\">\n",
       "      <th></th>\n",
       "      <th>two</th>\n",
       "      <th>three</th>\n",
       "      <th>one</th>\n",
       "      <th>four</th>\n",
       "    </tr>\n",
       "  </thead>\n",
       "  <tbody>\n",
       "    <tr>\n",
       "      <th>2014-11-01</th>\n",
       "      <td>0.221099</td>\n",
       "      <td>0.021585</td>\n",
       "      <td>-1.600769</td>\n",
       "      <td>-1.401094</td>\n",
       "    </tr>\n",
       "    <tr>\n",
       "      <th>2014-11-02</th>\n",
       "      <td>-0.263292</td>\n",
       "      <td>1.766088</td>\n",
       "      <td>1.056213</td>\n",
       "      <td>-0.814938</td>\n",
       "    </tr>\n",
       "    <tr>\n",
       "      <th>2014-11-03</th>\n",
       "      <td>1.649387</td>\n",
       "      <td>1.075582</td>\n",
       "      <td>1.058138</td>\n",
       "      <td>0.431538</td>\n",
       "    </tr>\n",
       "    <tr>\n",
       "      <th>2014-11-04</th>\n",
       "      <td>0.020734</td>\n",
       "      <td>0.737457</td>\n",
       "      <td>0.642886</td>\n",
       "      <td>0.276887</td>\n",
       "    </tr>\n",
       "    <tr>\n",
       "      <th>2014-11-05</th>\n",
       "      <td>0.057333</td>\n",
       "      <td>0.998961</td>\n",
       "      <td>0.021690</td>\n",
       "      <td>-0.360318</td>\n",
       "    </tr>\n",
       "    <tr>\n",
       "      <th>2014-11-06</th>\n",
       "      <td>0.108894</td>\n",
       "      <td>0.412678</td>\n",
       "      <td>-0.468473</td>\n",
       "      <td>0.364218</td>\n",
       "    </tr>\n",
       "  </tbody>\n",
       "</table>\n",
       "</div>"
      ],
      "text/plain": [
       "                 two     three       one      four\n",
       "2014-11-01  0.221099  0.021585 -1.600769 -1.401094\n",
       "2014-11-02 -0.263292  1.766088  1.056213 -0.814938\n",
       "2014-11-03  1.649387  1.075582  1.058138  0.431538\n",
       "2014-11-04  0.020734  0.737457  0.642886  0.276887\n",
       "2014-11-05  0.057333  0.998961  0.021690 -0.360318\n",
       "2014-11-06  0.108894  0.412678 -0.468473  0.364218"
      ]
     },
     "execution_count": 14,
     "metadata": {},
     "output_type": "execute_result"
    }
   ],
   "source": [
    "df.sort_index(axis=1, ascending=False)"
   ]
  },
  {
   "cell_type": "markdown",
   "metadata": {
    "_cell_guid": "9898c02b-57bd-48d6-884f-3fe8eb53b34a",
    "_uuid": "e3c6b93d9352a0660f989b63e09f03e05c9e1feb"
   },
   "source": [
    "値によりソートします。"
   ]
  },
  {
   "cell_type": "code",
   "execution_count": 15,
   "metadata": {
    "_cell_guid": "389c1344-4f60-4628-b6c1-de736d429d3a",
    "_uuid": "df1ac4e8bc643bbcc49f0769c52778ca19761a9e"
   },
   "outputs": [
    {
     "data": {
      "text/html": [
       "<div>\n",
       "<style>\n",
       "    .dataframe thead tr:only-child th {\n",
       "        text-align: right;\n",
       "    }\n",
       "\n",
       "    .dataframe thead th {\n",
       "        text-align: left;\n",
       "    }\n",
       "\n",
       "    .dataframe tbody tr th {\n",
       "        vertical-align: top;\n",
       "    }\n",
       "</style>\n",
       "<table border=\"1\" class=\"dataframe\">\n",
       "  <thead>\n",
       "    <tr style=\"text-align: right;\">\n",
       "      <th></th>\n",
       "      <th>one</th>\n",
       "      <th>two</th>\n",
       "      <th>three</th>\n",
       "      <th>four</th>\n",
       "    </tr>\n",
       "  </thead>\n",
       "  <tbody>\n",
       "    <tr>\n",
       "      <th>2014-11-02</th>\n",
       "      <td>1.056213</td>\n",
       "      <td>-0.263292</td>\n",
       "      <td>1.766088</td>\n",
       "      <td>-0.814938</td>\n",
       "    </tr>\n",
       "    <tr>\n",
       "      <th>2014-11-04</th>\n",
       "      <td>0.642886</td>\n",
       "      <td>0.020734</td>\n",
       "      <td>0.737457</td>\n",
       "      <td>0.276887</td>\n",
       "    </tr>\n",
       "    <tr>\n",
       "      <th>2014-11-05</th>\n",
       "      <td>0.021690</td>\n",
       "      <td>0.057333</td>\n",
       "      <td>0.998961</td>\n",
       "      <td>-0.360318</td>\n",
       "    </tr>\n",
       "    <tr>\n",
       "      <th>2014-11-06</th>\n",
       "      <td>-0.468473</td>\n",
       "      <td>0.108894</td>\n",
       "      <td>0.412678</td>\n",
       "      <td>0.364218</td>\n",
       "    </tr>\n",
       "    <tr>\n",
       "      <th>2014-11-01</th>\n",
       "      <td>-1.600769</td>\n",
       "      <td>0.221099</td>\n",
       "      <td>0.021585</td>\n",
       "      <td>-1.401094</td>\n",
       "    </tr>\n",
       "    <tr>\n",
       "      <th>2014-11-03</th>\n",
       "      <td>1.058138</td>\n",
       "      <td>1.649387</td>\n",
       "      <td>1.075582</td>\n",
       "      <td>0.431538</td>\n",
       "    </tr>\n",
       "  </tbody>\n",
       "</table>\n",
       "</div>"
      ],
      "text/plain": [
       "                 one       two     three      four\n",
       "2014-11-02  1.056213 -0.263292  1.766088 -0.814938\n",
       "2014-11-04  0.642886  0.020734  0.737457  0.276887\n",
       "2014-11-05  0.021690  0.057333  0.998961 -0.360318\n",
       "2014-11-06 -0.468473  0.108894  0.412678  0.364218\n",
       "2014-11-01 -1.600769  0.221099  0.021585 -1.401094\n",
       "2014-11-03  1.058138  1.649387  1.075582  0.431538"
      ]
     },
     "execution_count": 15,
     "metadata": {},
     "output_type": "execute_result"
    }
   ],
   "source": [
    "df.sort_values(by='two')"
   ]
  },
  {
   "cell_type": "markdown",
   "metadata": {
    "_cell_guid": "6e80dc85-7f33-4803-928c-8f327da5c15a",
    "_uuid": "5202ddc8b46f9ce7333977c7dc4c919304fbfd4b"
   },
   "source": [
    "# 選択"
   ]
  },
  {
   "cell_type": "markdown",
   "metadata": {
    "_cell_guid": "cbf1a871-cf24-46ae-8384-72d99f6b3c9a",
    "_uuid": "dd007c4689288bd481c99133d13cb05e204ca1a8"
   },
   "source": [
    "PythonやNumpyでの値の選択や設定の表現方法は、直感的であり、ちょっとした作業においては扱いやすい方法ですが、製品用のコードでは、.at, .iat, .loc, .iloc あるいは .ix.　といった最適化されたpandasのデータアクセス用のメソッドを使うことをおすすめします。\n",
    "\n",
    "参考 indexing documentation [Indexing and Selecting Data](https://pandas.pydata.org/pandas-docs/stable/indexing.html#indexing) and [MultiIndex / Advanced Indexing](https://pandas.pydata.org/pandas-docs/stable/advanced.html#advanced)"
   ]
  },
  {
   "cell_type": "markdown",
   "metadata": {
    "_cell_guid": "002668d8-3da6-4f78-bb84-0c1d3d42c81c",
    "_uuid": "446149fabdb526d11b6d42aa58a7219043a63210"
   },
   "source": [
    "## Getting"
   ]
  },
  {
   "cell_type": "markdown",
   "metadata": {
    "_cell_guid": "04f82f76-6390-4f0e-9a64-67619cc85e42",
    "_uuid": "8f34cc17657fc7f8b77f35c5beefdca76343994e"
   },
   "source": [
    "１つの列を選択すると、シリーズを得ることができます。これは、df.oneとするのと同じです。"
   ]
  },
  {
   "cell_type": "code",
   "execution_count": 104,
   "metadata": {
    "_cell_guid": "4be8e75e-64f3-453e-b3e5-b788b1c967a5",
    "_uuid": "9bd8927534a077d8d9c3d74747ea6ab3f5070d68"
   },
   "outputs": [
    {
     "data": {
      "text/plain": [
       "2014-11-01   -1.013910\n",
       "2014-11-02   -0.167958\n",
       "2014-11-03    0.620331\n",
       "2014-11-04   -0.648284\n",
       "2014-11-05   -0.544463\n",
       "2014-11-06    0.096059\n",
       "Freq: D, Name: one, dtype: float64"
      ]
     },
     "execution_count": 104,
     "metadata": {},
     "output_type": "execute_result"
    }
   ],
   "source": [
    "df['one']"
   ]
  },
  {
   "cell_type": "code",
   "execution_count": 105,
   "metadata": {
    "_cell_guid": "c0092d95-8fd7-4059-8938-580a05c70f6b",
    "_uuid": "9678ff7f4faaffc358ad10bb176d96c7d45ac236"
   },
   "outputs": [
    {
     "data": {
      "text/plain": [
       "2014-11-01   -1.013910\n",
       "2014-11-02   -0.167958\n",
       "2014-11-03    0.620331\n",
       "2014-11-04   -0.648284\n",
       "2014-11-05   -0.544463\n",
       "2014-11-06    0.096059\n",
       "Freq: D, Name: one, dtype: float64"
      ]
     },
     "execution_count": 105,
     "metadata": {},
     "output_type": "execute_result"
    }
   ],
   "source": [
    "df.one"
   ]
  },
  {
   "cell_type": "markdown",
   "metadata": {
    "_cell_guid": "a9160b5a-2a8d-42f7-a1a0-cf59481bbbe5",
    "_uuid": "724ce079707e2d58e3e6ec122a128fb280f85010"
   },
   "source": [
    " []を使って選択することにより、行をスライスできます。"
   ]
  },
  {
   "cell_type": "code",
   "execution_count": 18,
   "metadata": {
    "_cell_guid": "f5909120-c5ee-498a-8ed1-b4316b51226e",
    "_uuid": "dbcd1c56866336f25d10ebfb1dbd457b1c5c415e"
   },
   "outputs": [
    {
     "data": {
      "text/html": [
       "<div>\n",
       "<style>\n",
       "    .dataframe thead tr:only-child th {\n",
       "        text-align: right;\n",
       "    }\n",
       "\n",
       "    .dataframe thead th {\n",
       "        text-align: left;\n",
       "    }\n",
       "\n",
       "    .dataframe tbody tr th {\n",
       "        vertical-align: top;\n",
       "    }\n",
       "</style>\n",
       "<table border=\"1\" class=\"dataframe\">\n",
       "  <thead>\n",
       "    <tr style=\"text-align: right;\">\n",
       "      <th></th>\n",
       "      <th>one</th>\n",
       "      <th>two</th>\n",
       "      <th>three</th>\n",
       "      <th>four</th>\n",
       "    </tr>\n",
       "  </thead>\n",
       "  <tbody>\n",
       "    <tr>\n",
       "      <th>2014-11-01</th>\n",
       "      <td>-1.600769</td>\n",
       "      <td>0.221099</td>\n",
       "      <td>0.021585</td>\n",
       "      <td>-1.401094</td>\n",
       "    </tr>\n",
       "    <tr>\n",
       "      <th>2014-11-02</th>\n",
       "      <td>1.056213</td>\n",
       "      <td>-0.263292</td>\n",
       "      <td>1.766088</td>\n",
       "      <td>-0.814938</td>\n",
       "    </tr>\n",
       "    <tr>\n",
       "      <th>2014-11-03</th>\n",
       "      <td>1.058138</td>\n",
       "      <td>1.649387</td>\n",
       "      <td>1.075582</td>\n",
       "      <td>0.431538</td>\n",
       "    </tr>\n",
       "  </tbody>\n",
       "</table>\n",
       "</div>"
      ],
      "text/plain": [
       "                 one       two     three      four\n",
       "2014-11-01 -1.600769  0.221099  0.021585 -1.401094\n",
       "2014-11-02  1.056213 -0.263292  1.766088 -0.814938\n",
       "2014-11-03  1.058138  1.649387  1.075582  0.431538"
      ]
     },
     "execution_count": 18,
     "metadata": {},
     "output_type": "execute_result"
    }
   ],
   "source": [
    "df[0:3]"
   ]
  },
  {
   "cell_type": "code",
   "execution_count": 106,
   "metadata": {
    "_cell_guid": "0b5c50db-08a3-487e-8f9b-3fac98f0c336",
    "_uuid": "1bc96862bd0c4fde57487e71bce38dc272763a36"
   },
   "outputs": [
    {
     "data": {
      "text/html": [
       "<div>\n",
       "<style>\n",
       "    .dataframe thead tr:only-child th {\n",
       "        text-align: right;\n",
       "    }\n",
       "\n",
       "    .dataframe thead th {\n",
       "        text-align: left;\n",
       "    }\n",
       "\n",
       "    .dataframe tbody tr th {\n",
       "        vertical-align: top;\n",
       "    }\n",
       "</style>\n",
       "<table border=\"1\" class=\"dataframe\">\n",
       "  <thead>\n",
       "    <tr style=\"text-align: right;\">\n",
       "      <th></th>\n",
       "      <th>one</th>\n",
       "      <th>two</th>\n",
       "      <th>three</th>\n",
       "      <th>four</th>\n",
       "    </tr>\n",
       "  </thead>\n",
       "  <tbody>\n",
       "    <tr>\n",
       "      <th>2014-11-02</th>\n",
       "      <td>-0.167958</td>\n",
       "      <td>0.569376</td>\n",
       "      <td>0.042177</td>\n",
       "      <td>-1.073518</td>\n",
       "    </tr>\n",
       "    <tr>\n",
       "      <th>2014-11-03</th>\n",
       "      <td>0.620331</td>\n",
       "      <td>-2.125627</td>\n",
       "      <td>-1.148625</td>\n",
       "      <td>-0.860663</td>\n",
       "    </tr>\n",
       "    <tr>\n",
       "      <th>2014-11-04</th>\n",
       "      <td>-0.648284</td>\n",
       "      <td>-2.651192</td>\n",
       "      <td>0.211608</td>\n",
       "      <td>0.408859</td>\n",
       "    </tr>\n",
       "  </tbody>\n",
       "</table>\n",
       "</div>"
      ],
      "text/plain": [
       "                 one       two     three      four\n",
       "2014-11-02 -0.167958  0.569376  0.042177 -1.073518\n",
       "2014-11-03  0.620331 -2.125627 -1.148625 -0.860663\n",
       "2014-11-04 -0.648284 -2.651192  0.211608  0.408859"
      ]
     },
     "execution_count": 106,
     "metadata": {},
     "output_type": "execute_result"
    }
   ],
   "source": [
    "df['20141102':'20141104']"
   ]
  },
  {
   "cell_type": "markdown",
   "metadata": {
    "_cell_guid": "47120656-c870-4ccb-87d6-cdf0cb10628b",
    "_uuid": "50e9f44238b630e0f854dffa849f4a26f2b7abfd"
   },
   "source": [
    "## ラベルを使った選択"
   ]
  },
  {
   "cell_type": "markdown",
   "metadata": {
    "_cell_guid": "5eb8a10b-100c-4949-bf57-fc1b0b709023",
    "_uuid": "6c5b006e3dabd7dc506fb4c840b003667cdcb019"
   },
   "source": [
    "参考 [ Selection by Label](https://pandas.pydata.org/pandas-docs/stable/indexing.html#indexing-label)\n",
    "\n",
    "ラベルを使ってデータを選択する"
   ]
  },
  {
   "cell_type": "code",
   "execution_count": 107,
   "metadata": {
    "_cell_guid": "07d52142-94b9-42fb-a649-63f2f56bd3af",
    "_uuid": "34c5205092732b67a2de0667418af4f3e73fa18f"
   },
   "outputs": [
    {
     "data": {
      "text/plain": [
       "one     -1.013910\n",
       "two      0.645651\n",
       "three   -0.471663\n",
       "four     1.598430\n",
       "Name: 2014-11-01 00:00:00, dtype: float64"
      ]
     },
     "execution_count": 107,
     "metadata": {},
     "output_type": "execute_result"
    }
   ],
   "source": [
    "df.loc[dates[0]]"
   ]
  },
  {
   "cell_type": "markdown",
   "metadata": {
    "_cell_guid": "6a647eb5-c61b-4a01-a9a9-cc9de6284338",
    "_uuid": "847a4c224d66434bc572cdd3106c99bce8925607"
   },
   "source": [
    "ラベルを使って複数の軸で選択します。"
   ]
  },
  {
   "cell_type": "code",
   "execution_count": 21,
   "metadata": {
    "_cell_guid": "7001a024-168a-4c7f-bf36-d813fb798bfb",
    "_uuid": "f46aa94ce3199632c14f66aea3f9155fc57c8d3e"
   },
   "outputs": [
    {
     "data": {
      "text/html": [
       "<div>\n",
       "<style>\n",
       "    .dataframe thead tr:only-child th {\n",
       "        text-align: right;\n",
       "    }\n",
       "\n",
       "    .dataframe thead th {\n",
       "        text-align: left;\n",
       "    }\n",
       "\n",
       "    .dataframe tbody tr th {\n",
       "        vertical-align: top;\n",
       "    }\n",
       "</style>\n",
       "<table border=\"1\" class=\"dataframe\">\n",
       "  <thead>\n",
       "    <tr style=\"text-align: right;\">\n",
       "      <th></th>\n",
       "      <th>one</th>\n",
       "      <th>two</th>\n",
       "    </tr>\n",
       "  </thead>\n",
       "  <tbody>\n",
       "    <tr>\n",
       "      <th>2014-11-01</th>\n",
       "      <td>-1.600769</td>\n",
       "      <td>0.221099</td>\n",
       "    </tr>\n",
       "    <tr>\n",
       "      <th>2014-11-02</th>\n",
       "      <td>1.056213</td>\n",
       "      <td>-0.263292</td>\n",
       "    </tr>\n",
       "    <tr>\n",
       "      <th>2014-11-03</th>\n",
       "      <td>1.058138</td>\n",
       "      <td>1.649387</td>\n",
       "    </tr>\n",
       "    <tr>\n",
       "      <th>2014-11-04</th>\n",
       "      <td>0.642886</td>\n",
       "      <td>0.020734</td>\n",
       "    </tr>\n",
       "    <tr>\n",
       "      <th>2014-11-05</th>\n",
       "      <td>0.021690</td>\n",
       "      <td>0.057333</td>\n",
       "    </tr>\n",
       "    <tr>\n",
       "      <th>2014-11-06</th>\n",
       "      <td>-0.468473</td>\n",
       "      <td>0.108894</td>\n",
       "    </tr>\n",
       "  </tbody>\n",
       "</table>\n",
       "</div>"
      ],
      "text/plain": [
       "                 one       two\n",
       "2014-11-01 -1.600769  0.221099\n",
       "2014-11-02  1.056213 -0.263292\n",
       "2014-11-03  1.058138  1.649387\n",
       "2014-11-04  0.642886  0.020734\n",
       "2014-11-05  0.021690  0.057333\n",
       "2014-11-06 -0.468473  0.108894"
      ]
     },
     "execution_count": 21,
     "metadata": {},
     "output_type": "execute_result"
    }
   ],
   "source": [
    "df.loc[:,['one','two']]"
   ]
  },
  {
   "cell_type": "markdown",
   "metadata": {
    "_cell_guid": "e28a81bd-14eb-4931-a839-98d0ecaecd3c",
    "_uuid": "9a6ae941b46b104db1cd8def0545981d4733bfe9"
   },
   "source": [
    "ラベルを使ってスライスします。始点と終点が共に含まれます。"
   ]
  },
  {
   "cell_type": "code",
   "execution_count": 22,
   "metadata": {
    "_cell_guid": "96ab0649-01d3-48f2-b519-dd78c2186336",
    "_uuid": "e02bd76d6a3169255570d96c2cb84d1d19baafe9"
   },
   "outputs": [
    {
     "data": {
      "text/html": [
       "<div>\n",
       "<style>\n",
       "    .dataframe thead tr:only-child th {\n",
       "        text-align: right;\n",
       "    }\n",
       "\n",
       "    .dataframe thead th {\n",
       "        text-align: left;\n",
       "    }\n",
       "\n",
       "    .dataframe tbody tr th {\n",
       "        vertical-align: top;\n",
       "    }\n",
       "</style>\n",
       "<table border=\"1\" class=\"dataframe\">\n",
       "  <thead>\n",
       "    <tr style=\"text-align: right;\">\n",
       "      <th></th>\n",
       "      <th>one</th>\n",
       "      <th>two</th>\n",
       "    </tr>\n",
       "  </thead>\n",
       "  <tbody>\n",
       "    <tr>\n",
       "      <th>2014-11-02</th>\n",
       "      <td>1.056213</td>\n",
       "      <td>-0.263292</td>\n",
       "    </tr>\n",
       "    <tr>\n",
       "      <th>2014-11-03</th>\n",
       "      <td>1.058138</td>\n",
       "      <td>1.649387</td>\n",
       "    </tr>\n",
       "    <tr>\n",
       "      <th>2014-11-04</th>\n",
       "      <td>0.642886</td>\n",
       "      <td>0.020734</td>\n",
       "    </tr>\n",
       "  </tbody>\n",
       "</table>\n",
       "</div>"
      ],
      "text/plain": [
       "                 one       two\n",
       "2014-11-02  1.056213 -0.263292\n",
       "2014-11-03  1.058138  1.649387\n",
       "2014-11-04  0.642886  0.020734"
      ]
     },
     "execution_count": 22,
     "metadata": {},
     "output_type": "execute_result"
    }
   ],
   "source": [
    "df.loc['20141102':'20141104',['one','two']]"
   ]
  },
  {
   "cell_type": "markdown",
   "metadata": {
    "_cell_guid": "1da0f850-8b42-4221-ae51-223924b40266",
    "_uuid": "74e06e2a77ac27d580b88b90068a795052f00e8e"
   },
   "source": [
    "戻り値のオブジェクトの次元が削減されます。"
   ]
  },
  {
   "cell_type": "code",
   "execution_count": 23,
   "metadata": {
    "_cell_guid": "e7b0cb7d-70cc-41f6-8b55-32824b804241",
    "_uuid": "6477a1db5cf42f8260bc8c2cee54c2745fb255a1"
   },
   "outputs": [
    {
     "data": {
      "text/plain": [
       "one    1.056213\n",
       "two   -0.263292\n",
       "Name: 2014-11-02 00:00:00, dtype: float64"
      ]
     },
     "execution_count": 23,
     "metadata": {},
     "output_type": "execute_result"
    }
   ],
   "source": [
    "df.loc['20141102',['one','two']]"
   ]
  },
  {
   "cell_type": "markdown",
   "metadata": {
    "_cell_guid": "3d623580-97fc-456e-924f-5bab3121d87d",
    "_uuid": "9f4dd3322a60f1b105d9a21783287edb27c8ea0c"
   },
   "source": [
    "スカラーの値を取得します。"
   ]
  },
  {
   "cell_type": "code",
   "execution_count": 24,
   "metadata": {
    "_cell_guid": "5097b9ad-5170-41d8-857f-97142be556f5",
    "_uuid": "9f1d7120553ca8bb9a6b658c2f04e3bfe67f97a6"
   },
   "outputs": [
    {
     "data": {
      "text/plain": [
       "-1.6007688875678809"
      ]
     },
     "execution_count": 24,
     "metadata": {},
     "output_type": "execute_result"
    }
   ],
   "source": [
    "df.loc[dates[0],'one']"
   ]
  },
  {
   "cell_type": "markdown",
   "metadata": {
    "_cell_guid": "68f229fd-5117-4207-856e-5c6e4b58c135",
    "_uuid": "3586bfb5875d760a36ecf78e62dd0ca38a67b54b"
   },
   "source": [
    "スカラー値にすばやくアクセスする方法（前の方法と同じ値をより素早く取得できます。）"
   ]
  },
  {
   "cell_type": "code",
   "execution_count": 25,
   "metadata": {
    "_cell_guid": "39271947-9c6d-456a-aaf3-307e55d24442",
    "_uuid": "c30b411195fff3849b54bcdc3b658fbcc96cecbb"
   },
   "outputs": [
    {
     "data": {
      "text/plain": [
       "-1.6007688875678809"
      ]
     },
     "execution_count": 25,
     "metadata": {},
     "output_type": "execute_result"
    }
   ],
   "source": [
    "df.at[dates[0],'one']"
   ]
  },
  {
   "cell_type": "markdown",
   "metadata": {
    "_cell_guid": "7dd7fef8-149a-420f-a45b-af912c3f2369",
    "_uuid": "16f6dc5101bf7f1cef79a016c9b557ee910930ad"
   },
   "source": [
    "## ポジションによる選択"
   ]
  },
  {
   "cell_type": "markdown",
   "metadata": {
    "_cell_guid": "428d1a82-86e1-41d0-a416-52906afc8995",
    "_uuid": "a789524d4da761f0fa9b77b459acf52e8a6291b6"
   },
   "source": [
    "参考 [Selection by Position](Selection by Position)\n",
    "\n",
    "整数を渡して、ポジションにより選択を行います。"
   ]
  },
  {
   "cell_type": "code",
   "execution_count": 26,
   "metadata": {
    "_cell_guid": "fe438107-8d37-4714-8da7-d1c5b3afc846",
    "_uuid": "62558a81897d581168ee6c2b41f76267b9c91124"
   },
   "outputs": [
    {
     "data": {
      "text/plain": [
       "one      0.642886\n",
       "two      0.020734\n",
       "three    0.737457\n",
       "four     0.276887\n",
       "Name: 2014-11-04 00:00:00, dtype: float64"
      ]
     },
     "execution_count": 26,
     "metadata": {},
     "output_type": "execute_result"
    }
   ],
   "source": [
    "df.iloc[3]"
   ]
  },
  {
   "cell_type": "markdown",
   "metadata": {
    "_cell_guid": "cd04525c-ada2-4260-b5f7-747d4e5df884",
    "_uuid": "4709ff3e512e7d238ed456980113d4934499b5d6"
   },
   "source": [
    "numpy/pythonの整数によるスライスと似た動作をします。"
   ]
  },
  {
   "cell_type": "markdown",
   "metadata": {
    "_cell_guid": "728cc20e-ba9d-413d-9ee5-e76eb2735c8a",
    "_uuid": "602b716b2b8d28bede8043ce95f3247233d3b94c"
   },
   "source": [
    "整数からなるリストによるポジションの指定は、numpy/pythonのスタイルに似ています。"
   ]
  },
  {
   "cell_type": "code",
   "execution_count": 108,
   "metadata": {
    "_cell_guid": "0af7f46d-7da7-4b36-bcfd-02a9fdb8dbe5",
    "_uuid": "83f0a59d8beabd0bb6192467ebe9b287a3216776"
   },
   "outputs": [
    {
     "data": {
      "text/html": [
       "<div>\n",
       "<style>\n",
       "    .dataframe thead tr:only-child th {\n",
       "        text-align: right;\n",
       "    }\n",
       "\n",
       "    .dataframe thead th {\n",
       "        text-align: left;\n",
       "    }\n",
       "\n",
       "    .dataframe tbody tr th {\n",
       "        vertical-align: top;\n",
       "    }\n",
       "</style>\n",
       "<table border=\"1\" class=\"dataframe\">\n",
       "  <thead>\n",
       "    <tr style=\"text-align: right;\">\n",
       "      <th></th>\n",
       "      <th>one</th>\n",
       "      <th>three</th>\n",
       "    </tr>\n",
       "  </thead>\n",
       "  <tbody>\n",
       "    <tr>\n",
       "      <th>2014-11-02</th>\n",
       "      <td>-0.167958</td>\n",
       "      <td>0.042177</td>\n",
       "    </tr>\n",
       "    <tr>\n",
       "      <th>2014-11-03</th>\n",
       "      <td>0.620331</td>\n",
       "      <td>-1.148625</td>\n",
       "    </tr>\n",
       "    <tr>\n",
       "      <th>2014-11-05</th>\n",
       "      <td>-0.544463</td>\n",
       "      <td>0.172779</td>\n",
       "    </tr>\n",
       "  </tbody>\n",
       "</table>\n",
       "</div>"
      ],
      "text/plain": [
       "                 one     three\n",
       "2014-11-02 -0.167958  0.042177\n",
       "2014-11-03  0.620331 -1.148625\n",
       "2014-11-05 -0.544463  0.172779"
      ]
     },
     "execution_count": 108,
     "metadata": {},
     "output_type": "execute_result"
    }
   ],
   "source": [
    "df.iloc[[1,2,4],[0,2]]"
   ]
  },
  {
   "cell_type": "markdown",
   "metadata": {
    "_cell_guid": "e9f6b749-ad67-4d89-aaed-4024b8530936",
    "_uuid": "61639e9a7523b05fb1a03d464ffa1f1eb1688efb"
   },
   "source": [
    "行の範囲を直接指定してスライスします。"
   ]
  },
  {
   "cell_type": "code",
   "execution_count": 109,
   "metadata": {
    "_cell_guid": "467719ff-d23e-45c2-9657-0b7bcaff6655",
    "_uuid": "8d69d0090825b1644d037ecb051afdb9633628d3"
   },
   "outputs": [
    {
     "data": {
      "text/html": [
       "<div>\n",
       "<style>\n",
       "    .dataframe thead tr:only-child th {\n",
       "        text-align: right;\n",
       "    }\n",
       "\n",
       "    .dataframe thead th {\n",
       "        text-align: left;\n",
       "    }\n",
       "\n",
       "    .dataframe tbody tr th {\n",
       "        vertical-align: top;\n",
       "    }\n",
       "</style>\n",
       "<table border=\"1\" class=\"dataframe\">\n",
       "  <thead>\n",
       "    <tr style=\"text-align: right;\">\n",
       "      <th></th>\n",
       "      <th>one</th>\n",
       "      <th>two</th>\n",
       "      <th>three</th>\n",
       "      <th>four</th>\n",
       "    </tr>\n",
       "  </thead>\n",
       "  <tbody>\n",
       "    <tr>\n",
       "      <th>2014-11-02</th>\n",
       "      <td>-0.167958</td>\n",
       "      <td>0.569376</td>\n",
       "      <td>0.042177</td>\n",
       "      <td>-1.073518</td>\n",
       "    </tr>\n",
       "    <tr>\n",
       "      <th>2014-11-03</th>\n",
       "      <td>0.620331</td>\n",
       "      <td>-2.125627</td>\n",
       "      <td>-1.148625</td>\n",
       "      <td>-0.860663</td>\n",
       "    </tr>\n",
       "  </tbody>\n",
       "</table>\n",
       "</div>"
      ],
      "text/plain": [
       "                 one       two     three      four\n",
       "2014-11-02 -0.167958  0.569376  0.042177 -1.073518\n",
       "2014-11-03  0.620331 -2.125627 -1.148625 -0.860663"
      ]
     },
     "execution_count": 109,
     "metadata": {},
     "output_type": "execute_result"
    }
   ],
   "source": [
    "df.iloc[1:3,:]"
   ]
  },
  {
   "cell_type": "markdown",
   "metadata": {
    "_cell_guid": "38c01dfe-f13a-4cef-bfed-b49e77eef480",
    "_uuid": "aa3ccb6ed055424381bdb3e41b97ea2f881d19db"
   },
   "source": [
    "コラムの範囲を直接指定してスライスします。"
   ]
  },
  {
   "cell_type": "code",
   "execution_count": 29,
   "metadata": {
    "_cell_guid": "7a0bdd04-6670-4821-8328-3090827a13ed",
    "_uuid": "c14695bf9699073d68e0aeb63973a58bee51c57c"
   },
   "outputs": [
    {
     "data": {
      "text/html": [
       "<div>\n",
       "<style>\n",
       "    .dataframe thead tr:only-child th {\n",
       "        text-align: right;\n",
       "    }\n",
       "\n",
       "    .dataframe thead th {\n",
       "        text-align: left;\n",
       "    }\n",
       "\n",
       "    .dataframe tbody tr th {\n",
       "        vertical-align: top;\n",
       "    }\n",
       "</style>\n",
       "<table border=\"1\" class=\"dataframe\">\n",
       "  <thead>\n",
       "    <tr style=\"text-align: right;\">\n",
       "      <th></th>\n",
       "      <th>two</th>\n",
       "      <th>three</th>\n",
       "    </tr>\n",
       "  </thead>\n",
       "  <tbody>\n",
       "    <tr>\n",
       "      <th>2014-11-01</th>\n",
       "      <td>0.221099</td>\n",
       "      <td>0.021585</td>\n",
       "    </tr>\n",
       "    <tr>\n",
       "      <th>2014-11-02</th>\n",
       "      <td>-0.263292</td>\n",
       "      <td>1.766088</td>\n",
       "    </tr>\n",
       "    <tr>\n",
       "      <th>2014-11-03</th>\n",
       "      <td>1.649387</td>\n",
       "      <td>1.075582</td>\n",
       "    </tr>\n",
       "    <tr>\n",
       "      <th>2014-11-04</th>\n",
       "      <td>0.020734</td>\n",
       "      <td>0.737457</td>\n",
       "    </tr>\n",
       "    <tr>\n",
       "      <th>2014-11-05</th>\n",
       "      <td>0.057333</td>\n",
       "      <td>0.998961</td>\n",
       "    </tr>\n",
       "    <tr>\n",
       "      <th>2014-11-06</th>\n",
       "      <td>0.108894</td>\n",
       "      <td>0.412678</td>\n",
       "    </tr>\n",
       "  </tbody>\n",
       "</table>\n",
       "</div>"
      ],
      "text/plain": [
       "                 two     three\n",
       "2014-11-01  0.221099  0.021585\n",
       "2014-11-02 -0.263292  1.766088\n",
       "2014-11-03  1.649387  1.075582\n",
       "2014-11-04  0.020734  0.737457\n",
       "2014-11-05  0.057333  0.998961\n",
       "2014-11-06  0.108894  0.412678"
      ]
     },
     "execution_count": 29,
     "metadata": {},
     "output_type": "execute_result"
    }
   ],
   "source": [
    "df.iloc[:,1:3]"
   ]
  },
  {
   "cell_type": "markdown",
   "metadata": {
    "_cell_guid": "c7526fcd-5d0f-41c0-946f-726fadd3d8cf",
    "_uuid": "728d45f365a6e58c4fe60caaec27170c956b47e5"
   },
   "source": [
    "値を明示的に取得します。"
   ]
  },
  {
   "cell_type": "code",
   "execution_count": 111,
   "metadata": {
    "_cell_guid": "32c6bb98-903a-45b1-b430-08d1b898e813",
    "_uuid": "8c824f1f3d44d8ed41b7b1328354863861ee9ef2"
   },
   "outputs": [
    {
     "data": {
      "text/plain": [
       "0.56937593883029136"
      ]
     },
     "execution_count": 111,
     "metadata": {},
     "output_type": "execute_result"
    }
   ],
   "source": [
    "df.iloc[1,1]"
   ]
  },
  {
   "cell_type": "markdown",
   "metadata": {
    "_cell_guid": "24a9bd7b-8362-4722-8aa2-0c2484163586",
    "_uuid": "9cc662005289530c6cf43b87dabd314a313ffde1"
   },
   "source": [
    "スカラー値にすばやくアクセスする方法（前の方法と同等でより素早く取得できます。）"
   ]
  },
  {
   "cell_type": "code",
   "execution_count": 114,
   "metadata": {
    "_cell_guid": "2080b00d-b540-4bba-b8bc-682b80356290",
    "_uuid": "dfedfb75ff53703c78c0558f2822b01a0b8af49e"
   },
   "outputs": [
    {
     "data": {
      "text/plain": [
       "-1.0139101669449526"
      ]
     },
     "execution_count": 114,
     "metadata": {},
     "output_type": "execute_result"
    }
   ],
   "source": [
    "df.iat[0,0]"
   ]
  },
  {
   "cell_type": "markdown",
   "metadata": {
    "_cell_guid": "4205069b-9b81-4015-8113-80e5997ed02a",
    "_uuid": "1f65376861105ccf80d8230b7518ec631e869383"
   },
   "source": [
    "## 条件による選択\n",
    "単一のコラムの値によるデータの選択"
   ]
  },
  {
   "cell_type": "code",
   "execution_count": 115,
   "metadata": {
    "_cell_guid": "b7d6f231-8fca-4b94-b4da-7e1077bfc1c6",
    "_uuid": "0897ab764824072dc3d6d45bc03c70f1f29c6833"
   },
   "outputs": [
    {
     "data": {
      "text/html": [
       "<div>\n",
       "<style>\n",
       "    .dataframe thead tr:only-child th {\n",
       "        text-align: right;\n",
       "    }\n",
       "\n",
       "    .dataframe thead th {\n",
       "        text-align: left;\n",
       "    }\n",
       "\n",
       "    .dataframe tbody tr th {\n",
       "        vertical-align: top;\n",
       "    }\n",
       "</style>\n",
       "<table border=\"1\" class=\"dataframe\">\n",
       "  <thead>\n",
       "    <tr style=\"text-align: right;\">\n",
       "      <th></th>\n",
       "      <th>one</th>\n",
       "      <th>two</th>\n",
       "      <th>three</th>\n",
       "      <th>four</th>\n",
       "    </tr>\n",
       "  </thead>\n",
       "  <tbody>\n",
       "    <tr>\n",
       "      <th>2014-11-03</th>\n",
       "      <td>0.620331</td>\n",
       "      <td>-2.125627</td>\n",
       "      <td>-1.148625</td>\n",
       "      <td>-0.860663</td>\n",
       "    </tr>\n",
       "  </tbody>\n",
       "</table>\n",
       "</div>"
      ],
      "text/plain": [
       "                 one       two     three      four\n",
       "2014-11-03  0.620331 -2.125627 -1.148625 -0.860663"
      ]
     },
     "execution_count": 115,
     "metadata": {},
     "output_type": "execute_result"
    }
   ],
   "source": [
    "df[df.one > 0.5]"
   ]
  },
  {
   "cell_type": "markdown",
   "metadata": {
    "_cell_guid": "001075c2-f7be-4218-9683-ffa1f5d9240e",
    "_uuid": "4b70f057a80db995d082b8d30c54ba603fe2cb62"
   },
   "source": [
    "データフレームの値が条件に合致するかどうかによる選択"
   ]
  },
  {
   "cell_type": "code",
   "execution_count": 116,
   "metadata": {
    "_cell_guid": "01955ea3-17c6-4b0d-8d2e-cc5d654bb6cf",
    "_uuid": "8a6a6d699089df278c1436c28b9ff50c18e424ec"
   },
   "outputs": [
    {
     "data": {
      "text/html": [
       "<div>\n",
       "<style>\n",
       "    .dataframe thead tr:only-child th {\n",
       "        text-align: right;\n",
       "    }\n",
       "\n",
       "    .dataframe thead th {\n",
       "        text-align: left;\n",
       "    }\n",
       "\n",
       "    .dataframe tbody tr th {\n",
       "        vertical-align: top;\n",
       "    }\n",
       "</style>\n",
       "<table border=\"1\" class=\"dataframe\">\n",
       "  <thead>\n",
       "    <tr style=\"text-align: right;\">\n",
       "      <th></th>\n",
       "      <th>one</th>\n",
       "      <th>two</th>\n",
       "      <th>three</th>\n",
       "      <th>four</th>\n",
       "    </tr>\n",
       "  </thead>\n",
       "  <tbody>\n",
       "    <tr>\n",
       "      <th>2014-11-01</th>\n",
       "      <td>NaN</td>\n",
       "      <td>0.645651</td>\n",
       "      <td>NaN</td>\n",
       "      <td>1.598430</td>\n",
       "    </tr>\n",
       "    <tr>\n",
       "      <th>2014-11-02</th>\n",
       "      <td>NaN</td>\n",
       "      <td>0.569376</td>\n",
       "      <td>0.042177</td>\n",
       "      <td>NaN</td>\n",
       "    </tr>\n",
       "    <tr>\n",
       "      <th>2014-11-03</th>\n",
       "      <td>0.620331</td>\n",
       "      <td>NaN</td>\n",
       "      <td>NaN</td>\n",
       "      <td>NaN</td>\n",
       "    </tr>\n",
       "    <tr>\n",
       "      <th>2014-11-04</th>\n",
       "      <td>NaN</td>\n",
       "      <td>NaN</td>\n",
       "      <td>0.211608</td>\n",
       "      <td>0.408859</td>\n",
       "    </tr>\n",
       "    <tr>\n",
       "      <th>2014-11-05</th>\n",
       "      <td>NaN</td>\n",
       "      <td>NaN</td>\n",
       "      <td>0.172779</td>\n",
       "      <td>0.771743</td>\n",
       "    </tr>\n",
       "    <tr>\n",
       "      <th>2014-11-06</th>\n",
       "      <td>0.096059</td>\n",
       "      <td>2.273602</td>\n",
       "      <td>NaN</td>\n",
       "      <td>0.490312</td>\n",
       "    </tr>\n",
       "  </tbody>\n",
       "</table>\n",
       "</div>"
      ],
      "text/plain": [
       "                 one       two     three      four\n",
       "2014-11-01       NaN  0.645651       NaN  1.598430\n",
       "2014-11-02       NaN  0.569376  0.042177       NaN\n",
       "2014-11-03  0.620331       NaN       NaN       NaN\n",
       "2014-11-04       NaN       NaN  0.211608  0.408859\n",
       "2014-11-05       NaN       NaN  0.172779  0.771743\n",
       "2014-11-06  0.096059  2.273602       NaN  0.490312"
      ]
     },
     "execution_count": 116,
     "metadata": {},
     "output_type": "execute_result"
    }
   ],
   "source": [
    "df[df>0]"
   ]
  },
  {
   "cell_type": "markdown",
   "metadata": {
    "_cell_guid": "0d9b0104-071e-4b67-a28c-af0a3b5298c5",
    "_uuid": "152e38c5f8c9b1623f719b3d733d4a7dd83d37bd"
   },
   "source": [
    "isin メソッドを使ったフィルターリング"
   ]
  },
  {
   "cell_type": "code",
   "execution_count": 118,
   "metadata": {
    "_cell_guid": "81efdb26-8d6d-4d30-8095-0212e2068bd7",
    "_uuid": "ac6deb8efac6fea270befc2c5a444825de86a270"
   },
   "outputs": [
    {
     "data": {
      "text/html": [
       "<div>\n",
       "<style>\n",
       "    .dataframe thead tr:only-child th {\n",
       "        text-align: right;\n",
       "    }\n",
       "\n",
       "    .dataframe thead th {\n",
       "        text-align: left;\n",
       "    }\n",
       "\n",
       "    .dataframe tbody tr th {\n",
       "        vertical-align: top;\n",
       "    }\n",
       "</style>\n",
       "<table border=\"1\" class=\"dataframe\">\n",
       "  <thead>\n",
       "    <tr style=\"text-align: right;\">\n",
       "      <th></th>\n",
       "      <th>one</th>\n",
       "      <th>two</th>\n",
       "      <th>three</th>\n",
       "      <th>four</th>\n",
       "      <th>five</th>\n",
       "    </tr>\n",
       "  </thead>\n",
       "  <tbody>\n",
       "    <tr>\n",
       "      <th>2014-11-01</th>\n",
       "      <td>-1.013910</td>\n",
       "      <td>0.645651</td>\n",
       "      <td>-0.471663</td>\n",
       "      <td>1.598430</td>\n",
       "      <td>one</td>\n",
       "    </tr>\n",
       "    <tr>\n",
       "      <th>2014-11-02</th>\n",
       "      <td>-0.167958</td>\n",
       "      <td>0.569376</td>\n",
       "      <td>0.042177</td>\n",
       "      <td>-1.073518</td>\n",
       "      <td>one</td>\n",
       "    </tr>\n",
       "    <tr>\n",
       "      <th>2014-11-03</th>\n",
       "      <td>0.620331</td>\n",
       "      <td>-2.125627</td>\n",
       "      <td>-1.148625</td>\n",
       "      <td>-0.860663</td>\n",
       "      <td>two</td>\n",
       "    </tr>\n",
       "    <tr>\n",
       "      <th>2014-11-04</th>\n",
       "      <td>-0.648284</td>\n",
       "      <td>-2.651192</td>\n",
       "      <td>0.211608</td>\n",
       "      <td>0.408859</td>\n",
       "      <td>three</td>\n",
       "    </tr>\n",
       "    <tr>\n",
       "      <th>2014-11-05</th>\n",
       "      <td>-0.544463</td>\n",
       "      <td>-0.098360</td>\n",
       "      <td>0.172779</td>\n",
       "      <td>0.771743</td>\n",
       "      <td>four</td>\n",
       "    </tr>\n",
       "    <tr>\n",
       "      <th>2014-11-06</th>\n",
       "      <td>0.096059</td>\n",
       "      <td>2.273602</td>\n",
       "      <td>-1.125638</td>\n",
       "      <td>0.490312</td>\n",
       "      <td>three</td>\n",
       "    </tr>\n",
       "  </tbody>\n",
       "</table>\n",
       "</div>"
      ],
      "text/plain": [
       "                 one       two     three      four   five\n",
       "2014-11-01 -1.013910  0.645651 -0.471663  1.598430    one\n",
       "2014-11-02 -0.167958  0.569376  0.042177 -1.073518    one\n",
       "2014-11-03  0.620331 -2.125627 -1.148625 -0.860663    two\n",
       "2014-11-04 -0.648284 -2.651192  0.211608  0.408859  three\n",
       "2014-11-05 -0.544463 -0.098360  0.172779  0.771743   four\n",
       "2014-11-06  0.096059  2.273602 -1.125638  0.490312  three"
      ]
     },
     "execution_count": 118,
     "metadata": {},
     "output_type": "execute_result"
    }
   ],
   "source": [
    "df2 = df.copy()\n",
    "df2['five'] = ['one', 'one','two','three','four','three']\n",
    "df2"
   ]
  },
  {
   "cell_type": "code",
   "execution_count": 119,
   "metadata": {
    "_cell_guid": "b8a6507a-ab97-4884-ad6b-86ce08b562b1",
    "_uuid": "1057b0c34eae282d8b234583497a6e9d53a254f5"
   },
   "outputs": [
    {
     "data": {
      "text/html": [
       "<div>\n",
       "<style>\n",
       "    .dataframe thead tr:only-child th {\n",
       "        text-align: right;\n",
       "    }\n",
       "\n",
       "    .dataframe thead th {\n",
       "        text-align: left;\n",
       "    }\n",
       "\n",
       "    .dataframe tbody tr th {\n",
       "        vertical-align: top;\n",
       "    }\n",
       "</style>\n",
       "<table border=\"1\" class=\"dataframe\">\n",
       "  <thead>\n",
       "    <tr style=\"text-align: right;\">\n",
       "      <th></th>\n",
       "      <th>one</th>\n",
       "      <th>two</th>\n",
       "      <th>three</th>\n",
       "      <th>four</th>\n",
       "      <th>five</th>\n",
       "    </tr>\n",
       "  </thead>\n",
       "  <tbody>\n",
       "    <tr>\n",
       "      <th>2014-11-03</th>\n",
       "      <td>0.620331</td>\n",
       "      <td>-2.125627</td>\n",
       "      <td>-1.148625</td>\n",
       "      <td>-0.860663</td>\n",
       "      <td>two</td>\n",
       "    </tr>\n",
       "    <tr>\n",
       "      <th>2014-11-05</th>\n",
       "      <td>-0.544463</td>\n",
       "      <td>-0.098360</td>\n",
       "      <td>0.172779</td>\n",
       "      <td>0.771743</td>\n",
       "      <td>four</td>\n",
       "    </tr>\n",
       "  </tbody>\n",
       "</table>\n",
       "</div>"
      ],
      "text/plain": [
       "                 one       two     three      four  five\n",
       "2014-11-03  0.620331 -2.125627 -1.148625 -0.860663   two\n",
       "2014-11-05 -0.544463 -0.098360  0.172779  0.771743  four"
      ]
     },
     "execution_count": 119,
     "metadata": {},
     "output_type": "execute_result"
    }
   ],
   "source": [
    "df2[df2['five'].isin(['two','four'])]"
   ]
  },
  {
   "cell_type": "markdown",
   "metadata": {
    "_cell_guid": "b6eff184-f774-4668-a5fa-2eb792a8ee19",
    "_uuid": "36dc62173e385467dca8e0b12398ce00cd3bc7c9"
   },
   "source": [
    "## 値の設定\n",
    "新規のコラムのデータはインデックスに従って自動的に配置されます。"
   ]
  },
  {
   "cell_type": "code",
   "execution_count": 120,
   "metadata": {
    "_cell_guid": "4d61f140-af66-4b4c-9296-17e243bf4991",
    "_uuid": "c0f9338b687ee3fb7b535f772955de1cb232e10e"
   },
   "outputs": [
    {
     "data": {
      "text/plain": [
       "2014-11-01    1\n",
       "2014-11-02    2\n",
       "2014-11-03    3\n",
       "2014-11-04    4\n",
       "2014-11-05    5\n",
       "2014-11-06    6\n",
       "Freq: D, dtype: int64"
      ]
     },
     "execution_count": 120,
     "metadata": {},
     "output_type": "execute_result"
    }
   ],
   "source": [
    "s1 = pd.Series([1,2,3,4,5,6], index=pd.date_range('20141101', periods=6))\n",
    "s1"
   ]
  },
  {
   "cell_type": "code",
   "execution_count": 121,
   "metadata": {
    "_cell_guid": "ef2e599f-68db-48c8-b750-e8f5143fe407",
    "_uuid": "6f01ca50121e0d9289c675ea6de02a716ae66dfb"
   },
   "outputs": [
    {
     "data": {
      "text/html": [
       "<div>\n",
       "<style>\n",
       "    .dataframe thead tr:only-child th {\n",
       "        text-align: right;\n",
       "    }\n",
       "\n",
       "    .dataframe thead th {\n",
       "        text-align: left;\n",
       "    }\n",
       "\n",
       "    .dataframe tbody tr th {\n",
       "        vertical-align: top;\n",
       "    }\n",
       "</style>\n",
       "<table border=\"1\" class=\"dataframe\">\n",
       "  <thead>\n",
       "    <tr style=\"text-align: right;\">\n",
       "      <th></th>\n",
       "      <th>one</th>\n",
       "      <th>two</th>\n",
       "      <th>three</th>\n",
       "      <th>four</th>\n",
       "      <th>six</th>\n",
       "    </tr>\n",
       "  </thead>\n",
       "  <tbody>\n",
       "    <tr>\n",
       "      <th>2014-11-01</th>\n",
       "      <td>-1.013910</td>\n",
       "      <td>0.645651</td>\n",
       "      <td>-0.471663</td>\n",
       "      <td>1.598430</td>\n",
       "      <td>1</td>\n",
       "    </tr>\n",
       "    <tr>\n",
       "      <th>2014-11-02</th>\n",
       "      <td>-0.167958</td>\n",
       "      <td>0.569376</td>\n",
       "      <td>0.042177</td>\n",
       "      <td>-1.073518</td>\n",
       "      <td>2</td>\n",
       "    </tr>\n",
       "    <tr>\n",
       "      <th>2014-11-03</th>\n",
       "      <td>0.620331</td>\n",
       "      <td>-2.125627</td>\n",
       "      <td>-1.148625</td>\n",
       "      <td>-0.860663</td>\n",
       "      <td>3</td>\n",
       "    </tr>\n",
       "    <tr>\n",
       "      <th>2014-11-04</th>\n",
       "      <td>-0.648284</td>\n",
       "      <td>-2.651192</td>\n",
       "      <td>0.211608</td>\n",
       "      <td>0.408859</td>\n",
       "      <td>4</td>\n",
       "    </tr>\n",
       "    <tr>\n",
       "      <th>2014-11-05</th>\n",
       "      <td>-0.544463</td>\n",
       "      <td>-0.098360</td>\n",
       "      <td>0.172779</td>\n",
       "      <td>0.771743</td>\n",
       "      <td>5</td>\n",
       "    </tr>\n",
       "    <tr>\n",
       "      <th>2014-11-06</th>\n",
       "      <td>0.096059</td>\n",
       "      <td>2.273602</td>\n",
       "      <td>-1.125638</td>\n",
       "      <td>0.490312</td>\n",
       "      <td>6</td>\n",
       "    </tr>\n",
       "  </tbody>\n",
       "</table>\n",
       "</div>"
      ],
      "text/plain": [
       "                 one       two     three      four  six\n",
       "2014-11-01 -1.013910  0.645651 -0.471663  1.598430    1\n",
       "2014-11-02 -0.167958  0.569376  0.042177 -1.073518    2\n",
       "2014-11-03  0.620331 -2.125627 -1.148625 -0.860663    3\n",
       "2014-11-04 -0.648284 -2.651192  0.211608  0.408859    4\n",
       "2014-11-05 -0.544463 -0.098360  0.172779  0.771743    5\n",
       "2014-11-06  0.096059  2.273602 -1.125638  0.490312    6"
      ]
     },
     "execution_count": 121,
     "metadata": {},
     "output_type": "execute_result"
    }
   ],
   "source": [
    "df['six'] = s1\n",
    "df"
   ]
  },
  {
   "cell_type": "markdown",
   "metadata": {
    "_cell_guid": "360096be-309b-4cc7-8ecb-d23721cb14a2",
    "_uuid": "ae8946ddaffc0e88adab4a082e2ffd2252700078"
   },
   "source": [
    "それぞれの軸のラベルを使ってデータを設定します。"
   ]
  },
  {
   "cell_type": "code",
   "execution_count": 38,
   "metadata": {
    "_cell_guid": "a3acd34a-8443-4d9a-83e7-8b98dc75ba63",
    "_uuid": "190aff49aae8c1396239b406e9909e62de82c0b3"
   },
   "outputs": [
    {
     "data": {
      "text/html": [
       "<div>\n",
       "<style>\n",
       "    .dataframe thead tr:only-child th {\n",
       "        text-align: right;\n",
       "    }\n",
       "\n",
       "    .dataframe thead th {\n",
       "        text-align: left;\n",
       "    }\n",
       "\n",
       "    .dataframe tbody tr th {\n",
       "        vertical-align: top;\n",
       "    }\n",
       "</style>\n",
       "<table border=\"1\" class=\"dataframe\">\n",
       "  <thead>\n",
       "    <tr style=\"text-align: right;\">\n",
       "      <th></th>\n",
       "      <th>one</th>\n",
       "      <th>two</th>\n",
       "      <th>three</th>\n",
       "      <th>four</th>\n",
       "      <th>six</th>\n",
       "    </tr>\n",
       "  </thead>\n",
       "  <tbody>\n",
       "    <tr>\n",
       "      <th>2014-11-01</th>\n",
       "      <td>0.000000</td>\n",
       "      <td>0.221099</td>\n",
       "      <td>0.021585</td>\n",
       "      <td>-1.401094</td>\n",
       "      <td>1</td>\n",
       "    </tr>\n",
       "    <tr>\n",
       "      <th>2014-11-02</th>\n",
       "      <td>1.056213</td>\n",
       "      <td>-0.263292</td>\n",
       "      <td>1.766088</td>\n",
       "      <td>-0.814938</td>\n",
       "      <td>2</td>\n",
       "    </tr>\n",
       "    <tr>\n",
       "      <th>2014-11-03</th>\n",
       "      <td>1.058138</td>\n",
       "      <td>1.649387</td>\n",
       "      <td>1.075582</td>\n",
       "      <td>0.431538</td>\n",
       "      <td>3</td>\n",
       "    </tr>\n",
       "    <tr>\n",
       "      <th>2014-11-04</th>\n",
       "      <td>0.642886</td>\n",
       "      <td>0.020734</td>\n",
       "      <td>0.737457</td>\n",
       "      <td>0.276887</td>\n",
       "      <td>4</td>\n",
       "    </tr>\n",
       "    <tr>\n",
       "      <th>2014-11-05</th>\n",
       "      <td>0.021690</td>\n",
       "      <td>0.057333</td>\n",
       "      <td>0.998961</td>\n",
       "      <td>-0.360318</td>\n",
       "      <td>5</td>\n",
       "    </tr>\n",
       "    <tr>\n",
       "      <th>2014-11-06</th>\n",
       "      <td>-0.468473</td>\n",
       "      <td>0.108894</td>\n",
       "      <td>0.412678</td>\n",
       "      <td>0.364218</td>\n",
       "      <td>6</td>\n",
       "    </tr>\n",
       "  </tbody>\n",
       "</table>\n",
       "</div>"
      ],
      "text/plain": [
       "                 one       two     three      four  six\n",
       "2014-11-01  0.000000  0.221099  0.021585 -1.401094    1\n",
       "2014-11-02  1.056213 -0.263292  1.766088 -0.814938    2\n",
       "2014-11-03  1.058138  1.649387  1.075582  0.431538    3\n",
       "2014-11-04  0.642886  0.020734  0.737457  0.276887    4\n",
       "2014-11-05  0.021690  0.057333  0.998961 -0.360318    5\n",
       "2014-11-06 -0.468473  0.108894  0.412678  0.364218    6"
      ]
     },
     "execution_count": 38,
     "metadata": {},
     "output_type": "execute_result"
    }
   ],
   "source": [
    "df.at[dates[0],'one'] = 0\n",
    "df"
   ]
  },
  {
   "cell_type": "markdown",
   "metadata": {
    "_cell_guid": "0da27b58-8d50-424c-85a5-a13606a93e8a",
    "_uuid": "2b4a495f12e347c3d5b6db4951766e7390dc516f"
   },
   "source": [
    "ポジションを指定して値を設定します。"
   ]
  },
  {
   "cell_type": "code",
   "execution_count": 39,
   "metadata": {
    "_cell_guid": "a6891c06-b41e-440a-a15e-8e80bedef5fe",
    "_uuid": "1500650883a2caeaf0d0cb3c1895bb305fa58eb7"
   },
   "outputs": [
    {
     "data": {
      "text/html": [
       "<div>\n",
       "<style>\n",
       "    .dataframe thead tr:only-child th {\n",
       "        text-align: right;\n",
       "    }\n",
       "\n",
       "    .dataframe thead th {\n",
       "        text-align: left;\n",
       "    }\n",
       "\n",
       "    .dataframe tbody tr th {\n",
       "        vertical-align: top;\n",
       "    }\n",
       "</style>\n",
       "<table border=\"1\" class=\"dataframe\">\n",
       "  <thead>\n",
       "    <tr style=\"text-align: right;\">\n",
       "      <th></th>\n",
       "      <th>one</th>\n",
       "      <th>two</th>\n",
       "      <th>three</th>\n",
       "      <th>four</th>\n",
       "      <th>six</th>\n",
       "    </tr>\n",
       "  </thead>\n",
       "  <tbody>\n",
       "    <tr>\n",
       "      <th>2014-11-01</th>\n",
       "      <td>0.000000</td>\n",
       "      <td>0.000000</td>\n",
       "      <td>0.021585</td>\n",
       "      <td>-1.401094</td>\n",
       "      <td>1</td>\n",
       "    </tr>\n",
       "    <tr>\n",
       "      <th>2014-11-02</th>\n",
       "      <td>1.056213</td>\n",
       "      <td>-0.263292</td>\n",
       "      <td>1.766088</td>\n",
       "      <td>-0.814938</td>\n",
       "      <td>2</td>\n",
       "    </tr>\n",
       "    <tr>\n",
       "      <th>2014-11-03</th>\n",
       "      <td>1.058138</td>\n",
       "      <td>1.649387</td>\n",
       "      <td>1.075582</td>\n",
       "      <td>0.431538</td>\n",
       "      <td>3</td>\n",
       "    </tr>\n",
       "    <tr>\n",
       "      <th>2014-11-04</th>\n",
       "      <td>0.642886</td>\n",
       "      <td>0.020734</td>\n",
       "      <td>0.737457</td>\n",
       "      <td>0.276887</td>\n",
       "      <td>4</td>\n",
       "    </tr>\n",
       "    <tr>\n",
       "      <th>2014-11-05</th>\n",
       "      <td>0.021690</td>\n",
       "      <td>0.057333</td>\n",
       "      <td>0.998961</td>\n",
       "      <td>-0.360318</td>\n",
       "      <td>5</td>\n",
       "    </tr>\n",
       "    <tr>\n",
       "      <th>2014-11-06</th>\n",
       "      <td>-0.468473</td>\n",
       "      <td>0.108894</td>\n",
       "      <td>0.412678</td>\n",
       "      <td>0.364218</td>\n",
       "      <td>6</td>\n",
       "    </tr>\n",
       "  </tbody>\n",
       "</table>\n",
       "</div>"
      ],
      "text/plain": [
       "                 one       two     three      four  six\n",
       "2014-11-01  0.000000  0.000000  0.021585 -1.401094    1\n",
       "2014-11-02  1.056213 -0.263292  1.766088 -0.814938    2\n",
       "2014-11-03  1.058138  1.649387  1.075582  0.431538    3\n",
       "2014-11-04  0.642886  0.020734  0.737457  0.276887    4\n",
       "2014-11-05  0.021690  0.057333  0.998961 -0.360318    5\n",
       "2014-11-06 -0.468473  0.108894  0.412678  0.364218    6"
      ]
     },
     "execution_count": 39,
     "metadata": {},
     "output_type": "execute_result"
    }
   ],
   "source": [
    "df.iat[0,1] = 0\n",
    "df"
   ]
  },
  {
   "cell_type": "code",
   "execution_count": 122,
   "metadata": {
    "_cell_guid": "1e8225cf-4459-4cb4-98ef-a32d09c382e2",
    "_uuid": "6993b6c151f135cc7a965730c4c572775cbd8a01"
   },
   "outputs": [
    {
     "data": {
      "text/html": [
       "<div>\n",
       "<style>\n",
       "    .dataframe thead tr:only-child th {\n",
       "        text-align: right;\n",
       "    }\n",
       "\n",
       "    .dataframe thead th {\n",
       "        text-align: left;\n",
       "    }\n",
       "\n",
       "    .dataframe tbody tr th {\n",
       "        vertical-align: top;\n",
       "    }\n",
       "</style>\n",
       "<table border=\"1\" class=\"dataframe\">\n",
       "  <thead>\n",
       "    <tr style=\"text-align: right;\">\n",
       "      <th></th>\n",
       "      <th>one</th>\n",
       "      <th>two</th>\n",
       "      <th>three</th>\n",
       "      <th>four</th>\n",
       "      <th>six</th>\n",
       "    </tr>\n",
       "  </thead>\n",
       "  <tbody>\n",
       "    <tr>\n",
       "      <th>2014-11-01</th>\n",
       "      <td>-1.013910</td>\n",
       "      <td>0.645651</td>\n",
       "      <td>-0.471663</td>\n",
       "      <td>5</td>\n",
       "      <td>1</td>\n",
       "    </tr>\n",
       "    <tr>\n",
       "      <th>2014-11-02</th>\n",
       "      <td>-0.167958</td>\n",
       "      <td>0.569376</td>\n",
       "      <td>0.042177</td>\n",
       "      <td>5</td>\n",
       "      <td>2</td>\n",
       "    </tr>\n",
       "    <tr>\n",
       "      <th>2014-11-03</th>\n",
       "      <td>0.620331</td>\n",
       "      <td>-2.125627</td>\n",
       "      <td>-1.148625</td>\n",
       "      <td>5</td>\n",
       "      <td>3</td>\n",
       "    </tr>\n",
       "    <tr>\n",
       "      <th>2014-11-04</th>\n",
       "      <td>-0.648284</td>\n",
       "      <td>-2.651192</td>\n",
       "      <td>0.211608</td>\n",
       "      <td>5</td>\n",
       "      <td>4</td>\n",
       "    </tr>\n",
       "    <tr>\n",
       "      <th>2014-11-05</th>\n",
       "      <td>-0.544463</td>\n",
       "      <td>-0.098360</td>\n",
       "      <td>0.172779</td>\n",
       "      <td>5</td>\n",
       "      <td>5</td>\n",
       "    </tr>\n",
       "    <tr>\n",
       "      <th>2014-11-06</th>\n",
       "      <td>0.096059</td>\n",
       "      <td>2.273602</td>\n",
       "      <td>-1.125638</td>\n",
       "      <td>5</td>\n",
       "      <td>6</td>\n",
       "    </tr>\n",
       "  </tbody>\n",
       "</table>\n",
       "</div>"
      ],
      "text/plain": [
       "                 one       two     three  four  six\n",
       "2014-11-01 -1.013910  0.645651 -0.471663     5    1\n",
       "2014-11-02 -0.167958  0.569376  0.042177     5    2\n",
       "2014-11-03  0.620331 -2.125627 -1.148625     5    3\n",
       "2014-11-04 -0.648284 -2.651192  0.211608     5    4\n",
       "2014-11-05 -0.544463 -0.098360  0.172779     5    5\n",
       "2014-11-06  0.096059  2.273602 -1.125638     5    6"
      ]
     },
     "execution_count": 122,
     "metadata": {},
     "output_type": "execute_result"
    }
   ],
   "source": [
    "df.loc[:,'four'] = np.array([5] * len(df))\n",
    "df"
   ]
  },
  {
   "cell_type": "markdown",
   "metadata": {
    "_cell_guid": "5ac1ed59-30d2-41c3-883c-bb96634f4830",
    "_uuid": "1f0389c283d54453415ca78a3eafc8d127ba2893"
   },
   "source": [
    "条件が一致するデータに値を設定します。"
   ]
  },
  {
   "cell_type": "code",
   "execution_count": 41,
   "metadata": {
    "_cell_guid": "7108c375-08f9-4402-9f39-7e68f3ac929f",
    "_uuid": "783d37539e38075c324ebd1c29689211afb66a03"
   },
   "outputs": [
    {
     "data": {
      "text/html": [
       "<div>\n",
       "<style>\n",
       "    .dataframe thead tr:only-child th {\n",
       "        text-align: right;\n",
       "    }\n",
       "\n",
       "    .dataframe thead th {\n",
       "        text-align: left;\n",
       "    }\n",
       "\n",
       "    .dataframe tbody tr th {\n",
       "        vertical-align: top;\n",
       "    }\n",
       "</style>\n",
       "<table border=\"1\" class=\"dataframe\">\n",
       "  <thead>\n",
       "    <tr style=\"text-align: right;\">\n",
       "      <th></th>\n",
       "      <th>one</th>\n",
       "      <th>two</th>\n",
       "      <th>three</th>\n",
       "      <th>four</th>\n",
       "      <th>six</th>\n",
       "    </tr>\n",
       "  </thead>\n",
       "  <tbody>\n",
       "    <tr>\n",
       "      <th>2014-11-01</th>\n",
       "      <td>0.000000</td>\n",
       "      <td>0.000000</td>\n",
       "      <td>-0.021585</td>\n",
       "      <td>-5</td>\n",
       "      <td>-1</td>\n",
       "    </tr>\n",
       "    <tr>\n",
       "      <th>2014-11-02</th>\n",
       "      <td>-1.056213</td>\n",
       "      <td>-0.263292</td>\n",
       "      <td>-1.766088</td>\n",
       "      <td>-5</td>\n",
       "      <td>-2</td>\n",
       "    </tr>\n",
       "    <tr>\n",
       "      <th>2014-11-03</th>\n",
       "      <td>-1.058138</td>\n",
       "      <td>-1.649387</td>\n",
       "      <td>-1.075582</td>\n",
       "      <td>-5</td>\n",
       "      <td>-3</td>\n",
       "    </tr>\n",
       "    <tr>\n",
       "      <th>2014-11-04</th>\n",
       "      <td>-0.642886</td>\n",
       "      <td>-0.020734</td>\n",
       "      <td>-0.737457</td>\n",
       "      <td>-5</td>\n",
       "      <td>-4</td>\n",
       "    </tr>\n",
       "    <tr>\n",
       "      <th>2014-11-05</th>\n",
       "      <td>-0.021690</td>\n",
       "      <td>-0.057333</td>\n",
       "      <td>-0.998961</td>\n",
       "      <td>-5</td>\n",
       "      <td>-5</td>\n",
       "    </tr>\n",
       "    <tr>\n",
       "      <th>2014-11-06</th>\n",
       "      <td>-0.468473</td>\n",
       "      <td>-0.108894</td>\n",
       "      <td>-0.412678</td>\n",
       "      <td>-5</td>\n",
       "      <td>-6</td>\n",
       "    </tr>\n",
       "  </tbody>\n",
       "</table>\n",
       "</div>"
      ],
      "text/plain": [
       "                 one       two     three  four  six\n",
       "2014-11-01  0.000000  0.000000 -0.021585    -5   -1\n",
       "2014-11-02 -1.056213 -0.263292 -1.766088    -5   -2\n",
       "2014-11-03 -1.058138 -1.649387 -1.075582    -5   -3\n",
       "2014-11-04 -0.642886 -0.020734 -0.737457    -5   -4\n",
       "2014-11-05 -0.021690 -0.057333 -0.998961    -5   -5\n",
       "2014-11-06 -0.468473 -0.108894 -0.412678    -5   -6"
      ]
     },
     "execution_count": 41,
     "metadata": {},
     "output_type": "execute_result"
    }
   ],
   "source": [
    "df2 = df.copy()\n",
    "df2[df2 > 0] = -df2\n",
    "df2"
   ]
  },
  {
   "cell_type": "markdown",
   "metadata": {
    "_cell_guid": "4bab0a44-3ea1-4817-ae0e-233d159e74e5",
    "_uuid": "5481ab3311350209e065b43c612af4b85bee6a1d",
    "collapsed": true
   },
   "source": [
    "## 欠損データ\n",
    "pandasは、原則として、欠損データをnp.nanを使って表現します。デフルとではこの部分は計算に含まれません。\n",
    "\n",
    "参考 [Missing Data section](https://pandas.pydata.org/pandas-docs/stable/missing_data.html#missing-data)\n",
    "\n",
    "再インデックスを行うことにより、特定の軸のインデックスを変更・追加・削除できます。再インデックスはデータのコピーを返します。"
   ]
  },
  {
   "cell_type": "code",
   "execution_count": 123,
   "metadata": {},
   "outputs": [
    {
     "data": {
      "text/html": [
       "<div>\n",
       "<style>\n",
       "    .dataframe thead tr:only-child th {\n",
       "        text-align: right;\n",
       "    }\n",
       "\n",
       "    .dataframe thead th {\n",
       "        text-align: left;\n",
       "    }\n",
       "\n",
       "    .dataframe tbody tr th {\n",
       "        vertical-align: top;\n",
       "    }\n",
       "</style>\n",
       "<table border=\"1\" class=\"dataframe\">\n",
       "  <thead>\n",
       "    <tr style=\"text-align: right;\">\n",
       "      <th></th>\n",
       "      <th>one</th>\n",
       "      <th>two</th>\n",
       "      <th>three</th>\n",
       "      <th>four</th>\n",
       "      <th>six</th>\n",
       "    </tr>\n",
       "  </thead>\n",
       "  <tbody>\n",
       "    <tr>\n",
       "      <th>2014-11-01</th>\n",
       "      <td>-1.013910</td>\n",
       "      <td>0.645651</td>\n",
       "      <td>-0.471663</td>\n",
       "      <td>5</td>\n",
       "      <td>1</td>\n",
       "    </tr>\n",
       "    <tr>\n",
       "      <th>2014-11-02</th>\n",
       "      <td>-0.167958</td>\n",
       "      <td>0.569376</td>\n",
       "      <td>0.042177</td>\n",
       "      <td>5</td>\n",
       "      <td>2</td>\n",
       "    </tr>\n",
       "    <tr>\n",
       "      <th>2014-11-03</th>\n",
       "      <td>0.620331</td>\n",
       "      <td>-2.125627</td>\n",
       "      <td>-1.148625</td>\n",
       "      <td>5</td>\n",
       "      <td>3</td>\n",
       "    </tr>\n",
       "    <tr>\n",
       "      <th>2014-11-04</th>\n",
       "      <td>-0.648284</td>\n",
       "      <td>-2.651192</td>\n",
       "      <td>0.211608</td>\n",
       "      <td>5</td>\n",
       "      <td>4</td>\n",
       "    </tr>\n",
       "    <tr>\n",
       "      <th>2014-11-05</th>\n",
       "      <td>-0.544463</td>\n",
       "      <td>-0.098360</td>\n",
       "      <td>0.172779</td>\n",
       "      <td>5</td>\n",
       "      <td>5</td>\n",
       "    </tr>\n",
       "    <tr>\n",
       "      <th>2014-11-06</th>\n",
       "      <td>0.096059</td>\n",
       "      <td>2.273602</td>\n",
       "      <td>-1.125638</td>\n",
       "      <td>5</td>\n",
       "      <td>6</td>\n",
       "    </tr>\n",
       "  </tbody>\n",
       "</table>\n",
       "</div>"
      ],
      "text/plain": [
       "                 one       two     three  four  six\n",
       "2014-11-01 -1.013910  0.645651 -0.471663     5    1\n",
       "2014-11-02 -0.167958  0.569376  0.042177     5    2\n",
       "2014-11-03  0.620331 -2.125627 -1.148625     5    3\n",
       "2014-11-04 -0.648284 -2.651192  0.211608     5    4\n",
       "2014-11-05 -0.544463 -0.098360  0.172779     5    5\n",
       "2014-11-06  0.096059  2.273602 -1.125638     5    6"
      ]
     },
     "execution_count": 123,
     "metadata": {},
     "output_type": "execute_result"
    }
   ],
   "source": [
    "df"
   ]
  },
  {
   "cell_type": "code",
   "execution_count": 124,
   "metadata": {
    "_cell_guid": "8ea992cf-a44c-48ba-8c29-772a76a62e25",
    "_uuid": "b34287e42a0e574b9ada0dd0660e7610bde2a4a2"
   },
   "outputs": [
    {
     "data": {
      "text/html": [
       "<div>\n",
       "<style>\n",
       "    .dataframe thead tr:only-child th {\n",
       "        text-align: right;\n",
       "    }\n",
       "\n",
       "    .dataframe thead th {\n",
       "        text-align: left;\n",
       "    }\n",
       "\n",
       "    .dataframe tbody tr th {\n",
       "        vertical-align: top;\n",
       "    }\n",
       "</style>\n",
       "<table border=\"1\" class=\"dataframe\">\n",
       "  <thead>\n",
       "    <tr style=\"text-align: right;\">\n",
       "      <th></th>\n",
       "      <th>one</th>\n",
       "      <th>two</th>\n",
       "      <th>three</th>\n",
       "      <th>four</th>\n",
       "      <th>six</th>\n",
       "      <th>E</th>\n",
       "    </tr>\n",
       "  </thead>\n",
       "  <tbody>\n",
       "    <tr>\n",
       "      <th>2014-11-01</th>\n",
       "      <td>-1.013910</td>\n",
       "      <td>0.645651</td>\n",
       "      <td>-0.471663</td>\n",
       "      <td>5</td>\n",
       "      <td>1</td>\n",
       "      <td>1.0</td>\n",
       "    </tr>\n",
       "    <tr>\n",
       "      <th>2014-11-02</th>\n",
       "      <td>-0.167958</td>\n",
       "      <td>0.569376</td>\n",
       "      <td>0.042177</td>\n",
       "      <td>5</td>\n",
       "      <td>2</td>\n",
       "      <td>1.0</td>\n",
       "    </tr>\n",
       "    <tr>\n",
       "      <th>2014-11-03</th>\n",
       "      <td>0.620331</td>\n",
       "      <td>-2.125627</td>\n",
       "      <td>-1.148625</td>\n",
       "      <td>5</td>\n",
       "      <td>3</td>\n",
       "      <td>NaN</td>\n",
       "    </tr>\n",
       "    <tr>\n",
       "      <th>2014-11-04</th>\n",
       "      <td>-0.648284</td>\n",
       "      <td>-2.651192</td>\n",
       "      <td>0.211608</td>\n",
       "      <td>5</td>\n",
       "      <td>4</td>\n",
       "      <td>NaN</td>\n",
       "    </tr>\n",
       "  </tbody>\n",
       "</table>\n",
       "</div>"
      ],
      "text/plain": [
       "                 one       two     three  four  six    E\n",
       "2014-11-01 -1.013910  0.645651 -0.471663     5    1  1.0\n",
       "2014-11-02 -0.167958  0.569376  0.042177     5    2  1.0\n",
       "2014-11-03  0.620331 -2.125627 -1.148625     5    3  NaN\n",
       "2014-11-04 -0.648284 -2.651192  0.211608     5    4  NaN"
      ]
     },
     "execution_count": 124,
     "metadata": {},
     "output_type": "execute_result"
    }
   ],
   "source": [
    "df1 = df.reindex(index=dates[0:4], columns=list(df.columns) + ['E'])\n",
    "df1.loc[dates[0]:dates[1],'E'] = 1\n",
    "df1"
   ]
  },
  {
   "cell_type": "markdown",
   "metadata": {
    "_cell_guid": "7e0319e8-fc11-4556-a0e6-4bc520b2179f",
    "_uuid": "46eaf209fd3122be95d2ef0804dc8bd665794205"
   },
   "source": [
    "欠損データを持つ行を全て削除します。"
   ]
  },
  {
   "cell_type": "code",
   "execution_count": 127,
   "metadata": {
    "_cell_guid": "9c118c95-34b0-4a03-9ae6-4a4e2fb3ab52",
    "_uuid": "be778687edde438a54f9378d59f532c9fe9d87da"
   },
   "outputs": [
    {
     "data": {
      "text/html": [
       "<div>\n",
       "<style>\n",
       "    .dataframe thead tr:only-child th {\n",
       "        text-align: right;\n",
       "    }\n",
       "\n",
       "    .dataframe thead th {\n",
       "        text-align: left;\n",
       "    }\n",
       "\n",
       "    .dataframe tbody tr th {\n",
       "        vertical-align: top;\n",
       "    }\n",
       "</style>\n",
       "<table border=\"1\" class=\"dataframe\">\n",
       "  <thead>\n",
       "    <tr style=\"text-align: right;\">\n",
       "      <th></th>\n",
       "      <th>one</th>\n",
       "      <th>two</th>\n",
       "      <th>three</th>\n",
       "      <th>four</th>\n",
       "      <th>six</th>\n",
       "      <th>E</th>\n",
       "    </tr>\n",
       "  </thead>\n",
       "  <tbody>\n",
       "    <tr>\n",
       "      <th>2014-11-01</th>\n",
       "      <td>-1.013910</td>\n",
       "      <td>0.645651</td>\n",
       "      <td>-0.471663</td>\n",
       "      <td>5</td>\n",
       "      <td>1</td>\n",
       "      <td>1.0</td>\n",
       "    </tr>\n",
       "    <tr>\n",
       "      <th>2014-11-02</th>\n",
       "      <td>-0.167958</td>\n",
       "      <td>0.569376</td>\n",
       "      <td>0.042177</td>\n",
       "      <td>5</td>\n",
       "      <td>2</td>\n",
       "      <td>1.0</td>\n",
       "    </tr>\n",
       "  </tbody>\n",
       "</table>\n",
       "</div>"
      ],
      "text/plain": [
       "                 one       two     three  four  six    E\n",
       "2014-11-01 -1.013910  0.645651 -0.471663     5    1  1.0\n",
       "2014-11-02 -0.167958  0.569376  0.042177     5    2  1.0"
      ]
     },
     "execution_count": 127,
     "metadata": {},
     "output_type": "execute_result"
    }
   ],
   "source": [
    "df1.dropna(how='any')"
   ]
  },
  {
   "cell_type": "markdown",
   "metadata": {
    "_cell_guid": "b833f8bd-684d-42d6-babb-6a2d02257757",
    "_uuid": "8a107a35dfb6b1f888a3760b1ddc1a2fc8ef1eae"
   },
   "source": [
    "欠損データを埋めます。"
   ]
  },
  {
   "cell_type": "code",
   "execution_count": 128,
   "metadata": {},
   "outputs": [
    {
     "data": {
      "text/html": [
       "<div>\n",
       "<style>\n",
       "    .dataframe thead tr:only-child th {\n",
       "        text-align: right;\n",
       "    }\n",
       "\n",
       "    .dataframe thead th {\n",
       "        text-align: left;\n",
       "    }\n",
       "\n",
       "    .dataframe tbody tr th {\n",
       "        vertical-align: top;\n",
       "    }\n",
       "</style>\n",
       "<table border=\"1\" class=\"dataframe\">\n",
       "  <thead>\n",
       "    <tr style=\"text-align: right;\">\n",
       "      <th></th>\n",
       "      <th>one</th>\n",
       "      <th>two</th>\n",
       "      <th>three</th>\n",
       "      <th>four</th>\n",
       "      <th>six</th>\n",
       "      <th>E</th>\n",
       "    </tr>\n",
       "  </thead>\n",
       "  <tbody>\n",
       "    <tr>\n",
       "      <th>2014-11-01</th>\n",
       "      <td>-1.013910</td>\n",
       "      <td>0.645651</td>\n",
       "      <td>-0.471663</td>\n",
       "      <td>5</td>\n",
       "      <td>1</td>\n",
       "      <td>1.0</td>\n",
       "    </tr>\n",
       "    <tr>\n",
       "      <th>2014-11-02</th>\n",
       "      <td>-0.167958</td>\n",
       "      <td>0.569376</td>\n",
       "      <td>0.042177</td>\n",
       "      <td>5</td>\n",
       "      <td>2</td>\n",
       "      <td>1.0</td>\n",
       "    </tr>\n",
       "    <tr>\n",
       "      <th>2014-11-03</th>\n",
       "      <td>0.620331</td>\n",
       "      <td>-2.125627</td>\n",
       "      <td>-1.148625</td>\n",
       "      <td>5</td>\n",
       "      <td>3</td>\n",
       "      <td>NaN</td>\n",
       "    </tr>\n",
       "    <tr>\n",
       "      <th>2014-11-04</th>\n",
       "      <td>-0.648284</td>\n",
       "      <td>-2.651192</td>\n",
       "      <td>0.211608</td>\n",
       "      <td>5</td>\n",
       "      <td>4</td>\n",
       "      <td>NaN</td>\n",
       "    </tr>\n",
       "  </tbody>\n",
       "</table>\n",
       "</div>"
      ],
      "text/plain": [
       "                 one       two     three  four  six    E\n",
       "2014-11-01 -1.013910  0.645651 -0.471663     5    1  1.0\n",
       "2014-11-02 -0.167958  0.569376  0.042177     5    2  1.0\n",
       "2014-11-03  0.620331 -2.125627 -1.148625     5    3  NaN\n",
       "2014-11-04 -0.648284 -2.651192  0.211608     5    4  NaN"
      ]
     },
     "execution_count": 128,
     "metadata": {},
     "output_type": "execute_result"
    }
   ],
   "source": [
    "df1"
   ]
  },
  {
   "cell_type": "code",
   "execution_count": 129,
   "metadata": {
    "_cell_guid": "f2521f7e-c916-4de2-abb5-c9c5ebebc600",
    "_uuid": "a5089cfe6c94a390800d4ebc997f143f5c000e8e"
   },
   "outputs": [
    {
     "data": {
      "text/html": [
       "<div>\n",
       "<style>\n",
       "    .dataframe thead tr:only-child th {\n",
       "        text-align: right;\n",
       "    }\n",
       "\n",
       "    .dataframe thead th {\n",
       "        text-align: left;\n",
       "    }\n",
       "\n",
       "    .dataframe tbody tr th {\n",
       "        vertical-align: top;\n",
       "    }\n",
       "</style>\n",
       "<table border=\"1\" class=\"dataframe\">\n",
       "  <thead>\n",
       "    <tr style=\"text-align: right;\">\n",
       "      <th></th>\n",
       "      <th>one</th>\n",
       "      <th>two</th>\n",
       "      <th>three</th>\n",
       "      <th>four</th>\n",
       "      <th>six</th>\n",
       "      <th>E</th>\n",
       "    </tr>\n",
       "  </thead>\n",
       "  <tbody>\n",
       "    <tr>\n",
       "      <th>2014-11-01</th>\n",
       "      <td>-1.013910</td>\n",
       "      <td>0.645651</td>\n",
       "      <td>-0.471663</td>\n",
       "      <td>5</td>\n",
       "      <td>1</td>\n",
       "      <td>1.0</td>\n",
       "    </tr>\n",
       "    <tr>\n",
       "      <th>2014-11-02</th>\n",
       "      <td>-0.167958</td>\n",
       "      <td>0.569376</td>\n",
       "      <td>0.042177</td>\n",
       "      <td>5</td>\n",
       "      <td>2</td>\n",
       "      <td>1.0</td>\n",
       "    </tr>\n",
       "    <tr>\n",
       "      <th>2014-11-03</th>\n",
       "      <td>0.620331</td>\n",
       "      <td>-2.125627</td>\n",
       "      <td>-1.148625</td>\n",
       "      <td>5</td>\n",
       "      <td>3</td>\n",
       "      <td>5.0</td>\n",
       "    </tr>\n",
       "    <tr>\n",
       "      <th>2014-11-04</th>\n",
       "      <td>-0.648284</td>\n",
       "      <td>-2.651192</td>\n",
       "      <td>0.211608</td>\n",
       "      <td>5</td>\n",
       "      <td>4</td>\n",
       "      <td>5.0</td>\n",
       "    </tr>\n",
       "  </tbody>\n",
       "</table>\n",
       "</div>"
      ],
      "text/plain": [
       "                 one       two     three  four  six    E\n",
       "2014-11-01 -1.013910  0.645651 -0.471663     5    1  1.0\n",
       "2014-11-02 -0.167958  0.569376  0.042177     5    2  1.0\n",
       "2014-11-03  0.620331 -2.125627 -1.148625     5    3  5.0\n",
       "2014-11-04 -0.648284 -2.651192  0.211608     5    4  5.0"
      ]
     },
     "execution_count": 129,
     "metadata": {},
     "output_type": "execute_result"
    }
   ],
   "source": [
    "df1.fillna(value=5)"
   ]
  },
  {
   "cell_type": "markdown",
   "metadata": {
    "_cell_guid": "02f262f9-27dd-4e4e-9c6d-030c23123e90",
    "_uuid": "3f1f384adbd5d3081028c45a797f6ab1f0174490"
   },
   "source": [
    "## 演算\n",
    "参考 [Basic section on Binary Ops](https://pandas.pydata.org/pandas-docs/stable/basics.html#basics-binop)"
   ]
  },
  {
   "cell_type": "markdown",
   "metadata": {
    "_cell_guid": "a599044b-97a5-4ff1-ac07-d2205c9bd275",
    "_uuid": "7dd84063efa95105e26e900a85b3b593c5f79406"
   },
   "source": [
    "### データの状態・特徴\n",
    "演算は一般に欠損データを除外して行われます。\n",
    "\n",
    "データの基本的な特徴を表す統計量を集計します。"
   ]
  },
  {
   "cell_type": "code",
   "execution_count": 133,
   "metadata": {},
   "outputs": [
    {
     "data": {
      "text/html": [
       "<div>\n",
       "<style>\n",
       "    .dataframe thead tr:only-child th {\n",
       "        text-align: right;\n",
       "    }\n",
       "\n",
       "    .dataframe thead th {\n",
       "        text-align: left;\n",
       "    }\n",
       "\n",
       "    .dataframe tbody tr th {\n",
       "        vertical-align: top;\n",
       "    }\n",
       "</style>\n",
       "<table border=\"1\" class=\"dataframe\">\n",
       "  <thead>\n",
       "    <tr style=\"text-align: right;\">\n",
       "      <th></th>\n",
       "      <th>one</th>\n",
       "      <th>two</th>\n",
       "      <th>three</th>\n",
       "      <th>four</th>\n",
       "      <th>six</th>\n",
       "    </tr>\n",
       "  </thead>\n",
       "  <tbody>\n",
       "    <tr>\n",
       "      <th>2014-11-01</th>\n",
       "      <td>-1.013910</td>\n",
       "      <td>0.645651</td>\n",
       "      <td>-0.471663</td>\n",
       "      <td>5</td>\n",
       "      <td>1</td>\n",
       "    </tr>\n",
       "    <tr>\n",
       "      <th>2014-11-02</th>\n",
       "      <td>-0.167958</td>\n",
       "      <td>0.569376</td>\n",
       "      <td>0.042177</td>\n",
       "      <td>5</td>\n",
       "      <td>2</td>\n",
       "    </tr>\n",
       "    <tr>\n",
       "      <th>2014-11-03</th>\n",
       "      <td>0.620331</td>\n",
       "      <td>-2.125627</td>\n",
       "      <td>-1.148625</td>\n",
       "      <td>5</td>\n",
       "      <td>3</td>\n",
       "    </tr>\n",
       "    <tr>\n",
       "      <th>2014-11-04</th>\n",
       "      <td>-0.648284</td>\n",
       "      <td>-2.651192</td>\n",
       "      <td>0.211608</td>\n",
       "      <td>5</td>\n",
       "      <td>4</td>\n",
       "    </tr>\n",
       "    <tr>\n",
       "      <th>2014-11-05</th>\n",
       "      <td>-0.544463</td>\n",
       "      <td>-0.098360</td>\n",
       "      <td>0.172779</td>\n",
       "      <td>5</td>\n",
       "      <td>5</td>\n",
       "    </tr>\n",
       "    <tr>\n",
       "      <th>2014-11-06</th>\n",
       "      <td>0.096059</td>\n",
       "      <td>2.273602</td>\n",
       "      <td>-1.125638</td>\n",
       "      <td>5</td>\n",
       "      <td>6</td>\n",
       "    </tr>\n",
       "  </tbody>\n",
       "</table>\n",
       "</div>"
      ],
      "text/plain": [
       "                 one       two     three  four  six\n",
       "2014-11-01 -1.013910  0.645651 -0.471663     5    1\n",
       "2014-11-02 -0.167958  0.569376  0.042177     5    2\n",
       "2014-11-03  0.620331 -2.125627 -1.148625     5    3\n",
       "2014-11-04 -0.648284 -2.651192  0.211608     5    4\n",
       "2014-11-05 -0.544463 -0.098360  0.172779     5    5\n",
       "2014-11-06  0.096059  2.273602 -1.125638     5    6"
      ]
     },
     "execution_count": 133,
     "metadata": {},
     "output_type": "execute_result"
    }
   ],
   "source": [
    "df"
   ]
  },
  {
   "cell_type": "code",
   "execution_count": 134,
   "metadata": {
    "_cell_guid": "873b0539-d75a-4d8f-81e2-42c1ee70f945",
    "_uuid": "18a53af2b3fcb793e6c52ddfabc3bf4b01edc3ae"
   },
   "outputs": [
    {
     "data": {
      "text/plain": [
       "one     -0.276371\n",
       "two     -0.231092\n",
       "three   -0.386560\n",
       "four     5.000000\n",
       "six      3.500000\n",
       "dtype: float64"
      ]
     },
     "execution_count": 134,
     "metadata": {},
     "output_type": "execute_result"
    }
   ],
   "source": [
    "df.mean()"
   ]
  },
  {
   "cell_type": "markdown",
   "metadata": {
    "_cell_guid": "20530588-c864-428f-aad0-4ad48a3df1e5",
    "_uuid": "f066371c33bd242c801bb35fb61caed24cff26f6"
   },
   "source": [
    "Same operation on the other axis:"
   ]
  },
  {
   "cell_type": "code",
   "execution_count": 49,
   "metadata": {
    "_cell_guid": "88cdbfa8-728c-4803-a400-5b348828e03e",
    "_uuid": "25a698388c134cb27fc648f76ecef27c12471fce"
   },
   "outputs": [
    {
     "data": {
      "text/plain": [
       "2014-11-01    1.204317\n",
       "2014-11-02    1.911802\n",
       "2014-11-03    2.356621\n",
       "2014-11-04    2.080215\n",
       "2014-11-05    2.215597\n",
       "2014-11-06    2.210620\n",
       "Freq: D, dtype: float64"
      ]
     },
     "execution_count": 49,
     "metadata": {},
     "output_type": "execute_result"
    }
   ],
   "source": [
    "df.mean(1)"
   ]
  },
  {
   "cell_type": "markdown",
   "metadata": {
    "_cell_guid": "1fffe4d6-a49d-42e5-8b89-e44724ad03db",
    "_uuid": "a10e0ecc601023ea17c043b422ae7774a718e97e"
   },
   "source": [
    "次元（データの長さ）が異なりや位置合わせが必要なオブジェクト同士の演算。\n",
    "pandasは、自動的に指定された次元方向にデータを、ブロードキャストします。\n",
    "また、以下のコードはまた、データを垂直にシフトさせ、開いたスペースをNaNで埋めます。"
   ]
  },
  {
   "cell_type": "code",
   "execution_count": 135,
   "metadata": {
    "_cell_guid": "e461e77a-cc2d-4186-9a6f-00f7b898328d",
    "_uuid": "7eda48639b578d0a9fb2e6e3a3f4ba76fbde780c"
   },
   "outputs": [
    {
     "data": {
      "text/plain": [
       "2014-11-01    NaN\n",
       "2014-11-02    NaN\n",
       "2014-11-03    1.0\n",
       "2014-11-04    3.0\n",
       "2014-11-05    5.0\n",
       "2014-11-06    NaN\n",
       "Freq: D, dtype: float64"
      ]
     },
     "execution_count": 135,
     "metadata": {},
     "output_type": "execute_result"
    }
   ],
   "source": [
    "s = pd.Series([1,3,5,np.nan,6,8], index=dates).shift(2)\n",
    "s"
   ]
  },
  {
   "cell_type": "code",
   "execution_count": 136,
   "metadata": {
    "_cell_guid": "950ca30f-af5b-4184-9556-f98187afe6d5",
    "_uuid": "b88c2ac00262f1176bc919dc4bfa9e37bafa3d07"
   },
   "outputs": [
    {
     "data": {
      "text/html": [
       "<div>\n",
       "<style>\n",
       "    .dataframe thead tr:only-child th {\n",
       "        text-align: right;\n",
       "    }\n",
       "\n",
       "    .dataframe thead th {\n",
       "        text-align: left;\n",
       "    }\n",
       "\n",
       "    .dataframe tbody tr th {\n",
       "        vertical-align: top;\n",
       "    }\n",
       "</style>\n",
       "<table border=\"1\" class=\"dataframe\">\n",
       "  <thead>\n",
       "    <tr style=\"text-align: right;\">\n",
       "      <th></th>\n",
       "      <th>one</th>\n",
       "      <th>two</th>\n",
       "      <th>three</th>\n",
       "      <th>four</th>\n",
       "      <th>six</th>\n",
       "    </tr>\n",
       "  </thead>\n",
       "  <tbody>\n",
       "    <tr>\n",
       "      <th>2014-11-01</th>\n",
       "      <td>NaN</td>\n",
       "      <td>NaN</td>\n",
       "      <td>NaN</td>\n",
       "      <td>NaN</td>\n",
       "      <td>NaN</td>\n",
       "    </tr>\n",
       "    <tr>\n",
       "      <th>2014-11-02</th>\n",
       "      <td>NaN</td>\n",
       "      <td>NaN</td>\n",
       "      <td>NaN</td>\n",
       "      <td>NaN</td>\n",
       "      <td>NaN</td>\n",
       "    </tr>\n",
       "    <tr>\n",
       "      <th>2014-11-03</th>\n",
       "      <td>-0.379669</td>\n",
       "      <td>-3.125627</td>\n",
       "      <td>-2.148625</td>\n",
       "      <td>4.0</td>\n",
       "      <td>2.0</td>\n",
       "    </tr>\n",
       "    <tr>\n",
       "      <th>2014-11-04</th>\n",
       "      <td>-3.648284</td>\n",
       "      <td>-5.651192</td>\n",
       "      <td>-2.788392</td>\n",
       "      <td>2.0</td>\n",
       "      <td>1.0</td>\n",
       "    </tr>\n",
       "    <tr>\n",
       "      <th>2014-11-05</th>\n",
       "      <td>-5.544463</td>\n",
       "      <td>-5.098360</td>\n",
       "      <td>-4.827221</td>\n",
       "      <td>0.0</td>\n",
       "      <td>0.0</td>\n",
       "    </tr>\n",
       "    <tr>\n",
       "      <th>2014-11-06</th>\n",
       "      <td>NaN</td>\n",
       "      <td>NaN</td>\n",
       "      <td>NaN</td>\n",
       "      <td>NaN</td>\n",
       "      <td>NaN</td>\n",
       "    </tr>\n",
       "  </tbody>\n",
       "</table>\n",
       "</div>"
      ],
      "text/plain": [
       "                 one       two     three  four  six\n",
       "2014-11-01       NaN       NaN       NaN   NaN  NaN\n",
       "2014-11-02       NaN       NaN       NaN   NaN  NaN\n",
       "2014-11-03 -0.379669 -3.125627 -2.148625   4.0  2.0\n",
       "2014-11-04 -3.648284 -5.651192 -2.788392   2.0  1.0\n",
       "2014-11-05 -5.544463 -5.098360 -4.827221   0.0  0.0\n",
       "2014-11-06       NaN       NaN       NaN   NaN  NaN"
      ]
     },
     "execution_count": 136,
     "metadata": {},
     "output_type": "execute_result"
    }
   ],
   "source": [
    "df.sub(s, axis='index')"
   ]
  },
  {
   "cell_type": "markdown",
   "metadata": {
    "_cell_guid": "8a609a42-405f-4145-a258-2b2a1a836fa6",
    "_uuid": "a82c28ab38951a030fc5aaffc9229091af226cf8"
   },
   "source": [
    "### Apply\n",
    "データに関数を作用させます。"
   ]
  },
  {
   "cell_type": "code",
   "execution_count": 52,
   "metadata": {},
   "outputs": [
    {
     "data": {
      "text/html": [
       "<div>\n",
       "<style>\n",
       "    .dataframe thead tr:only-child th {\n",
       "        text-align: right;\n",
       "    }\n",
       "\n",
       "    .dataframe thead th {\n",
       "        text-align: left;\n",
       "    }\n",
       "\n",
       "    .dataframe tbody tr th {\n",
       "        vertical-align: top;\n",
       "    }\n",
       "</style>\n",
       "<table border=\"1\" class=\"dataframe\">\n",
       "  <thead>\n",
       "    <tr style=\"text-align: right;\">\n",
       "      <th></th>\n",
       "      <th>one</th>\n",
       "      <th>two</th>\n",
       "      <th>three</th>\n",
       "      <th>four</th>\n",
       "      <th>six</th>\n",
       "    </tr>\n",
       "  </thead>\n",
       "  <tbody>\n",
       "    <tr>\n",
       "      <th>2014-11-01</th>\n",
       "      <td>0.000000</td>\n",
       "      <td>0.000000</td>\n",
       "      <td>0.021585</td>\n",
       "      <td>5</td>\n",
       "      <td>1</td>\n",
       "    </tr>\n",
       "    <tr>\n",
       "      <th>2014-11-02</th>\n",
       "      <td>1.056213</td>\n",
       "      <td>-0.263292</td>\n",
       "      <td>1.766088</td>\n",
       "      <td>5</td>\n",
       "      <td>2</td>\n",
       "    </tr>\n",
       "    <tr>\n",
       "      <th>2014-11-03</th>\n",
       "      <td>1.058138</td>\n",
       "      <td>1.649387</td>\n",
       "      <td>1.075582</td>\n",
       "      <td>5</td>\n",
       "      <td>3</td>\n",
       "    </tr>\n",
       "    <tr>\n",
       "      <th>2014-11-04</th>\n",
       "      <td>0.642886</td>\n",
       "      <td>0.020734</td>\n",
       "      <td>0.737457</td>\n",
       "      <td>5</td>\n",
       "      <td>4</td>\n",
       "    </tr>\n",
       "    <tr>\n",
       "      <th>2014-11-05</th>\n",
       "      <td>0.021690</td>\n",
       "      <td>0.057333</td>\n",
       "      <td>0.998961</td>\n",
       "      <td>5</td>\n",
       "      <td>5</td>\n",
       "    </tr>\n",
       "    <tr>\n",
       "      <th>2014-11-06</th>\n",
       "      <td>-0.468473</td>\n",
       "      <td>0.108894</td>\n",
       "      <td>0.412678</td>\n",
       "      <td>5</td>\n",
       "      <td>6</td>\n",
       "    </tr>\n",
       "  </tbody>\n",
       "</table>\n",
       "</div>"
      ],
      "text/plain": [
       "                 one       two     three  four  six\n",
       "2014-11-01  0.000000  0.000000  0.021585     5    1\n",
       "2014-11-02  1.056213 -0.263292  1.766088     5    2\n",
       "2014-11-03  1.058138  1.649387  1.075582     5    3\n",
       "2014-11-04  0.642886  0.020734  0.737457     5    4\n",
       "2014-11-05  0.021690  0.057333  0.998961     5    5\n",
       "2014-11-06 -0.468473  0.108894  0.412678     5    6"
      ]
     },
     "execution_count": 52,
     "metadata": {},
     "output_type": "execute_result"
    }
   ],
   "source": [
    "df"
   ]
  },
  {
   "cell_type": "code",
   "execution_count": 53,
   "metadata": {
    "_cell_guid": "ed25e76b-00c8-4f75-b8f2-a6b2669e264f",
    "_uuid": "0fdf92e9b753e997301f3d7c9e88941f87e086b1"
   },
   "outputs": [
    {
     "data": {
      "text/html": [
       "<div>\n",
       "<style>\n",
       "    .dataframe thead tr:only-child th {\n",
       "        text-align: right;\n",
       "    }\n",
       "\n",
       "    .dataframe thead th {\n",
       "        text-align: left;\n",
       "    }\n",
       "\n",
       "    .dataframe tbody tr th {\n",
       "        vertical-align: top;\n",
       "    }\n",
       "</style>\n",
       "<table border=\"1\" class=\"dataframe\">\n",
       "  <thead>\n",
       "    <tr style=\"text-align: right;\">\n",
       "      <th></th>\n",
       "      <th>one</th>\n",
       "      <th>two</th>\n",
       "      <th>three</th>\n",
       "      <th>four</th>\n",
       "      <th>six</th>\n",
       "    </tr>\n",
       "  </thead>\n",
       "  <tbody>\n",
       "    <tr>\n",
       "      <th>2014-11-01</th>\n",
       "      <td>0.000000</td>\n",
       "      <td>0.000000</td>\n",
       "      <td>0.021585</td>\n",
       "      <td>5</td>\n",
       "      <td>1</td>\n",
       "    </tr>\n",
       "    <tr>\n",
       "      <th>2014-11-02</th>\n",
       "      <td>1.056213</td>\n",
       "      <td>-0.263292</td>\n",
       "      <td>1.787673</td>\n",
       "      <td>10</td>\n",
       "      <td>3</td>\n",
       "    </tr>\n",
       "    <tr>\n",
       "      <th>2014-11-03</th>\n",
       "      <td>2.114351</td>\n",
       "      <td>1.386095</td>\n",
       "      <td>2.863255</td>\n",
       "      <td>15</td>\n",
       "      <td>6</td>\n",
       "    </tr>\n",
       "    <tr>\n",
       "      <th>2014-11-04</th>\n",
       "      <td>2.757237</td>\n",
       "      <td>1.406829</td>\n",
       "      <td>3.600712</td>\n",
       "      <td>20</td>\n",
       "      <td>10</td>\n",
       "    </tr>\n",
       "    <tr>\n",
       "      <th>2014-11-05</th>\n",
       "      <td>2.778926</td>\n",
       "      <td>1.464163</td>\n",
       "      <td>4.599672</td>\n",
       "      <td>25</td>\n",
       "      <td>15</td>\n",
       "    </tr>\n",
       "    <tr>\n",
       "      <th>2014-11-06</th>\n",
       "      <td>2.310453</td>\n",
       "      <td>1.573056</td>\n",
       "      <td>5.012350</td>\n",
       "      <td>30</td>\n",
       "      <td>21</td>\n",
       "    </tr>\n",
       "  </tbody>\n",
       "</table>\n",
       "</div>"
      ],
      "text/plain": [
       "                 one       two     three  four  six\n",
       "2014-11-01  0.000000  0.000000  0.021585     5    1\n",
       "2014-11-02  1.056213 -0.263292  1.787673    10    3\n",
       "2014-11-03  2.114351  1.386095  2.863255    15    6\n",
       "2014-11-04  2.757237  1.406829  3.600712    20   10\n",
       "2014-11-05  2.778926  1.464163  4.599672    25   15\n",
       "2014-11-06  2.310453  1.573056  5.012350    30   21"
      ]
     },
     "execution_count": 53,
     "metadata": {},
     "output_type": "execute_result"
    }
   ],
   "source": [
    "df.apply(np.cumsum)"
   ]
  },
  {
   "cell_type": "markdown",
   "metadata": {
    "_cell_guid": "c29ce7af-9539-4857-9f41-0453d788992f",
    "_uuid": "f016b295830e32f680784dbe2f41b568215d9efb"
   },
   "source": [
    "### ヒストグラムを作成する\n",
    "See more at [Histogramming and Discretization](https://pandas.pydata.org/pandas-docs/stable/basics.html#basics-discretization)"
   ]
  },
  {
   "cell_type": "code",
   "execution_count": 137,
   "metadata": {
    "_cell_guid": "765ec7fe-83b0-4180-acdc-540a28422a85",
    "_uuid": "8cc61eeda690d11eefecf2116e28136020ca0003"
   },
   "outputs": [
    {
     "data": {
      "text/plain": [
       "0    5\n",
       "1    1\n",
       "2    0\n",
       "3    2\n",
       "4    0\n",
       "5    0\n",
       "6    1\n",
       "7    4\n",
       "8    3\n",
       "9    1\n",
       "dtype: int64"
      ]
     },
     "execution_count": 137,
     "metadata": {},
     "output_type": "execute_result"
    }
   ],
   "source": [
    "s = pd.Series(np.random.randint(0, 7, size=10))\n",
    "s"
   ]
  },
  {
   "cell_type": "code",
   "execution_count": 138,
   "metadata": {
    "_cell_guid": "cd3bda59-12a7-434c-9195-23c4dcba5b8b",
    "_uuid": "77963d7b3d63b8e939652cc2c114a0731baa359e"
   },
   "outputs": [
    {
     "data": {
      "text/plain": [
       "1    3\n",
       "0    3\n",
       "5    1\n",
       "4    1\n",
       "3    1\n",
       "2    1\n",
       "dtype: int64"
      ]
     },
     "execution_count": 138,
     "metadata": {},
     "output_type": "execute_result"
    }
   ],
   "source": [
    "s.value_counts()"
   ]
  },
  {
   "cell_type": "markdown",
   "metadata": {
    "_cell_guid": "cb8c8038-acc7-4b09-8e70-3354521439e6",
    "_uuid": "e74ee3f403a6358e6658dcfae2f2909128d64130"
   },
   "source": [
    "### 文字列を扱うメソッド\n",
    "シリーズ(Series)は文字列を扱うメソッドを以下の例のようにstrを修飾する形で備えており、各要素の操作が容易になっています。 strのパターンマッチングには通常デフォルト（ある場合には必ず）で正規表現が用いられます。\n",
    "\n",
    "参考\n",
    "[regular expressions](https://docs.python.org/2/library/re.html) \n",
    "[Vectorized String Methods](https://pandas.pydata.org/pandas-docs/stable/text.html#text-string-methods)."
   ]
  },
  {
   "cell_type": "code",
   "execution_count": 141,
   "metadata": {
    "_cell_guid": "d6eb8ddf-f32a-406d-8d9e-bd0c0a76bdc9",
    "_uuid": "b74596be6dc4925c11bbc9552f52e0ab8a401b19"
   },
   "outputs": [],
   "source": [
    "s = pd.Series(['A', 'B', 'C', 'Aaba', 'Baca', np.nan, 'CABA', 'dog', 'cat'])\n"
   ]
  },
  {
   "cell_type": "code",
   "execution_count": 142,
   "metadata": {
    "_cell_guid": "ea018f68-1d1e-487a-9d8d-e985f2c1d08f",
    "_uuid": "fb5a35db50d449608f76c79aaacf3c27f79ac398"
   },
   "outputs": [
    {
     "data": {
      "text/plain": [
       "0       a\n",
       "1       b\n",
       "2       c\n",
       "3    aaba\n",
       "4    baca\n",
       "5     NaN\n",
       "6    caba\n",
       "7     dog\n",
       "8     cat\n",
       "dtype: object"
      ]
     },
     "execution_count": 142,
     "metadata": {},
     "output_type": "execute_result"
    }
   ],
   "source": [
    "s.str.lower()"
   ]
  },
  {
   "cell_type": "markdown",
   "metadata": {
    "_cell_guid": "bbeb9a06-d07c-4d38-96f6-fd96f8109a36",
    "_uuid": "9ecce4d43cdb73c250c231bd1f6ced47238ee848"
   },
   "source": [
    "# マージ\n",
    "### 結合\n",
    "pandas は、シリーズ・データフレーム・パネルを結合・マージする際に、インデックスに対する集合演算や関係代数の関数を用いて組み合わせるための様々な方法を提供しています。\n",
    "\n",
    "参考 [Merging section](https://pandas.pydata.org/pandas-docs/stable/merging.html#merging)\n",
    "\n",
    "Concatenating pandas objects together with [concat()](https://pandas.pydata.org/pandas-docs/stable/generated/pandas.concat.html#pandas.concat):"
   ]
  },
  {
   "cell_type": "code",
   "execution_count": 143,
   "metadata": {
    "_cell_guid": "35b5371c-d03f-4014-b43e-0ea171cc2af5",
    "_uuid": "0e198af891bd5bd91c825d3e3f825211106140a6"
   },
   "outputs": [
    {
     "data": {
      "text/html": [
       "<div>\n",
       "<style>\n",
       "    .dataframe thead tr:only-child th {\n",
       "        text-align: right;\n",
       "    }\n",
       "\n",
       "    .dataframe thead th {\n",
       "        text-align: left;\n",
       "    }\n",
       "\n",
       "    .dataframe tbody tr th {\n",
       "        vertical-align: top;\n",
       "    }\n",
       "</style>\n",
       "<table border=\"1\" class=\"dataframe\">\n",
       "  <thead>\n",
       "    <tr style=\"text-align: right;\">\n",
       "      <th></th>\n",
       "      <th>0</th>\n",
       "      <th>1</th>\n",
       "      <th>2</th>\n",
       "      <th>3</th>\n",
       "    </tr>\n",
       "  </thead>\n",
       "  <tbody>\n",
       "    <tr>\n",
       "      <th>0</th>\n",
       "      <td>-0.518701</td>\n",
       "      <td>-0.957149</td>\n",
       "      <td>-1.249274</td>\n",
       "      <td>-0.320769</td>\n",
       "    </tr>\n",
       "    <tr>\n",
       "      <th>1</th>\n",
       "      <td>0.895325</td>\n",
       "      <td>1.048505</td>\n",
       "      <td>0.971226</td>\n",
       "      <td>-1.024131</td>\n",
       "    </tr>\n",
       "    <tr>\n",
       "      <th>2</th>\n",
       "      <td>0.565346</td>\n",
       "      <td>-1.356156</td>\n",
       "      <td>1.684192</td>\n",
       "      <td>0.808174</td>\n",
       "    </tr>\n",
       "    <tr>\n",
       "      <th>3</th>\n",
       "      <td>-0.053902</td>\n",
       "      <td>2.090642</td>\n",
       "      <td>-0.366575</td>\n",
       "      <td>-0.459022</td>\n",
       "    </tr>\n",
       "    <tr>\n",
       "      <th>4</th>\n",
       "      <td>0.177499</td>\n",
       "      <td>1.775856</td>\n",
       "      <td>2.203882</td>\n",
       "      <td>2.056373</td>\n",
       "    </tr>\n",
       "    <tr>\n",
       "      <th>5</th>\n",
       "      <td>-0.661481</td>\n",
       "      <td>-0.012267</td>\n",
       "      <td>0.410668</td>\n",
       "      <td>-0.648937</td>\n",
       "    </tr>\n",
       "    <tr>\n",
       "      <th>6</th>\n",
       "      <td>-1.985803</td>\n",
       "      <td>-0.744903</td>\n",
       "      <td>0.620576</td>\n",
       "      <td>-1.154713</td>\n",
       "    </tr>\n",
       "    <tr>\n",
       "      <th>7</th>\n",
       "      <td>-0.972264</td>\n",
       "      <td>0.433243</td>\n",
       "      <td>0.183487</td>\n",
       "      <td>-0.828884</td>\n",
       "    </tr>\n",
       "    <tr>\n",
       "      <th>8</th>\n",
       "      <td>1.268557</td>\n",
       "      <td>0.563185</td>\n",
       "      <td>0.585186</td>\n",
       "      <td>-0.127123</td>\n",
       "    </tr>\n",
       "    <tr>\n",
       "      <th>9</th>\n",
       "      <td>1.201261</td>\n",
       "      <td>0.105724</td>\n",
       "      <td>0.219351</td>\n",
       "      <td>-0.067633</td>\n",
       "    </tr>\n",
       "  </tbody>\n",
       "</table>\n",
       "</div>"
      ],
      "text/plain": [
       "          0         1         2         3\n",
       "0 -0.518701 -0.957149 -1.249274 -0.320769\n",
       "1  0.895325  1.048505  0.971226 -1.024131\n",
       "2  0.565346 -1.356156  1.684192  0.808174\n",
       "3 -0.053902  2.090642 -0.366575 -0.459022\n",
       "4  0.177499  1.775856  2.203882  2.056373\n",
       "5 -0.661481 -0.012267  0.410668 -0.648937\n",
       "6 -1.985803 -0.744903  0.620576 -1.154713\n",
       "7 -0.972264  0.433243  0.183487 -0.828884\n",
       "8  1.268557  0.563185  0.585186 -0.127123\n",
       "9  1.201261  0.105724  0.219351 -0.067633"
      ]
     },
     "execution_count": 143,
     "metadata": {},
     "output_type": "execute_result"
    }
   ],
   "source": [
    "df = pd.DataFrame(np.random.randn(10, 4))\n",
    "df"
   ]
  },
  {
   "cell_type": "code",
   "execution_count": 144,
   "metadata": {
    "_cell_guid": "295ac685-5727-4a04-b910-34810572e984",
    "_uuid": "e1b0e0b7a541f0347586622dbd355ca42b7778cd"
   },
   "outputs": [
    {
     "data": {
      "text/plain": [
       "[          0         1         2         3\n",
       " 0 -0.518701 -0.957149 -1.249274 -0.320769\n",
       " 1  0.895325  1.048505  0.971226 -1.024131\n",
       " 2  0.565346 -1.356156  1.684192  0.808174,\n",
       "           0         1         2         3\n",
       " 3 -0.053902  2.090642 -0.366575 -0.459022\n",
       " 4  0.177499  1.775856  2.203882  2.056373\n",
       " 5 -0.661481 -0.012267  0.410668 -0.648937\n",
       " 6 -1.985803 -0.744903  0.620576 -1.154713,\n",
       "           0         1         2         3\n",
       " 7 -0.972264  0.433243  0.183487 -0.828884\n",
       " 8  1.268557  0.563185  0.585186 -0.127123\n",
       " 9  1.201261  0.105724  0.219351 -0.067633]"
      ]
     },
     "execution_count": 144,
     "metadata": {},
     "output_type": "execute_result"
    }
   ],
   "source": [
    "#break it into pieces:\n",
    "pieces = [df[:3], df[3:7], df[7:]]\n",
    "pieces"
   ]
  },
  {
   "cell_type": "code",
   "execution_count": 145,
   "metadata": {
    "_cell_guid": "aa28f68e-a314-4bbe-a71b-568238c3be23",
    "_uuid": "ec51477795c9b3f0bd0366d130175b226cc9232b"
   },
   "outputs": [
    {
     "data": {
      "text/html": [
       "<div>\n",
       "<style>\n",
       "    .dataframe thead tr:only-child th {\n",
       "        text-align: right;\n",
       "    }\n",
       "\n",
       "    .dataframe thead th {\n",
       "        text-align: left;\n",
       "    }\n",
       "\n",
       "    .dataframe tbody tr th {\n",
       "        vertical-align: top;\n",
       "    }\n",
       "</style>\n",
       "<table border=\"1\" class=\"dataframe\">\n",
       "  <thead>\n",
       "    <tr style=\"text-align: right;\">\n",
       "      <th></th>\n",
       "      <th>0</th>\n",
       "      <th>1</th>\n",
       "      <th>2</th>\n",
       "      <th>3</th>\n",
       "    </tr>\n",
       "  </thead>\n",
       "  <tbody>\n",
       "    <tr>\n",
       "      <th>0</th>\n",
       "      <td>-0.518701</td>\n",
       "      <td>-0.957149</td>\n",
       "      <td>-1.249274</td>\n",
       "      <td>-0.320769</td>\n",
       "    </tr>\n",
       "    <tr>\n",
       "      <th>1</th>\n",
       "      <td>0.895325</td>\n",
       "      <td>1.048505</td>\n",
       "      <td>0.971226</td>\n",
       "      <td>-1.024131</td>\n",
       "    </tr>\n",
       "    <tr>\n",
       "      <th>2</th>\n",
       "      <td>0.565346</td>\n",
       "      <td>-1.356156</td>\n",
       "      <td>1.684192</td>\n",
       "      <td>0.808174</td>\n",
       "    </tr>\n",
       "    <tr>\n",
       "      <th>3</th>\n",
       "      <td>-0.053902</td>\n",
       "      <td>2.090642</td>\n",
       "      <td>-0.366575</td>\n",
       "      <td>-0.459022</td>\n",
       "    </tr>\n",
       "    <tr>\n",
       "      <th>4</th>\n",
       "      <td>0.177499</td>\n",
       "      <td>1.775856</td>\n",
       "      <td>2.203882</td>\n",
       "      <td>2.056373</td>\n",
       "    </tr>\n",
       "    <tr>\n",
       "      <th>5</th>\n",
       "      <td>-0.661481</td>\n",
       "      <td>-0.012267</td>\n",
       "      <td>0.410668</td>\n",
       "      <td>-0.648937</td>\n",
       "    </tr>\n",
       "    <tr>\n",
       "      <th>6</th>\n",
       "      <td>-1.985803</td>\n",
       "      <td>-0.744903</td>\n",
       "      <td>0.620576</td>\n",
       "      <td>-1.154713</td>\n",
       "    </tr>\n",
       "    <tr>\n",
       "      <th>7</th>\n",
       "      <td>-0.972264</td>\n",
       "      <td>0.433243</td>\n",
       "      <td>0.183487</td>\n",
       "      <td>-0.828884</td>\n",
       "    </tr>\n",
       "    <tr>\n",
       "      <th>8</th>\n",
       "      <td>1.268557</td>\n",
       "      <td>0.563185</td>\n",
       "      <td>0.585186</td>\n",
       "      <td>-0.127123</td>\n",
       "    </tr>\n",
       "    <tr>\n",
       "      <th>9</th>\n",
       "      <td>1.201261</td>\n",
       "      <td>0.105724</td>\n",
       "      <td>0.219351</td>\n",
       "      <td>-0.067633</td>\n",
       "    </tr>\n",
       "  </tbody>\n",
       "</table>\n",
       "</div>"
      ],
      "text/plain": [
       "          0         1         2         3\n",
       "0 -0.518701 -0.957149 -1.249274 -0.320769\n",
       "1  0.895325  1.048505  0.971226 -1.024131\n",
       "2  0.565346 -1.356156  1.684192  0.808174\n",
       "3 -0.053902  2.090642 -0.366575 -0.459022\n",
       "4  0.177499  1.775856  2.203882  2.056373\n",
       "5 -0.661481 -0.012267  0.410668 -0.648937\n",
       "6 -1.985803 -0.744903  0.620576 -1.154713\n",
       "7 -0.972264  0.433243  0.183487 -0.828884\n",
       "8  1.268557  0.563185  0.585186 -0.127123\n",
       "9  1.201261  0.105724  0.219351 -0.067633"
      ]
     },
     "execution_count": 145,
     "metadata": {},
     "output_type": "execute_result"
    }
   ],
   "source": [
    "pd.concat(pieces)\n"
   ]
  },
  {
   "cell_type": "markdown",
   "metadata": {
    "_cell_guid": "62030eae-f3ff-4d73-816b-a7c9b16d557d",
    "_uuid": "bd71a71d0715857037ccb116bec2084ac65f0a17"
   },
   "source": [
    "### Join"
   ]
  },
  {
   "cell_type": "markdown",
   "metadata": {
    "_cell_guid": "1fc997a6-5359-4fcd-bd1a-b0348f71b819",
    "_uuid": "2e5ea2b06b8349ad6e39af887988652edb8fbb73"
   },
   "source": [
    "SQL スタイルのマージ. \n",
    "参考 [Database style joining](https://pandas.pydata.org/pandas-docs/stable/merging.html#merging-join)"
   ]
  },
  {
   "cell_type": "code",
   "execution_count": 147,
   "metadata": {
    "_cell_guid": "e4564981-808b-4154-8e35-6e94c2883821",
    "_uuid": "ae963f9acd041abc13954a8b57425a162550106f"
   },
   "outputs": [
    {
     "data": {
      "text/html": [
       "<div>\n",
       "<style>\n",
       "    .dataframe thead tr:only-child th {\n",
       "        text-align: right;\n",
       "    }\n",
       "\n",
       "    .dataframe thead th {\n",
       "        text-align: left;\n",
       "    }\n",
       "\n",
       "    .dataframe tbody tr th {\n",
       "        vertical-align: top;\n",
       "    }\n",
       "</style>\n",
       "<table border=\"1\" class=\"dataframe\">\n",
       "  <thead>\n",
       "    <tr style=\"text-align: right;\">\n",
       "      <th></th>\n",
       "      <th>key</th>\n",
       "      <th>lval</th>\n",
       "    </tr>\n",
       "  </thead>\n",
       "  <tbody>\n",
       "    <tr>\n",
       "      <th>0</th>\n",
       "      <td>foo</td>\n",
       "      <td>1</td>\n",
       "    </tr>\n",
       "    <tr>\n",
       "      <th>1</th>\n",
       "      <td>foo</td>\n",
       "      <td>2</td>\n",
       "    </tr>\n",
       "  </tbody>\n",
       "</table>\n",
       "</div>"
      ],
      "text/plain": [
       "   key  lval\n",
       "0  foo     1\n",
       "1  foo     2"
      ]
     },
     "execution_count": 147,
     "metadata": {},
     "output_type": "execute_result"
    }
   ],
   "source": [
    "left = pd.DataFrame({'key': ['foo', 'foo'], 'lval': [1, 2]})\n",
    "left"
   ]
  },
  {
   "cell_type": "code",
   "execution_count": 148,
   "metadata": {
    "_cell_guid": "4fc7aac1-cf73-4026-9f1a-765b5a8177b3",
    "_uuid": "4c66f190e7c6b22d22629bba2da2b253ebc0258d"
   },
   "outputs": [
    {
     "data": {
      "text/html": [
       "<div>\n",
       "<style>\n",
       "    .dataframe thead tr:only-child th {\n",
       "        text-align: right;\n",
       "    }\n",
       "\n",
       "    .dataframe thead th {\n",
       "        text-align: left;\n",
       "    }\n",
       "\n",
       "    .dataframe tbody tr th {\n",
       "        vertical-align: top;\n",
       "    }\n",
       "</style>\n",
       "<table border=\"1\" class=\"dataframe\">\n",
       "  <thead>\n",
       "    <tr style=\"text-align: right;\">\n",
       "      <th></th>\n",
       "      <th>key</th>\n",
       "      <th>rval</th>\n",
       "    </tr>\n",
       "  </thead>\n",
       "  <tbody>\n",
       "    <tr>\n",
       "      <th>0</th>\n",
       "      <td>foo</td>\n",
       "      <td>4</td>\n",
       "    </tr>\n",
       "    <tr>\n",
       "      <th>1</th>\n",
       "      <td>foo</td>\n",
       "      <td>5</td>\n",
       "    </tr>\n",
       "  </tbody>\n",
       "</table>\n",
       "</div>"
      ],
      "text/plain": [
       "   key  rval\n",
       "0  foo     4\n",
       "1  foo     5"
      ]
     },
     "execution_count": 148,
     "metadata": {},
     "output_type": "execute_result"
    }
   ],
   "source": [
    "right = pd.DataFrame({'key': ['foo', 'foo'], 'rval': [4, 5]})\n",
    "right"
   ]
  },
  {
   "cell_type": "code",
   "execution_count": 63,
   "metadata": {
    "_cell_guid": "d5208a6c-f5d4-4e03-9ae0-bbfb8c119e36",
    "_uuid": "72654ecbb57e52b793ee3be15f82cade614c6158"
   },
   "outputs": [
    {
     "data": {
      "text/html": [
       "<div>\n",
       "<style>\n",
       "    .dataframe thead tr:only-child th {\n",
       "        text-align: right;\n",
       "    }\n",
       "\n",
       "    .dataframe thead th {\n",
       "        text-align: left;\n",
       "    }\n",
       "\n",
       "    .dataframe tbody tr th {\n",
       "        vertical-align: top;\n",
       "    }\n",
       "</style>\n",
       "<table border=\"1\" class=\"dataframe\">\n",
       "  <thead>\n",
       "    <tr style=\"text-align: right;\">\n",
       "      <th></th>\n",
       "      <th>key</th>\n",
       "      <th>lval</th>\n",
       "      <th>rval</th>\n",
       "    </tr>\n",
       "  </thead>\n",
       "  <tbody>\n",
       "    <tr>\n",
       "      <th>0</th>\n",
       "      <td>foo</td>\n",
       "      <td>1</td>\n",
       "      <td>4</td>\n",
       "    </tr>\n",
       "    <tr>\n",
       "      <th>1</th>\n",
       "      <td>foo</td>\n",
       "      <td>1</td>\n",
       "      <td>5</td>\n",
       "    </tr>\n",
       "    <tr>\n",
       "      <th>2</th>\n",
       "      <td>foo</td>\n",
       "      <td>2</td>\n",
       "      <td>4</td>\n",
       "    </tr>\n",
       "    <tr>\n",
       "      <th>3</th>\n",
       "      <td>foo</td>\n",
       "      <td>2</td>\n",
       "      <td>5</td>\n",
       "    </tr>\n",
       "  </tbody>\n",
       "</table>\n",
       "</div>"
      ],
      "text/plain": [
       "   key  lval  rval\n",
       "0  foo     1     4\n",
       "1  foo     1     5\n",
       "2  foo     2     4\n",
       "3  foo     2     5"
      ]
     },
     "execution_count": 63,
     "metadata": {},
     "output_type": "execute_result"
    }
   ],
   "source": [
    "pd.merge(left,right,on='key')"
   ]
  },
  {
   "cell_type": "markdown",
   "metadata": {
    "_cell_guid": "1bac3a7a-793c-4af0-a6a4-7a52ee72058d",
    "_uuid": "c1d886d9d9ebee002af9f789a1b7acf9ede81959"
   },
   "source": [
    "もう一つの例"
   ]
  },
  {
   "cell_type": "code",
   "execution_count": 149,
   "metadata": {
    "_cell_guid": "ec2e4826-c7f0-44e1-90aa-cd981d8deb4f",
    "_uuid": "bc2f4621a6c78f60b886b35ec9a6aceaf4f7f1a6"
   },
   "outputs": [
    {
     "data": {
      "text/html": [
       "<div>\n",
       "<style>\n",
       "    .dataframe thead tr:only-child th {\n",
       "        text-align: right;\n",
       "    }\n",
       "\n",
       "    .dataframe thead th {\n",
       "        text-align: left;\n",
       "    }\n",
       "\n",
       "    .dataframe tbody tr th {\n",
       "        vertical-align: top;\n",
       "    }\n",
       "</style>\n",
       "<table border=\"1\" class=\"dataframe\">\n",
       "  <thead>\n",
       "    <tr style=\"text-align: right;\">\n",
       "      <th></th>\n",
       "      <th>key</th>\n",
       "      <th>lval</th>\n",
       "    </tr>\n",
       "  </thead>\n",
       "  <tbody>\n",
       "    <tr>\n",
       "      <th>0</th>\n",
       "      <td>foo</td>\n",
       "      <td>1</td>\n",
       "    </tr>\n",
       "    <tr>\n",
       "      <th>1</th>\n",
       "      <td>bar</td>\n",
       "      <td>2</td>\n",
       "    </tr>\n",
       "  </tbody>\n",
       "</table>\n",
       "</div>"
      ],
      "text/plain": [
       "   key  lval\n",
       "0  foo     1\n",
       "1  bar     2"
      ]
     },
     "execution_count": 149,
     "metadata": {},
     "output_type": "execute_result"
    }
   ],
   "source": [
    "left = pd.DataFrame({'key': ['foo', 'bar'], 'lval': [1, 2]})\n",
    "left"
   ]
  },
  {
   "cell_type": "code",
   "execution_count": 150,
   "metadata": {
    "_cell_guid": "e5c24cf6-23e1-4949-9fee-bdedd1ad4130",
    "_uuid": "337fd14edbbaeedb42b598f0a185e235f71d673a"
   },
   "outputs": [
    {
     "data": {
      "text/html": [
       "<div>\n",
       "<style>\n",
       "    .dataframe thead tr:only-child th {\n",
       "        text-align: right;\n",
       "    }\n",
       "\n",
       "    .dataframe thead th {\n",
       "        text-align: left;\n",
       "    }\n",
       "\n",
       "    .dataframe tbody tr th {\n",
       "        vertical-align: top;\n",
       "    }\n",
       "</style>\n",
       "<table border=\"1\" class=\"dataframe\">\n",
       "  <thead>\n",
       "    <tr style=\"text-align: right;\">\n",
       "      <th></th>\n",
       "      <th>key</th>\n",
       "      <th>rval</th>\n",
       "    </tr>\n",
       "  </thead>\n",
       "  <tbody>\n",
       "    <tr>\n",
       "      <th>0</th>\n",
       "      <td>foo</td>\n",
       "      <td>4</td>\n",
       "    </tr>\n",
       "    <tr>\n",
       "      <th>1</th>\n",
       "      <td>bar</td>\n",
       "      <td>5</td>\n",
       "    </tr>\n",
       "  </tbody>\n",
       "</table>\n",
       "</div>"
      ],
      "text/plain": [
       "   key  rval\n",
       "0  foo     4\n",
       "1  bar     5"
      ]
     },
     "execution_count": 150,
     "metadata": {},
     "output_type": "execute_result"
    }
   ],
   "source": [
    "right = pd.DataFrame({'key': ['foo', 'bar'], 'rval': [4, 5]})\n",
    "right"
   ]
  },
  {
   "cell_type": "code",
   "execution_count": 66,
   "metadata": {
    "_cell_guid": "475c1acd-7405-4994-a861-28c7a8416b54",
    "_uuid": "acdb46712ef690150987d134784361bbc32eb90b"
   },
   "outputs": [
    {
     "data": {
      "text/html": [
       "<div>\n",
       "<style>\n",
       "    .dataframe thead tr:only-child th {\n",
       "        text-align: right;\n",
       "    }\n",
       "\n",
       "    .dataframe thead th {\n",
       "        text-align: left;\n",
       "    }\n",
       "\n",
       "    .dataframe tbody tr th {\n",
       "        vertical-align: top;\n",
       "    }\n",
       "</style>\n",
       "<table border=\"1\" class=\"dataframe\">\n",
       "  <thead>\n",
       "    <tr style=\"text-align: right;\">\n",
       "      <th></th>\n",
       "      <th>key</th>\n",
       "      <th>lval</th>\n",
       "      <th>rval</th>\n",
       "    </tr>\n",
       "  </thead>\n",
       "  <tbody>\n",
       "    <tr>\n",
       "      <th>0</th>\n",
       "      <td>foo</td>\n",
       "      <td>1</td>\n",
       "      <td>4</td>\n",
       "    </tr>\n",
       "    <tr>\n",
       "      <th>1</th>\n",
       "      <td>bar</td>\n",
       "      <td>2</td>\n",
       "      <td>5</td>\n",
       "    </tr>\n",
       "  </tbody>\n",
       "</table>\n",
       "</div>"
      ],
      "text/plain": [
       "   key  lval  rval\n",
       "0  foo     1     4\n",
       "1  bar     2     5"
      ]
     },
     "execution_count": 66,
     "metadata": {},
     "output_type": "execute_result"
    }
   ],
   "source": [
    "pd.merge(left, right, on='key')"
   ]
  },
  {
   "cell_type": "markdown",
   "metadata": {
    "_cell_guid": "dae9ef46-214d-48e2-ba5c-7e8191f33320",
    "_uuid": "52dfbaeb0fc5416d2e15972f3f544b689f32b701"
   },
   "source": [
    "### Append\n",
    "データフレームに行を追加します。\n",
    "参考 [Appending](https://pandas.pydata.org/pandas-docs/stable/merging.html#merging-concatenation)"
   ]
  },
  {
   "cell_type": "code",
   "execution_count": 152,
   "metadata": {
    "_cell_guid": "df5cdd4b-3313-4a96-82cc-873ad0c67565",
    "_uuid": "4475724eba1b82530cfd5c7d32d46f4d3c2be1a5"
   },
   "outputs": [
    {
     "data": {
      "text/html": [
       "<div>\n",
       "<style>\n",
       "    .dataframe thead tr:only-child th {\n",
       "        text-align: right;\n",
       "    }\n",
       "\n",
       "    .dataframe thead th {\n",
       "        text-align: left;\n",
       "    }\n",
       "\n",
       "    .dataframe tbody tr th {\n",
       "        vertical-align: top;\n",
       "    }\n",
       "</style>\n",
       "<table border=\"1\" class=\"dataframe\">\n",
       "  <thead>\n",
       "    <tr style=\"text-align: right;\">\n",
       "      <th></th>\n",
       "      <th>A</th>\n",
       "      <th>B</th>\n",
       "      <th>C</th>\n",
       "      <th>D</th>\n",
       "    </tr>\n",
       "  </thead>\n",
       "  <tbody>\n",
       "    <tr>\n",
       "      <th>0</th>\n",
       "      <td>-0.979225</td>\n",
       "      <td>-1.243339</td>\n",
       "      <td>0.945594</td>\n",
       "      <td>0.430399</td>\n",
       "    </tr>\n",
       "    <tr>\n",
       "      <th>1</th>\n",
       "      <td>0.252162</td>\n",
       "      <td>-0.395946</td>\n",
       "      <td>-0.163091</td>\n",
       "      <td>-0.965927</td>\n",
       "    </tr>\n",
       "    <tr>\n",
       "      <th>2</th>\n",
       "      <td>-0.443594</td>\n",
       "      <td>-1.249420</td>\n",
       "      <td>1.116439</td>\n",
       "      <td>-0.608930</td>\n",
       "    </tr>\n",
       "    <tr>\n",
       "      <th>3</th>\n",
       "      <td>1.120911</td>\n",
       "      <td>-0.751007</td>\n",
       "      <td>-1.311861</td>\n",
       "      <td>0.412696</td>\n",
       "    </tr>\n",
       "    <tr>\n",
       "      <th>4</th>\n",
       "      <td>-0.287261</td>\n",
       "      <td>-1.372197</td>\n",
       "      <td>-0.430258</td>\n",
       "      <td>-0.540105</td>\n",
       "    </tr>\n",
       "    <tr>\n",
       "      <th>5</th>\n",
       "      <td>1.213147</td>\n",
       "      <td>0.407688</td>\n",
       "      <td>2.330624</td>\n",
       "      <td>0.327149</td>\n",
       "    </tr>\n",
       "    <tr>\n",
       "      <th>6</th>\n",
       "      <td>0.340052</td>\n",
       "      <td>0.253555</td>\n",
       "      <td>-0.465834</td>\n",
       "      <td>1.918152</td>\n",
       "    </tr>\n",
       "    <tr>\n",
       "      <th>7</th>\n",
       "      <td>-1.216439</td>\n",
       "      <td>-0.080202</td>\n",
       "      <td>-1.296371</td>\n",
       "      <td>-1.186530</td>\n",
       "    </tr>\n",
       "  </tbody>\n",
       "</table>\n",
       "</div>"
      ],
      "text/plain": [
       "          A         B         C         D\n",
       "0 -0.979225 -1.243339  0.945594  0.430399\n",
       "1  0.252162 -0.395946 -0.163091 -0.965927\n",
       "2 -0.443594 -1.249420  1.116439 -0.608930\n",
       "3  1.120911 -0.751007 -1.311861  0.412696\n",
       "4 -0.287261 -1.372197 -0.430258 -0.540105\n",
       "5  1.213147  0.407688  2.330624  0.327149\n",
       "6  0.340052  0.253555 -0.465834  1.918152\n",
       "7 -1.216439 -0.080202 -1.296371 -1.186530"
      ]
     },
     "execution_count": 152,
     "metadata": {},
     "output_type": "execute_result"
    }
   ],
   "source": [
    "df = pd.DataFrame(np.random.randn(8, 4), columns=['A','B','C','D'])\n",
    "df"
   ]
  },
  {
   "cell_type": "code",
   "execution_count": 153,
   "metadata": {
    "_cell_guid": "b15aafac-1acf-4dff-87fc-3e43b9e0ae68",
    "_uuid": "963ccfe458e2b84996e688c787dc9daf00ddfa2f"
   },
   "outputs": [
    {
     "data": {
      "text/plain": [
       "A    1.120911\n",
       "B   -0.751007\n",
       "C   -1.311861\n",
       "D    0.412696\n",
       "Name: 3, dtype: float64"
      ]
     },
     "execution_count": 153,
     "metadata": {},
     "output_type": "execute_result"
    }
   ],
   "source": [
    "s = df.iloc[3]\n",
    "s"
   ]
  },
  {
   "cell_type": "code",
   "execution_count": 154,
   "metadata": {
    "_cell_guid": "8e8e9c59-b72f-423a-888b-adb66ff31f0d",
    "_uuid": "5de0b99314a3e8b7d347050a5d09f729dd54ed52"
   },
   "outputs": [
    {
     "data": {
      "text/html": [
       "<div>\n",
       "<style>\n",
       "    .dataframe thead tr:only-child th {\n",
       "        text-align: right;\n",
       "    }\n",
       "\n",
       "    .dataframe thead th {\n",
       "        text-align: left;\n",
       "    }\n",
       "\n",
       "    .dataframe tbody tr th {\n",
       "        vertical-align: top;\n",
       "    }\n",
       "</style>\n",
       "<table border=\"1\" class=\"dataframe\">\n",
       "  <thead>\n",
       "    <tr style=\"text-align: right;\">\n",
       "      <th></th>\n",
       "      <th>A</th>\n",
       "      <th>B</th>\n",
       "      <th>C</th>\n",
       "      <th>D</th>\n",
       "    </tr>\n",
       "  </thead>\n",
       "  <tbody>\n",
       "    <tr>\n",
       "      <th>0</th>\n",
       "      <td>-0.979225</td>\n",
       "      <td>-1.243339</td>\n",
       "      <td>0.945594</td>\n",
       "      <td>0.430399</td>\n",
       "    </tr>\n",
       "    <tr>\n",
       "      <th>1</th>\n",
       "      <td>0.252162</td>\n",
       "      <td>-0.395946</td>\n",
       "      <td>-0.163091</td>\n",
       "      <td>-0.965927</td>\n",
       "    </tr>\n",
       "    <tr>\n",
       "      <th>2</th>\n",
       "      <td>-0.443594</td>\n",
       "      <td>-1.249420</td>\n",
       "      <td>1.116439</td>\n",
       "      <td>-0.608930</td>\n",
       "    </tr>\n",
       "    <tr>\n",
       "      <th>3</th>\n",
       "      <td>1.120911</td>\n",
       "      <td>-0.751007</td>\n",
       "      <td>-1.311861</td>\n",
       "      <td>0.412696</td>\n",
       "    </tr>\n",
       "    <tr>\n",
       "      <th>4</th>\n",
       "      <td>-0.287261</td>\n",
       "      <td>-1.372197</td>\n",
       "      <td>-0.430258</td>\n",
       "      <td>-0.540105</td>\n",
       "    </tr>\n",
       "    <tr>\n",
       "      <th>5</th>\n",
       "      <td>1.213147</td>\n",
       "      <td>0.407688</td>\n",
       "      <td>2.330624</td>\n",
       "      <td>0.327149</td>\n",
       "    </tr>\n",
       "    <tr>\n",
       "      <th>6</th>\n",
       "      <td>0.340052</td>\n",
       "      <td>0.253555</td>\n",
       "      <td>-0.465834</td>\n",
       "      <td>1.918152</td>\n",
       "    </tr>\n",
       "    <tr>\n",
       "      <th>7</th>\n",
       "      <td>-1.216439</td>\n",
       "      <td>-0.080202</td>\n",
       "      <td>-1.296371</td>\n",
       "      <td>-1.186530</td>\n",
       "    </tr>\n",
       "    <tr>\n",
       "      <th>8</th>\n",
       "      <td>1.120911</td>\n",
       "      <td>-0.751007</td>\n",
       "      <td>-1.311861</td>\n",
       "      <td>0.412696</td>\n",
       "    </tr>\n",
       "  </tbody>\n",
       "</table>\n",
       "</div>"
      ],
      "text/plain": [
       "          A         B         C         D\n",
       "0 -0.979225 -1.243339  0.945594  0.430399\n",
       "1  0.252162 -0.395946 -0.163091 -0.965927\n",
       "2 -0.443594 -1.249420  1.116439 -0.608930\n",
       "3  1.120911 -0.751007 -1.311861  0.412696\n",
       "4 -0.287261 -1.372197 -0.430258 -0.540105\n",
       "5  1.213147  0.407688  2.330624  0.327149\n",
       "6  0.340052  0.253555 -0.465834  1.918152\n",
       "7 -1.216439 -0.080202 -1.296371 -1.186530\n",
       "8  1.120911 -0.751007 -1.311861  0.412696"
      ]
     },
     "execution_count": 154,
     "metadata": {},
     "output_type": "execute_result"
    }
   ],
   "source": [
    "df.append(s,ignore_index=True)"
   ]
  },
  {
   "cell_type": "markdown",
   "metadata": {
    "_cell_guid": "dbf8666d-7af7-4fd0-b40a-5dd3a93cc0cb",
    "_uuid": "9f29392de68aceec0cadc01ccdfc2c124e6821f2"
   },
   "source": [
    "# グルーピング\n",
    "“group by”により、以下のステップのうちのいくつかを含むプロセスが行われます。\n",
    "\n",
    "一定の基準に従って、データをいくつかのグループに分割します。\n",
    "関数をそれぞれのグループに独立に適用します。\n",
    "結果を一定のデータ構造にまとめます。\n",
    "\n",
    "参考 [Grouping section](https://pandas.pydata.org/pandas-docs/stable/groupby.html#groupby)"
   ]
  },
  {
   "cell_type": "code",
   "execution_count": 155,
   "metadata": {
    "_cell_guid": "23331b94-daca-4454-9f8c-f442169e5062",
    "_uuid": "4934d8285f1ed9fc748cb571d8bf212d6f4880ed"
   },
   "outputs": [
    {
     "data": {
      "text/html": [
       "<div>\n",
       "<style>\n",
       "    .dataframe thead tr:only-child th {\n",
       "        text-align: right;\n",
       "    }\n",
       "\n",
       "    .dataframe thead th {\n",
       "        text-align: left;\n",
       "    }\n",
       "\n",
       "    .dataframe tbody tr th {\n",
       "        vertical-align: top;\n",
       "    }\n",
       "</style>\n",
       "<table border=\"1\" class=\"dataframe\">\n",
       "  <thead>\n",
       "    <tr style=\"text-align: right;\">\n",
       "      <th></th>\n",
       "      <th>A</th>\n",
       "      <th>B</th>\n",
       "      <th>C</th>\n",
       "      <th>D</th>\n",
       "    </tr>\n",
       "  </thead>\n",
       "  <tbody>\n",
       "    <tr>\n",
       "      <th>0</th>\n",
       "      <td>foo</td>\n",
       "      <td>one</td>\n",
       "      <td>0.847067</td>\n",
       "      <td>0.491924</td>\n",
       "    </tr>\n",
       "    <tr>\n",
       "      <th>1</th>\n",
       "      <td>bar</td>\n",
       "      <td>one</td>\n",
       "      <td>-0.307294</td>\n",
       "      <td>0.418317</td>\n",
       "    </tr>\n",
       "    <tr>\n",
       "      <th>2</th>\n",
       "      <td>foo</td>\n",
       "      <td>two</td>\n",
       "      <td>1.301159</td>\n",
       "      <td>0.967032</td>\n",
       "    </tr>\n",
       "    <tr>\n",
       "      <th>3</th>\n",
       "      <td>bar</td>\n",
       "      <td>three</td>\n",
       "      <td>-0.298608</td>\n",
       "      <td>-0.199078</td>\n",
       "    </tr>\n",
       "    <tr>\n",
       "      <th>4</th>\n",
       "      <td>foo</td>\n",
       "      <td>two</td>\n",
       "      <td>0.538980</td>\n",
       "      <td>0.129709</td>\n",
       "    </tr>\n",
       "    <tr>\n",
       "      <th>5</th>\n",
       "      <td>bar</td>\n",
       "      <td>two</td>\n",
       "      <td>-1.092960</td>\n",
       "      <td>-0.254944</td>\n",
       "    </tr>\n",
       "    <tr>\n",
       "      <th>6</th>\n",
       "      <td>foo</td>\n",
       "      <td>one</td>\n",
       "      <td>0.629237</td>\n",
       "      <td>-0.981574</td>\n",
       "    </tr>\n",
       "    <tr>\n",
       "      <th>7</th>\n",
       "      <td>foo</td>\n",
       "      <td>three</td>\n",
       "      <td>-0.710182</td>\n",
       "      <td>-0.476314</td>\n",
       "    </tr>\n",
       "  </tbody>\n",
       "</table>\n",
       "</div>"
      ],
      "text/plain": [
       "     A      B         C         D\n",
       "0  foo    one  0.847067  0.491924\n",
       "1  bar    one -0.307294  0.418317\n",
       "2  foo    two  1.301159  0.967032\n",
       "3  bar  three -0.298608 -0.199078\n",
       "4  foo    two  0.538980  0.129709\n",
       "5  bar    two -1.092960 -0.254944\n",
       "6  foo    one  0.629237 -0.981574\n",
       "7  foo  three -0.710182 -0.476314"
      ]
     },
     "execution_count": 155,
     "metadata": {},
     "output_type": "execute_result"
    }
   ],
   "source": [
    "df = pd.DataFrame({'A' : ['foo', 'bar', 'foo', 'bar',\n",
    "   ....:                           'foo', 'bar', 'foo', 'foo'],\n",
    "   ....:                    'B' : ['one', 'one', 'two', 'three',\n",
    "   ....:                           'two', 'two', 'one', 'three'],\n",
    "   ....:                    'C' : np.random.randn(8),\n",
    "   ....:                    'D' : np.random.randn(8)})\n",
    "df"
   ]
  },
  {
   "cell_type": "markdown",
   "metadata": {
    "_cell_guid": "6ba9b996-c9dc-4ea0-901b-32ee9251529c",
    "_uuid": "c58620f714db8772c05d14a5945c69db2e2f8e62"
   },
   "source": [
    "グルーピングして、それぞれのグループにsum関数を適用します。"
   ]
  },
  {
   "cell_type": "code",
   "execution_count": 156,
   "metadata": {
    "_cell_guid": "ea8abe75-1945-402c-9a22-7d19393853ba",
    "_uuid": "98178d2cec0567107285d68e1dcb9aa411b74ad4"
   },
   "outputs": [
    {
     "data": {
      "text/html": [
       "<div>\n",
       "<style>\n",
       "    .dataframe thead tr:only-child th {\n",
       "        text-align: right;\n",
       "    }\n",
       "\n",
       "    .dataframe thead th {\n",
       "        text-align: left;\n",
       "    }\n",
       "\n",
       "    .dataframe tbody tr th {\n",
       "        vertical-align: top;\n",
       "    }\n",
       "</style>\n",
       "<table border=\"1\" class=\"dataframe\">\n",
       "  <thead>\n",
       "    <tr style=\"text-align: right;\">\n",
       "      <th></th>\n",
       "      <th>C</th>\n",
       "      <th>D</th>\n",
       "    </tr>\n",
       "    <tr>\n",
       "      <th>A</th>\n",
       "      <th></th>\n",
       "      <th></th>\n",
       "    </tr>\n",
       "  </thead>\n",
       "  <tbody>\n",
       "    <tr>\n",
       "      <th>bar</th>\n",
       "      <td>-1.698861</td>\n",
       "      <td>-0.035705</td>\n",
       "    </tr>\n",
       "    <tr>\n",
       "      <th>foo</th>\n",
       "      <td>2.606262</td>\n",
       "      <td>0.130777</td>\n",
       "    </tr>\n",
       "  </tbody>\n",
       "</table>\n",
       "</div>"
      ],
      "text/plain": [
       "            C         D\n",
       "A                      \n",
       "bar -1.698861 -0.035705\n",
       "foo  2.606262  0.130777"
      ]
     },
     "execution_count": 156,
     "metadata": {},
     "output_type": "execute_result"
    }
   ],
   "source": [
    "df.groupby('A').sum()"
   ]
  },
  {
   "cell_type": "markdown",
   "metadata": {
    "_cell_guid": "8d5181e7-9196-4575-979a-5167e1347f99",
    "_uuid": "4e11d0fa50d0c5f4ba267e7f13af361eb78715fa"
   },
   "source": [
    "複数の列によるグループ化により階層的なインデックスが構成され、関数が適用されます。"
   ]
  },
  {
   "cell_type": "code",
   "execution_count": 72,
   "metadata": {
    "_cell_guid": "d4fd100b-cd69-4f81-afae-f1930e1d66c2",
    "_uuid": "f66bb1fb16b537febc7839743a177a222f4946e5"
   },
   "outputs": [
    {
     "data": {
      "text/html": [
       "<div>\n",
       "<style>\n",
       "    .dataframe thead tr:only-child th {\n",
       "        text-align: right;\n",
       "    }\n",
       "\n",
       "    .dataframe thead th {\n",
       "        text-align: left;\n",
       "    }\n",
       "\n",
       "    .dataframe tbody tr th {\n",
       "        vertical-align: top;\n",
       "    }\n",
       "</style>\n",
       "<table border=\"1\" class=\"dataframe\">\n",
       "  <thead>\n",
       "    <tr style=\"text-align: right;\">\n",
       "      <th></th>\n",
       "      <th></th>\n",
       "      <th>C</th>\n",
       "      <th>D</th>\n",
       "    </tr>\n",
       "    <tr>\n",
       "      <th>A</th>\n",
       "      <th>B</th>\n",
       "      <th></th>\n",
       "      <th></th>\n",
       "    </tr>\n",
       "  </thead>\n",
       "  <tbody>\n",
       "    <tr>\n",
       "      <th rowspan=\"3\" valign=\"top\">bar</th>\n",
       "      <th>one</th>\n",
       "      <td>-0.390323</td>\n",
       "      <td>1.474322</td>\n",
       "    </tr>\n",
       "    <tr>\n",
       "      <th>three</th>\n",
       "      <td>-0.760236</td>\n",
       "      <td>-1.369028</td>\n",
       "    </tr>\n",
       "    <tr>\n",
       "      <th>two</th>\n",
       "      <td>-0.518344</td>\n",
       "      <td>0.043898</td>\n",
       "    </tr>\n",
       "    <tr>\n",
       "      <th rowspan=\"3\" valign=\"top\">foo</th>\n",
       "      <th>one</th>\n",
       "      <td>1.197192</td>\n",
       "      <td>0.997313</td>\n",
       "    </tr>\n",
       "    <tr>\n",
       "      <th>three</th>\n",
       "      <td>0.053264</td>\n",
       "      <td>0.683534</td>\n",
       "    </tr>\n",
       "    <tr>\n",
       "      <th>two</th>\n",
       "      <td>1.232990</td>\n",
       "      <td>-0.022010</td>\n",
       "    </tr>\n",
       "  </tbody>\n",
       "</table>\n",
       "</div>"
      ],
      "text/plain": [
       "                  C         D\n",
       "A   B                        \n",
       "bar one   -0.390323  1.474322\n",
       "    three -0.760236 -1.369028\n",
       "    two   -0.518344  0.043898\n",
       "foo one    1.197192  0.997313\n",
       "    three  0.053264  0.683534\n",
       "    two    1.232990 -0.022010"
      ]
     },
     "execution_count": 72,
     "metadata": {},
     "output_type": "execute_result"
    }
   ],
   "source": [
    "df.groupby(['A','B']).sum()"
   ]
  },
  {
   "cell_type": "markdown",
   "metadata": {
    "_cell_guid": "d0c596d2-7b4a-4b22-80c9-fad65f090aba",
    "_uuid": "15911cf2e4cddee344569d63d9ed362efca7f919"
   },
   "source": [
    "# リシェイプ（Reshaping）\n",
    "参考 [Hierarchical Indexing](https://pandas.pydata.org/pandas-docs/stable/advanced.html#advanced-hierarchical) and [Reshaping](https://pandas.pydata.org/pandas-docs/stable/reshaping.html#reshaping-stacking).\n",
    "\n",
    "### Stack"
   ]
  },
  {
   "cell_type": "code",
   "execution_count": 157,
   "metadata": {
    "_cell_guid": "266aea3e-433a-436a-83df-08551438f6df",
    "_uuid": "5d1deec928f77a06ad5d090b9a72c04168cda5c2"
   },
   "outputs": [
    {
     "data": {
      "text/plain": [
       "[('bar', 'one'),\n",
       " ('bar', 'two'),\n",
       " ('baz', 'one'),\n",
       " ('baz', 'two'),\n",
       " ('foo', 'one'),\n",
       " ('foo', 'two'),\n",
       " ('qux', 'one'),\n",
       " ('qux', 'two')]"
      ]
     },
     "execution_count": 157,
     "metadata": {},
     "output_type": "execute_result"
    }
   ],
   "source": [
    "tuples = list(zip(*[['bar', 'bar', 'baz', 'baz',\n",
    "   ....:                      'foo', 'foo', 'qux', 'qux'],\n",
    "   ....:                     ['one', 'two', 'one', 'two',\n",
    "   ....:                      'one', 'two', 'one', 'two']]))\n",
    "tuples"
   ]
  },
  {
   "cell_type": "code",
   "execution_count": 158,
   "metadata": {
    "_cell_guid": "084d1096-800c-4bc4-aa44-cea9599a65dd",
    "_uuid": "4568a8525a65f30a40a3c6cbae4b8c53eb403b97"
   },
   "outputs": [
    {
     "data": {
      "text/plain": [
       "MultiIndex(levels=[['bar', 'baz', 'foo', 'qux'], ['one', 'two']],\n",
       "           labels=[[0, 0, 1, 1, 2, 2, 3, 3], [0, 1, 0, 1, 0, 1, 0, 1]],\n",
       "           names=['first', 'second'])"
      ]
     },
     "execution_count": 158,
     "metadata": {},
     "output_type": "execute_result"
    }
   ],
   "source": [
    "index = pd.MultiIndex.from_tuples(tuples, names=['first', 'second'])\n",
    "index"
   ]
  },
  {
   "cell_type": "code",
   "execution_count": 159,
   "metadata": {
    "_cell_guid": "0764158a-666f-46d9-a981-c97df7b39b34",
    "_uuid": "a05b99f0ea1fa20c13aaad0e738045f14c97e8fb"
   },
   "outputs": [
    {
     "data": {
      "text/html": [
       "<div>\n",
       "<style>\n",
       "    .dataframe thead tr:only-child th {\n",
       "        text-align: right;\n",
       "    }\n",
       "\n",
       "    .dataframe thead th {\n",
       "        text-align: left;\n",
       "    }\n",
       "\n",
       "    .dataframe tbody tr th {\n",
       "        vertical-align: top;\n",
       "    }\n",
       "</style>\n",
       "<table border=\"1\" class=\"dataframe\">\n",
       "  <thead>\n",
       "    <tr style=\"text-align: right;\">\n",
       "      <th></th>\n",
       "      <th></th>\n",
       "      <th>A</th>\n",
       "      <th>B</th>\n",
       "    </tr>\n",
       "    <tr>\n",
       "      <th>first</th>\n",
       "      <th>second</th>\n",
       "      <th></th>\n",
       "      <th></th>\n",
       "    </tr>\n",
       "  </thead>\n",
       "  <tbody>\n",
       "    <tr>\n",
       "      <th rowspan=\"2\" valign=\"top\">bar</th>\n",
       "      <th>one</th>\n",
       "      <td>-0.612025</td>\n",
       "      <td>-0.861321</td>\n",
       "    </tr>\n",
       "    <tr>\n",
       "      <th>two</th>\n",
       "      <td>-0.080575</td>\n",
       "      <td>-0.409598</td>\n",
       "    </tr>\n",
       "    <tr>\n",
       "      <th rowspan=\"2\" valign=\"top\">baz</th>\n",
       "      <th>one</th>\n",
       "      <td>-0.563634</td>\n",
       "      <td>-0.331957</td>\n",
       "    </tr>\n",
       "    <tr>\n",
       "      <th>two</th>\n",
       "      <td>0.727015</td>\n",
       "      <td>0.929332</td>\n",
       "    </tr>\n",
       "    <tr>\n",
       "      <th rowspan=\"2\" valign=\"top\">foo</th>\n",
       "      <th>one</th>\n",
       "      <td>0.671339</td>\n",
       "      <td>-0.536682</td>\n",
       "    </tr>\n",
       "    <tr>\n",
       "      <th>two</th>\n",
       "      <td>0.134221</td>\n",
       "      <td>1.346761</td>\n",
       "    </tr>\n",
       "    <tr>\n",
       "      <th rowspan=\"2\" valign=\"top\">qux</th>\n",
       "      <th>one</th>\n",
       "      <td>-0.233042</td>\n",
       "      <td>-1.544273</td>\n",
       "    </tr>\n",
       "    <tr>\n",
       "      <th>two</th>\n",
       "      <td>-0.765493</td>\n",
       "      <td>-1.104094</td>\n",
       "    </tr>\n",
       "  </tbody>\n",
       "</table>\n",
       "</div>"
      ],
      "text/plain": [
       "                     A         B\n",
       "first second                    \n",
       "bar   one    -0.612025 -0.861321\n",
       "      two    -0.080575 -0.409598\n",
       "baz   one    -0.563634 -0.331957\n",
       "      two     0.727015  0.929332\n",
       "foo   one     0.671339 -0.536682\n",
       "      two     0.134221  1.346761\n",
       "qux   one    -0.233042 -1.544273\n",
       "      two    -0.765493 -1.104094"
      ]
     },
     "execution_count": 159,
     "metadata": {},
     "output_type": "execute_result"
    }
   ],
   "source": [
    "df = pd.DataFrame(np.random.randn(8, 2), index=index, columns=['A', 'B'])\n",
    "df"
   ]
  },
  {
   "cell_type": "markdown",
   "metadata": {
    "_cell_guid": "35cca8ca-6aed-4f7e-9d52-14f5ec8e4e42",
    "_uuid": "3987868916766e10a30f5bdc3d1759ae29aec4b0"
   },
   "source": [
    "[stack()](https://pandas.pydata.org/pandas-docs/stable/generated/pandas.DataFrame.stack.html#pandas.DataFrame.stack) メソッドは、データフレームの列を“圧縮”します。"
   ]
  },
  {
   "cell_type": "code",
   "execution_count": 160,
   "metadata": {
    "_cell_guid": "ba300ff7-e5a1-4169-9b00-6c5a13e4d557",
    "_uuid": "a05087c82e0941531337c2166c6027ce8b8e9624"
   },
   "outputs": [
    {
     "data": {
      "text/plain": [
       "first  second   \n",
       "bar    one     A   -0.612025\n",
       "               B   -0.861321\n",
       "       two     A   -0.080575\n",
       "               B   -0.409598\n",
       "baz    one     A   -0.563634\n",
       "               B   -0.331957\n",
       "       two     A    0.727015\n",
       "               B    0.929332\n",
       "foo    one     A    0.671339\n",
       "               B   -0.536682\n",
       "       two     A    0.134221\n",
       "               B    1.346761\n",
       "qux    one     A   -0.233042\n",
       "               B   -1.544273\n",
       "       two     A   -0.765493\n",
       "               B   -1.104094\n",
       "dtype: float64"
      ]
     },
     "execution_count": 160,
     "metadata": {},
     "output_type": "execute_result"
    }
   ],
   "source": [
    "stacked = df.stack()\n",
    "stacked"
   ]
  },
  {
   "cell_type": "markdown",
   "metadata": {
    "_cell_guid": "e15acb89-1dd2-4ff4-90ca-796d6dc510b3",
    "_uuid": "b8d507f4029c20f98bb3a782845bc8ca13637a82"
   },
   "source": [
    "“stacked” された状態のデータフレームやシリース (マルチインデックスを有するもの)について、 [stack()](https://pandas.pydata.org/pandas-docs/stable/generated/pandas.DataFrame.stack.html#pandas.DataFrame.stack) の逆操作は [unstack()](https://pandas.pydata.org/pandas-docs/stable/generated/pandas.DataFrame.unstack.html#pandas.DataFrame.unstack)になります。デフォルトで最後のレベルを\"unstack\"します。"
   ]
  },
  {
   "cell_type": "code",
   "execution_count": 165,
   "metadata": {
    "_cell_guid": "73d256c6-dd54-418d-b3c0-ce432f397763",
    "_uuid": "7ac035cd3392fdb6e9bc8bdf49b69c279309c018"
   },
   "outputs": [
    {
     "data": {
      "text/html": [
       "<div>\n",
       "<style>\n",
       "    .dataframe thead tr:only-child th {\n",
       "        text-align: right;\n",
       "    }\n",
       "\n",
       "    .dataframe thead th {\n",
       "        text-align: left;\n",
       "    }\n",
       "\n",
       "    .dataframe tbody tr th {\n",
       "        vertical-align: top;\n",
       "    }\n",
       "</style>\n",
       "<table border=\"1\" class=\"dataframe\">\n",
       "  <thead>\n",
       "    <tr style=\"text-align: right;\">\n",
       "      <th></th>\n",
       "      <th></th>\n",
       "      <th>A</th>\n",
       "      <th>B</th>\n",
       "    </tr>\n",
       "    <tr>\n",
       "      <th>first</th>\n",
       "      <th>second</th>\n",
       "      <th></th>\n",
       "      <th></th>\n",
       "    </tr>\n",
       "  </thead>\n",
       "  <tbody>\n",
       "    <tr>\n",
       "      <th rowspan=\"2\" valign=\"top\">bar</th>\n",
       "      <th>one</th>\n",
       "      <td>-0.612025</td>\n",
       "      <td>-0.861321</td>\n",
       "    </tr>\n",
       "    <tr>\n",
       "      <th>two</th>\n",
       "      <td>-0.080575</td>\n",
       "      <td>-0.409598</td>\n",
       "    </tr>\n",
       "    <tr>\n",
       "      <th rowspan=\"2\" valign=\"top\">baz</th>\n",
       "      <th>one</th>\n",
       "      <td>-0.563634</td>\n",
       "      <td>-0.331957</td>\n",
       "    </tr>\n",
       "    <tr>\n",
       "      <th>two</th>\n",
       "      <td>0.727015</td>\n",
       "      <td>0.929332</td>\n",
       "    </tr>\n",
       "    <tr>\n",
       "      <th rowspan=\"2\" valign=\"top\">foo</th>\n",
       "      <th>one</th>\n",
       "      <td>0.671339</td>\n",
       "      <td>-0.536682</td>\n",
       "    </tr>\n",
       "    <tr>\n",
       "      <th>two</th>\n",
       "      <td>0.134221</td>\n",
       "      <td>1.346761</td>\n",
       "    </tr>\n",
       "    <tr>\n",
       "      <th rowspan=\"2\" valign=\"top\">qux</th>\n",
       "      <th>one</th>\n",
       "      <td>-0.233042</td>\n",
       "      <td>-1.544273</td>\n",
       "    </tr>\n",
       "    <tr>\n",
       "      <th>two</th>\n",
       "      <td>-0.765493</td>\n",
       "      <td>-1.104094</td>\n",
       "    </tr>\n",
       "  </tbody>\n",
       "</table>\n",
       "</div>"
      ],
      "text/plain": [
       "                     A         B\n",
       "first second                    \n",
       "bar   one    -0.612025 -0.861321\n",
       "      two    -0.080575 -0.409598\n",
       "baz   one    -0.563634 -0.331957\n",
       "      two     0.727015  0.929332\n",
       "foo   one     0.671339 -0.536682\n",
       "      two     0.134221  1.346761\n",
       "qux   one    -0.233042 -1.544273\n",
       "      two    -0.765493 -1.104094"
      ]
     },
     "execution_count": 165,
     "metadata": {},
     "output_type": "execute_result"
    }
   ],
   "source": [
    "stacked.unstack()"
   ]
  },
  {
   "cell_type": "code",
   "execution_count": 166,
   "metadata": {
    "_cell_guid": "cd7ae481-efc0-41cb-aacf-a7388c4111c0",
    "_uuid": "904cdcfbabb4492ab2a1a573c2cbd57f72bfe4bb"
   },
   "outputs": [
    {
     "data": {
      "text/html": [
       "<div>\n",
       "<style>\n",
       "    .dataframe thead tr:only-child th {\n",
       "        text-align: right;\n",
       "    }\n",
       "\n",
       "    .dataframe thead th {\n",
       "        text-align: left;\n",
       "    }\n",
       "\n",
       "    .dataframe tbody tr th {\n",
       "        vertical-align: top;\n",
       "    }\n",
       "</style>\n",
       "<table border=\"1\" class=\"dataframe\">\n",
       "  <thead>\n",
       "    <tr style=\"text-align: right;\">\n",
       "      <th></th>\n",
       "      <th>second</th>\n",
       "      <th>one</th>\n",
       "      <th>two</th>\n",
       "    </tr>\n",
       "    <tr>\n",
       "      <th>first</th>\n",
       "      <th></th>\n",
       "      <th></th>\n",
       "      <th></th>\n",
       "    </tr>\n",
       "  </thead>\n",
       "  <tbody>\n",
       "    <tr>\n",
       "      <th rowspan=\"2\" valign=\"top\">bar</th>\n",
       "      <th>A</th>\n",
       "      <td>-0.612025</td>\n",
       "      <td>-0.080575</td>\n",
       "    </tr>\n",
       "    <tr>\n",
       "      <th>B</th>\n",
       "      <td>-0.861321</td>\n",
       "      <td>-0.409598</td>\n",
       "    </tr>\n",
       "    <tr>\n",
       "      <th rowspan=\"2\" valign=\"top\">baz</th>\n",
       "      <th>A</th>\n",
       "      <td>-0.563634</td>\n",
       "      <td>0.727015</td>\n",
       "    </tr>\n",
       "    <tr>\n",
       "      <th>B</th>\n",
       "      <td>-0.331957</td>\n",
       "      <td>0.929332</td>\n",
       "    </tr>\n",
       "    <tr>\n",
       "      <th rowspan=\"2\" valign=\"top\">foo</th>\n",
       "      <th>A</th>\n",
       "      <td>0.671339</td>\n",
       "      <td>0.134221</td>\n",
       "    </tr>\n",
       "    <tr>\n",
       "      <th>B</th>\n",
       "      <td>-0.536682</td>\n",
       "      <td>1.346761</td>\n",
       "    </tr>\n",
       "    <tr>\n",
       "      <th rowspan=\"2\" valign=\"top\">qux</th>\n",
       "      <th>A</th>\n",
       "      <td>-0.233042</td>\n",
       "      <td>-0.765493</td>\n",
       "    </tr>\n",
       "    <tr>\n",
       "      <th>B</th>\n",
       "      <td>-1.544273</td>\n",
       "      <td>-1.104094</td>\n",
       "    </tr>\n",
       "  </tbody>\n",
       "</table>\n",
       "</div>"
      ],
      "text/plain": [
       "second        one       two\n",
       "first                      \n",
       "bar   A -0.612025 -0.080575\n",
       "      B -0.861321 -0.409598\n",
       "baz   A -0.563634  0.727015\n",
       "      B -0.331957  0.929332\n",
       "foo   A  0.671339  0.134221\n",
       "      B -0.536682  1.346761\n",
       "qux   A -0.233042 -0.765493\n",
       "      B -1.544273 -1.104094"
      ]
     },
     "execution_count": 166,
     "metadata": {},
     "output_type": "execute_result"
    }
   ],
   "source": [
    "stacked.unstack(1)"
   ]
  },
  {
   "cell_type": "code",
   "execution_count": 164,
   "metadata": {
    "_cell_guid": "63d4143c-2488-40a7-9d6a-8751ed8f5bec",
    "_uuid": "21092205bbd06eab81ab2b54fc709110c8ebedee"
   },
   "outputs": [
    {
     "data": {
      "text/html": [
       "<div>\n",
       "<style>\n",
       "    .dataframe thead tr:only-child th {\n",
       "        text-align: right;\n",
       "    }\n",
       "\n",
       "    .dataframe thead th {\n",
       "        text-align: left;\n",
       "    }\n",
       "\n",
       "    .dataframe tbody tr th {\n",
       "        vertical-align: top;\n",
       "    }\n",
       "</style>\n",
       "<table border=\"1\" class=\"dataframe\">\n",
       "  <thead>\n",
       "    <tr style=\"text-align: right;\">\n",
       "      <th></th>\n",
       "      <th>first</th>\n",
       "      <th>bar</th>\n",
       "      <th>baz</th>\n",
       "      <th>foo</th>\n",
       "      <th>qux</th>\n",
       "    </tr>\n",
       "    <tr>\n",
       "      <th>second</th>\n",
       "      <th></th>\n",
       "      <th></th>\n",
       "      <th></th>\n",
       "      <th></th>\n",
       "      <th></th>\n",
       "    </tr>\n",
       "  </thead>\n",
       "  <tbody>\n",
       "    <tr>\n",
       "      <th rowspan=\"2\" valign=\"top\">one</th>\n",
       "      <th>A</th>\n",
       "      <td>-0.612025</td>\n",
       "      <td>-0.563634</td>\n",
       "      <td>0.671339</td>\n",
       "      <td>-0.233042</td>\n",
       "    </tr>\n",
       "    <tr>\n",
       "      <th>B</th>\n",
       "      <td>-0.861321</td>\n",
       "      <td>-0.331957</td>\n",
       "      <td>-0.536682</td>\n",
       "      <td>-1.544273</td>\n",
       "    </tr>\n",
       "    <tr>\n",
       "      <th rowspan=\"2\" valign=\"top\">two</th>\n",
       "      <th>A</th>\n",
       "      <td>-0.080575</td>\n",
       "      <td>0.727015</td>\n",
       "      <td>0.134221</td>\n",
       "      <td>-0.765493</td>\n",
       "    </tr>\n",
       "    <tr>\n",
       "      <th>B</th>\n",
       "      <td>-0.409598</td>\n",
       "      <td>0.929332</td>\n",
       "      <td>1.346761</td>\n",
       "      <td>-1.104094</td>\n",
       "    </tr>\n",
       "  </tbody>\n",
       "</table>\n",
       "</div>"
      ],
      "text/plain": [
       "first          bar       baz       foo       qux\n",
       "second                                          \n",
       "one    A -0.612025 -0.563634  0.671339 -0.233042\n",
       "       B -0.861321 -0.331957 -0.536682 -1.544273\n",
       "two    A -0.080575  0.727015  0.134221 -0.765493\n",
       "       B -0.409598  0.929332  1.346761 -1.104094"
      ]
     },
     "execution_count": 164,
     "metadata": {},
     "output_type": "execute_result"
    }
   ],
   "source": [
    "stacked.unstack(0)"
   ]
  },
  {
   "cell_type": "markdown",
   "metadata": {
    "_cell_guid": "2aeae2c4-7559-4fa7-a837-4500980c823c",
    "_uuid": "6108ff3064ecc74f8d264309548f6feb125ed9be"
   },
   "source": [
    "### ピボットテーブル\n",
    "参考 [Pivot Tables](https://pandas.pydata.org/pandas-docs/stable/reshaping.html#reshaping-pivot)."
   ]
  },
  {
   "cell_type": "code",
   "execution_count": 167,
   "metadata": {
    "_cell_guid": "1a188e29-26e1-4ffc-acd1-5e8fb7c99465",
    "_uuid": "0acd04af17bb429101737d38d9f603571fb3006f"
   },
   "outputs": [
    {
     "data": {
      "text/html": [
       "<div>\n",
       "<style>\n",
       "    .dataframe thead tr:only-child th {\n",
       "        text-align: right;\n",
       "    }\n",
       "\n",
       "    .dataframe thead th {\n",
       "        text-align: left;\n",
       "    }\n",
       "\n",
       "    .dataframe tbody tr th {\n",
       "        vertical-align: top;\n",
       "    }\n",
       "</style>\n",
       "<table border=\"1\" class=\"dataframe\">\n",
       "  <thead>\n",
       "    <tr style=\"text-align: right;\">\n",
       "      <th></th>\n",
       "      <th>A</th>\n",
       "      <th>B</th>\n",
       "      <th>C</th>\n",
       "      <th>D</th>\n",
       "      <th>E</th>\n",
       "    </tr>\n",
       "  </thead>\n",
       "  <tbody>\n",
       "    <tr>\n",
       "      <th>0</th>\n",
       "      <td>one</td>\n",
       "      <td>A</td>\n",
       "      <td>foo</td>\n",
       "      <td>0.028764</td>\n",
       "      <td>-1.133970</td>\n",
       "    </tr>\n",
       "    <tr>\n",
       "      <th>1</th>\n",
       "      <td>one</td>\n",
       "      <td>B</td>\n",
       "      <td>foo</td>\n",
       "      <td>0.625776</td>\n",
       "      <td>0.125131</td>\n",
       "    </tr>\n",
       "    <tr>\n",
       "      <th>2</th>\n",
       "      <td>two</td>\n",
       "      <td>C</td>\n",
       "      <td>foo</td>\n",
       "      <td>-2.008340</td>\n",
       "      <td>-0.113395</td>\n",
       "    </tr>\n",
       "    <tr>\n",
       "      <th>3</th>\n",
       "      <td>three</td>\n",
       "      <td>A</td>\n",
       "      <td>bar</td>\n",
       "      <td>0.625073</td>\n",
       "      <td>-0.845908</td>\n",
       "    </tr>\n",
       "    <tr>\n",
       "      <th>4</th>\n",
       "      <td>one</td>\n",
       "      <td>B</td>\n",
       "      <td>bar</td>\n",
       "      <td>0.087455</td>\n",
       "      <td>1.091089</td>\n",
       "    </tr>\n",
       "    <tr>\n",
       "      <th>5</th>\n",
       "      <td>one</td>\n",
       "      <td>C</td>\n",
       "      <td>bar</td>\n",
       "      <td>0.684090</td>\n",
       "      <td>0.966042</td>\n",
       "    </tr>\n",
       "    <tr>\n",
       "      <th>6</th>\n",
       "      <td>two</td>\n",
       "      <td>A</td>\n",
       "      <td>foo</td>\n",
       "      <td>0.785658</td>\n",
       "      <td>0.486778</td>\n",
       "    </tr>\n",
       "    <tr>\n",
       "      <th>7</th>\n",
       "      <td>three</td>\n",
       "      <td>B</td>\n",
       "      <td>foo</td>\n",
       "      <td>-1.088182</td>\n",
       "      <td>1.312987</td>\n",
       "    </tr>\n",
       "    <tr>\n",
       "      <th>8</th>\n",
       "      <td>one</td>\n",
       "      <td>C</td>\n",
       "      <td>foo</td>\n",
       "      <td>-1.791017</td>\n",
       "      <td>-1.649324</td>\n",
       "    </tr>\n",
       "    <tr>\n",
       "      <th>9</th>\n",
       "      <td>one</td>\n",
       "      <td>A</td>\n",
       "      <td>bar</td>\n",
       "      <td>0.366259</td>\n",
       "      <td>-0.137094</td>\n",
       "    </tr>\n",
       "    <tr>\n",
       "      <th>10</th>\n",
       "      <td>two</td>\n",
       "      <td>B</td>\n",
       "      <td>bar</td>\n",
       "      <td>-0.227401</td>\n",
       "      <td>0.245511</td>\n",
       "    </tr>\n",
       "    <tr>\n",
       "      <th>11</th>\n",
       "      <td>three</td>\n",
       "      <td>C</td>\n",
       "      <td>bar</td>\n",
       "      <td>1.114809</td>\n",
       "      <td>1.882461</td>\n",
       "    </tr>\n",
       "  </tbody>\n",
       "</table>\n",
       "</div>"
      ],
      "text/plain": [
       "        A  B    C         D         E\n",
       "0     one  A  foo  0.028764 -1.133970\n",
       "1     one  B  foo  0.625776  0.125131\n",
       "2     two  C  foo -2.008340 -0.113395\n",
       "3   three  A  bar  0.625073 -0.845908\n",
       "4     one  B  bar  0.087455  1.091089\n",
       "5     one  C  bar  0.684090  0.966042\n",
       "6     two  A  foo  0.785658  0.486778\n",
       "7   three  B  foo -1.088182  1.312987\n",
       "8     one  C  foo -1.791017 -1.649324\n",
       "9     one  A  bar  0.366259 -0.137094\n",
       "10    two  B  bar -0.227401  0.245511\n",
       "11  three  C  bar  1.114809  1.882461"
      ]
     },
     "execution_count": 167,
     "metadata": {},
     "output_type": "execute_result"
    }
   ],
   "source": [
    "df = pd.DataFrame({'A' : ['one', 'one', 'two', 'three'] * 3,\n",
    "   .....:                    'B' : ['A', 'B', 'C'] * 4,\n",
    "   .....:                    'C' : ['foo', 'foo', 'foo', 'bar', 'bar', 'bar'] * 2,\n",
    "   .....:                    'D' : np.random.randn(12),\n",
    "   .....:                    'E' : np.random.randn(12)})\n",
    "df"
   ]
  },
  {
   "cell_type": "markdown",
   "metadata": {
    "_cell_guid": "2b2e7f69-e135-4cdb-9053-15446689a343",
    "_uuid": "8a59aa522a9c86d054fc8f1917117ff7131ce9d7"
   },
   "source": [
    "Pandasでは、データからピボットデーブルを簡単に作成できます。"
   ]
  },
  {
   "cell_type": "code",
   "execution_count": 168,
   "metadata": {
    "_cell_guid": "236b385e-a44c-4526-b7dd-826b858aec30",
    "_uuid": "24977494d59f97c71999811110baf456f25d9e1c"
   },
   "outputs": [
    {
     "data": {
      "text/html": [
       "<div>\n",
       "<style>\n",
       "    .dataframe thead tr:only-child th {\n",
       "        text-align: right;\n",
       "    }\n",
       "\n",
       "    .dataframe thead th {\n",
       "        text-align: left;\n",
       "    }\n",
       "\n",
       "    .dataframe tbody tr th {\n",
       "        vertical-align: top;\n",
       "    }\n",
       "</style>\n",
       "<table border=\"1\" class=\"dataframe\">\n",
       "  <thead>\n",
       "    <tr style=\"text-align: right;\">\n",
       "      <th></th>\n",
       "      <th>C</th>\n",
       "      <th>bar</th>\n",
       "      <th>foo</th>\n",
       "    </tr>\n",
       "    <tr>\n",
       "      <th>A</th>\n",
       "      <th>B</th>\n",
       "      <th></th>\n",
       "      <th></th>\n",
       "    </tr>\n",
       "  </thead>\n",
       "  <tbody>\n",
       "    <tr>\n",
       "      <th rowspan=\"3\" valign=\"top\">one</th>\n",
       "      <th>A</th>\n",
       "      <td>0.366259</td>\n",
       "      <td>0.028764</td>\n",
       "    </tr>\n",
       "    <tr>\n",
       "      <th>B</th>\n",
       "      <td>0.087455</td>\n",
       "      <td>0.625776</td>\n",
       "    </tr>\n",
       "    <tr>\n",
       "      <th>C</th>\n",
       "      <td>0.684090</td>\n",
       "      <td>-1.791017</td>\n",
       "    </tr>\n",
       "    <tr>\n",
       "      <th rowspan=\"3\" valign=\"top\">three</th>\n",
       "      <th>A</th>\n",
       "      <td>0.625073</td>\n",
       "      <td>NaN</td>\n",
       "    </tr>\n",
       "    <tr>\n",
       "      <th>B</th>\n",
       "      <td>NaN</td>\n",
       "      <td>-1.088182</td>\n",
       "    </tr>\n",
       "    <tr>\n",
       "      <th>C</th>\n",
       "      <td>1.114809</td>\n",
       "      <td>NaN</td>\n",
       "    </tr>\n",
       "    <tr>\n",
       "      <th rowspan=\"3\" valign=\"top\">two</th>\n",
       "      <th>A</th>\n",
       "      <td>NaN</td>\n",
       "      <td>0.785658</td>\n",
       "    </tr>\n",
       "    <tr>\n",
       "      <th>B</th>\n",
       "      <td>-0.227401</td>\n",
       "      <td>NaN</td>\n",
       "    </tr>\n",
       "    <tr>\n",
       "      <th>C</th>\n",
       "      <td>NaN</td>\n",
       "      <td>-2.008340</td>\n",
       "    </tr>\n",
       "  </tbody>\n",
       "</table>\n",
       "</div>"
      ],
      "text/plain": [
       "C             bar       foo\n",
       "A     B                    \n",
       "one   A  0.366259  0.028764\n",
       "      B  0.087455  0.625776\n",
       "      C  0.684090 -1.791017\n",
       "three A  0.625073       NaN\n",
       "      B       NaN -1.088182\n",
       "      C  1.114809       NaN\n",
       "two   A       NaN  0.785658\n",
       "      B -0.227401       NaN\n",
       "      C       NaN -2.008340"
      ]
     },
     "execution_count": 168,
     "metadata": {},
     "output_type": "execute_result"
    }
   ],
   "source": [
    "pd.pivot_table(df, values='D', index=['A', 'B'], columns=['C'])"
   ]
  },
  {
   "cell_type": "markdown",
   "metadata": {
    "_cell_guid": "d2a048eb-a0a2-49f1-8322-cec52e82f686",
    "_uuid": "1e9fb4493ac63b9741daf82d345cf4996fb534ae"
   },
   "source": [
    "# 時系列データ\n",
    "pandas はデータの周期を変換する際に、単純で協力かつ効率的なリサンプリング操作を備えています。(例えは、秒単位のデータを５分単位のデータに変換するなど)これは、金融関連のデータにおいてよく利用されますが、そ例外の用途でも利用されます。\n",
    "\n",
    "参考　[Time Series section](https://pandas.pydata.org/pandas-docs/stable/timeseries.html#timeseries)."
   ]
  },
  {
   "cell_type": "code",
   "execution_count": 169,
   "metadata": {
    "_cell_guid": "8e241bb8-4365-46e1-af4e-e212c17ab73c",
    "_uuid": "0dce2c62fa3fe83d54a964e6be8edfc70f256167"
   },
   "outputs": [
    {
     "data": {
      "text/plain": [
       "2017-01-01    23850\n",
       "Freq: 5T, dtype: int64"
      ]
     },
     "execution_count": 169,
     "metadata": {},
     "output_type": "execute_result"
    }
   ],
   "source": [
    "rng = pd.date_range('1/1/2017', periods=100, freq='S')\n",
    "ts = pd.Series(np.random.randint(0, 500, len(rng)), index=rng)\n",
    "ts.resample('5Min').sum()\n"
   ]
  },
  {
   "cell_type": "markdown",
   "metadata": {
    "_cell_guid": "0daa2a55-6a1a-468f-84a0-593aa67ce25e",
    "_uuid": "81d2d75a0ce40e06025deccd8aa025de20b03b75"
   },
   "source": [
    "タイムゾーンの表現"
   ]
  },
  {
   "cell_type": "code",
   "execution_count": 170,
   "metadata": {
    "_cell_guid": "c5014c81-5303-432f-bc1f-bd4f7e667c30",
    "_uuid": "43018b7fc38618006b1ee7c3f755ff8d28c4662b"
   },
   "outputs": [
    {
     "data": {
      "text/plain": [
       "2017-03-06   -0.141377\n",
       "2017-03-07    0.899763\n",
       "2017-03-08   -0.216876\n",
       "2017-03-09   -0.978960\n",
       "2017-03-10    3.153935\n",
       "Freq: D, dtype: float64"
      ]
     },
     "execution_count": 170,
     "metadata": {},
     "output_type": "execute_result"
    }
   ],
   "source": [
    "rng = pd.date_range('3/6/2017 00:00', periods=5, freq='D')\n",
    "ts = pd.Series(np.random.randn(len(rng)), rng)\n",
    "ts"
   ]
  },
  {
   "cell_type": "code",
   "execution_count": 171,
   "metadata": {
    "_cell_guid": "641dbfaf-d904-4110-ac33-8fd6d51f35ae",
    "_uuid": "7f698edf03e66b1064830336ecfcf039d638629a"
   },
   "outputs": [
    {
     "data": {
      "text/plain": [
       "2017-03-06 00:00:00+00:00   -0.141377\n",
       "2017-03-07 00:00:00+00:00    0.899763\n",
       "2017-03-08 00:00:00+00:00   -0.216876\n",
       "2017-03-09 00:00:00+00:00   -0.978960\n",
       "2017-03-10 00:00:00+00:00    3.153935\n",
       "Freq: D, dtype: float64"
      ]
     },
     "execution_count": 171,
     "metadata": {},
     "output_type": "execute_result"
    }
   ],
   "source": [
    "ts_utc = ts.tz_localize('UTC')\n",
    "ts_utc"
   ]
  },
  {
   "cell_type": "markdown",
   "metadata": {
    "_cell_guid": "1426cdde-ca90-4601-a103-5f36eab1738f",
    "_uuid": "91157d3eb394f4e4588bc97e4d45f2537e33dcca"
   },
   "source": [
    "他のタイムゾーンへの変換"
   ]
  },
  {
   "cell_type": "code",
   "execution_count": 172,
   "metadata": {
    "_cell_guid": "7e2e2c12-6154-418a-acbb-8d1a67825b63",
    "_uuid": "910dcb7ee20644396fb426839cf6803cb9e7bbf1"
   },
   "outputs": [
    {
     "data": {
      "text/plain": [
       "2017-03-05 19:00:00-05:00   -0.141377\n",
       "2017-03-06 19:00:00-05:00    0.899763\n",
       "2017-03-07 19:00:00-05:00   -0.216876\n",
       "2017-03-08 19:00:00-05:00   -0.978960\n",
       "2017-03-09 19:00:00-05:00    3.153935\n",
       "Freq: D, dtype: float64"
      ]
     },
     "execution_count": 172,
     "metadata": {},
     "output_type": "execute_result"
    }
   ],
   "source": [
    "ts_utc.tz_convert('US/Eastern')"
   ]
  },
  {
   "cell_type": "markdown",
   "metadata": {
    "_cell_guid": "0c0f6eec-5035-48dc-a2d4-8cc84a257ab9",
    "_uuid": "aeb2afaeacdd39a558b63e59cf98c4c27e194083"
   },
   "source": [
    "時間間隔表現の変換"
   ]
  },
  {
   "cell_type": "code",
   "execution_count": 173,
   "metadata": {
    "_cell_guid": "489d710f-c382-45f4-a368-fc78ce0819fb",
    "_uuid": "618d89ae23db202f5551fcca5f3db769843bc3a8"
   },
   "outputs": [
    {
     "data": {
      "text/plain": [
       "2012-01-31   -0.792887\n",
       "2012-02-29    0.055519\n",
       "2012-03-31    1.013394\n",
       "2012-04-30   -0.552220\n",
       "2012-05-31    0.472496\n",
       "Freq: M, dtype: float64"
      ]
     },
     "execution_count": 173,
     "metadata": {},
     "output_type": "execute_result"
    }
   ],
   "source": [
    "rng = pd.date_range('1/1/2012', periods=5, freq='M')\n",
    "ts = pd.Series(np.random.randn(len(rng)), index=rng)\n",
    "ts"
   ]
  },
  {
   "cell_type": "code",
   "execution_count": 174,
   "metadata": {
    "_cell_guid": "46e4915f-17a5-40eb-8506-49e8e5e434a8",
    "_uuid": "31c57985582c3ef27f84933dfab9321a6e0285f8"
   },
   "outputs": [
    {
     "data": {
      "text/plain": [
       "2012-01   -0.792887\n",
       "2012-02    0.055519\n",
       "2012-03    1.013394\n",
       "2012-04   -0.552220\n",
       "2012-05    0.472496\n",
       "Freq: M, dtype: float64"
      ]
     },
     "execution_count": 174,
     "metadata": {},
     "output_type": "execute_result"
    }
   ],
   "source": [
    "ps = ts.to_period('M')\n",
    "ps"
   ]
  },
  {
   "cell_type": "code",
   "execution_count": 175,
   "metadata": {
    "_cell_guid": "3a8066ba-79d4-4975-86a2-804c82fe1dd6",
    "_uuid": "1589235a92ca818bc2be2cbb0a426d529335f0b2"
   },
   "outputs": [
    {
     "data": {
      "text/plain": [
       "2012-01-01   -0.792887\n",
       "2012-02-01    0.055519\n",
       "2012-03-01    1.013394\n",
       "2012-04-01   -0.552220\n",
       "2012-05-01    0.472496\n",
       "Freq: MS, dtype: float64"
      ]
     },
     "execution_count": 175,
     "metadata": {},
     "output_type": "execute_result"
    }
   ],
   "source": [
    "ps.to_timestamp()"
   ]
  },
  {
   "cell_type": "markdown",
   "metadata": {
    "_cell_guid": "d1e644da-5215-4870-aaf3-d1719c46588e",
    "_uuid": "1dd44d9eff96202caddabee5740aa912e9530223"
   },
   "source": [
    "periodとtimestamp間の相互の変換により、いくつかの算術的な関数が利用可能となります。以下の例では、１１月終わりの4半期データを翌月の月初の午前９時のデータへ変換しています。"
   ]
  },
  {
   "cell_type": "code",
   "execution_count": 89,
   "metadata": {
    "_cell_guid": "328ed5ad-d841-4b7a-8217-5e58b876daa6",
    "_uuid": "43d477d81ad7c6a7cc7dd4156eba62a794820a3e"
   },
   "outputs": [
    {
     "data": {
      "text/plain": [
       "1990-03-01 09:00   -0.079788\n",
       "1990-06-01 09:00   -0.352035\n",
       "1990-09-01 09:00    0.496466\n",
       "1990-12-01 09:00   -1.574158\n",
       "1991-03-01 09:00   -1.840971\n",
       "Freq: H, dtype: float64"
      ]
     },
     "execution_count": 89,
     "metadata": {},
     "output_type": "execute_result"
    }
   ],
   "source": [
    "prng = pd.period_range('1990Q1', '2000Q4', freq='Q-NOV')\n",
    "ts = pd.Series(np.random.randn(len(prng)), prng)\n",
    "ts.index = (prng.asfreq('M', 'e') + 1).asfreq('H', 's') + 9\n",
    "ts.head()"
   ]
  },
  {
   "cell_type": "markdown",
   "metadata": {
    "_cell_guid": "d10de9eb-33fc-4713-993b-b1acc275f8a7",
    "_uuid": "930ca52af7bf3d56dfe637764cf53dd6c91b8edf"
   },
   "source": [
    "# カテゴリー\n",
    "pandasは、カテゴリーデータをデータフレームに含むことができます。詳しくは、 [categorical introduction](https://pandas.pydata.org/pandas-docs/stable/categorical.html#categorical) 及び [API documentation](https://pandas.pydata.org/pandas-docs/stable/api.html#api-categorical)をご覧下さい。"
   ]
  },
  {
   "cell_type": "code",
   "execution_count": 184,
   "metadata": {
    "_cell_guid": "ab9789c4-b2e0-4012-8c7b-2923437a8223",
    "_uuid": "186d5dd0c91b786139eb600d599853e301e08c92"
   },
   "outputs": [
    {
     "data": {
      "text/html": [
       "<div>\n",
       "<style>\n",
       "    .dataframe thead tr:only-child th {\n",
       "        text-align: right;\n",
       "    }\n",
       "\n",
       "    .dataframe thead th {\n",
       "        text-align: left;\n",
       "    }\n",
       "\n",
       "    .dataframe tbody tr th {\n",
       "        vertical-align: top;\n",
       "    }\n",
       "</style>\n",
       "<table border=\"1\" class=\"dataframe\">\n",
       "  <thead>\n",
       "    <tr style=\"text-align: right;\">\n",
       "      <th></th>\n",
       "      <th>id</th>\n",
       "      <th>raw_grade</th>\n",
       "    </tr>\n",
       "  </thead>\n",
       "  <tbody>\n",
       "    <tr>\n",
       "      <th>0</th>\n",
       "      <td>1</td>\n",
       "      <td>a</td>\n",
       "    </tr>\n",
       "    <tr>\n",
       "      <th>1</th>\n",
       "      <td>2</td>\n",
       "      <td>b</td>\n",
       "    </tr>\n",
       "    <tr>\n",
       "      <th>2</th>\n",
       "      <td>3</td>\n",
       "      <td>b</td>\n",
       "    </tr>\n",
       "    <tr>\n",
       "      <th>3</th>\n",
       "      <td>4</td>\n",
       "      <td>a</td>\n",
       "    </tr>\n",
       "    <tr>\n",
       "      <th>4</th>\n",
       "      <td>5</td>\n",
       "      <td>a</td>\n",
       "    </tr>\n",
       "    <tr>\n",
       "      <th>5</th>\n",
       "      <td>6</td>\n",
       "      <td>e</td>\n",
       "    </tr>\n",
       "  </tbody>\n",
       "</table>\n",
       "</div>"
      ],
      "text/plain": [
       "   id raw_grade\n",
       "0   1         a\n",
       "1   2         b\n",
       "2   3         b\n",
       "3   4         a\n",
       "4   5         a\n",
       "5   6         e"
      ]
     },
     "execution_count": 184,
     "metadata": {},
     "output_type": "execute_result"
    }
   ],
   "source": [
    "df = pd.DataFrame({\"id\":[1,2,3,4,5,6], \"raw_grade\":['a', 'b', 'b', 'a', 'a', 'e']})\n",
    "df"
   ]
  },
  {
   "cell_type": "markdown",
   "metadata": {
    "_cell_guid": "0d1cb293-571d-4c98-a17a-b15ead76786b",
    "_uuid": "ae51724d3f551ece6efffc7b39a325ab334631e1"
   },
   "source": [
    "raw_grades をカテゴリーデータに変換します。"
   ]
  },
  {
   "cell_type": "code",
   "execution_count": 185,
   "metadata": {
    "_cell_guid": "0fec7445-afdd-42cd-ad78-deab6ea43832",
    "_uuid": "db91d55922cbee6333b0b60b2eaa0066b1c682d8"
   },
   "outputs": [
    {
     "data": {
      "text/plain": [
       "0    a\n",
       "1    b\n",
       "2    b\n",
       "3    a\n",
       "4    a\n",
       "5    e\n",
       "Name: grade, dtype: category\n",
       "Categories (3, object): [a, b, e]"
      ]
     },
     "execution_count": 185,
     "metadata": {},
     "output_type": "execute_result"
    }
   ],
   "source": [
    "df[\"grade\"] = df[\"raw_grade\"].astype(\"category\")\n",
    "df[\"grade\"]"
   ]
  },
  {
   "cell_type": "markdown",
   "metadata": {
    "_cell_guid": "21e5d042-6245-4971-803f-e527357a654e",
    "_uuid": "b2e1342efaa7495d1a001e3ec9bb53a2d3c0a7e0"
   },
   "source": [
    "カテゴリーをより意味のある名前にします。（Series.cat.categoriesを置き換えます！）"
   ]
  },
  {
   "cell_type": "code",
   "execution_count": 187,
   "metadata": {
    "_cell_guid": "8e187065-c04e-4df2-b297-834d4452b5af",
    "_uuid": "1fde92f0bb025c22106fd9480bf879087b20d98b"
   },
   "outputs": [
    {
     "data": {
      "text/html": [
       "<div>\n",
       "<style>\n",
       "    .dataframe thead tr:only-child th {\n",
       "        text-align: right;\n",
       "    }\n",
       "\n",
       "    .dataframe thead th {\n",
       "        text-align: left;\n",
       "    }\n",
       "\n",
       "    .dataframe tbody tr th {\n",
       "        vertical-align: top;\n",
       "    }\n",
       "</style>\n",
       "<table border=\"1\" class=\"dataframe\">\n",
       "  <thead>\n",
       "    <tr style=\"text-align: right;\">\n",
       "      <th></th>\n",
       "      <th>id</th>\n",
       "      <th>raw_grade</th>\n",
       "      <th>grade</th>\n",
       "    </tr>\n",
       "  </thead>\n",
       "  <tbody>\n",
       "    <tr>\n",
       "      <th>0</th>\n",
       "      <td>1</td>\n",
       "      <td>a</td>\n",
       "      <td>very good</td>\n",
       "    </tr>\n",
       "    <tr>\n",
       "      <th>1</th>\n",
       "      <td>2</td>\n",
       "      <td>b</td>\n",
       "      <td>good</td>\n",
       "    </tr>\n",
       "    <tr>\n",
       "      <th>2</th>\n",
       "      <td>3</td>\n",
       "      <td>b</td>\n",
       "      <td>good</td>\n",
       "    </tr>\n",
       "    <tr>\n",
       "      <th>3</th>\n",
       "      <td>4</td>\n",
       "      <td>a</td>\n",
       "      <td>very good</td>\n",
       "    </tr>\n",
       "    <tr>\n",
       "      <th>4</th>\n",
       "      <td>5</td>\n",
       "      <td>a</td>\n",
       "      <td>very good</td>\n",
       "    </tr>\n",
       "    <tr>\n",
       "      <th>5</th>\n",
       "      <td>6</td>\n",
       "      <td>e</td>\n",
       "      <td>very bad</td>\n",
       "    </tr>\n",
       "  </tbody>\n",
       "</table>\n",
       "</div>"
      ],
      "text/plain": [
       "   id raw_grade      grade\n",
       "0   1         a  very good\n",
       "1   2         b       good\n",
       "2   3         b       good\n",
       "3   4         a  very good\n",
       "4   5         a  very good\n",
       "5   6         e   very bad"
      ]
     },
     "execution_count": 187,
     "metadata": {},
     "output_type": "execute_result"
    }
   ],
   "source": [
    "df[\"grade\"].cat.categories = [\"very good\", \"good\", \"very bad\"]\n",
    "df"
   ]
  },
  {
   "cell_type": "markdown",
   "metadata": {
    "_cell_guid": "79ff2b61-ce4f-47bf-b400-44cce807b0a3",
    "_uuid": "a3edf0571ae751050f46690aa93bff03902ba7bb"
   },
   "source": [
    "カテゴリーを並べ替え、同時に、不足しているカテゴリーを追加します。 (Series .catに含まれるメソッドは、デフォルトで新しいSeriesを返します)"
   ]
  },
  {
   "cell_type": "code",
   "execution_count": 188,
   "metadata": {
    "_cell_guid": "17680b48-9fb9-4373-89c8-22197cd0b551",
    "_uuid": "07effd8ab8f0fcf8d202551d8c7b27d7c44676d7"
   },
   "outputs": [
    {
     "data": {
      "text/plain": [
       "0    very good\n",
       "1         good\n",
       "2         good\n",
       "3    very good\n",
       "4    very good\n",
       "5     very bad\n",
       "Name: grade, dtype: category\n",
       "Categories (5, object): [very bad, bad, medium, good, very good]"
      ]
     },
     "execution_count": 188,
     "metadata": {},
     "output_type": "execute_result"
    }
   ],
   "source": [
    "df[\"grade\"] = df[\"grade\"].cat.set_categories([\"very bad\", \"bad\", \"medium\", \"good\", \"very good\"])\n",
    "df[\"grade\"]"
   ]
  },
  {
   "cell_type": "raw",
   "metadata": {
    "_cell_guid": "d081f4d8-b9df-427a-abdd-af50ac3e1cb6",
    "_uuid": "6f39477d1629a4dfd818f58c8f1ad54e12cb1ccc"
   },
   "source": [
    "ソートは設定したカテゴリー順に行われます。語彙の順に行われるのではありません。"
   ]
  },
  {
   "cell_type": "code",
   "execution_count": 189,
   "metadata": {
    "_cell_guid": "32408bba-dbf0-44ed-b65d-03f66671e120",
    "_uuid": "cc7d213cf05e72e3eeb71438c457a0d520bd718f"
   },
   "outputs": [
    {
     "data": {
      "text/html": [
       "<div>\n",
       "<style>\n",
       "    .dataframe thead tr:only-child th {\n",
       "        text-align: right;\n",
       "    }\n",
       "\n",
       "    .dataframe thead th {\n",
       "        text-align: left;\n",
       "    }\n",
       "\n",
       "    .dataframe tbody tr th {\n",
       "        vertical-align: top;\n",
       "    }\n",
       "</style>\n",
       "<table border=\"1\" class=\"dataframe\">\n",
       "  <thead>\n",
       "    <tr style=\"text-align: right;\">\n",
       "      <th></th>\n",
       "      <th>id</th>\n",
       "      <th>raw_grade</th>\n",
       "      <th>grade</th>\n",
       "    </tr>\n",
       "  </thead>\n",
       "  <tbody>\n",
       "    <tr>\n",
       "      <th>5</th>\n",
       "      <td>6</td>\n",
       "      <td>e</td>\n",
       "      <td>very bad</td>\n",
       "    </tr>\n",
       "    <tr>\n",
       "      <th>1</th>\n",
       "      <td>2</td>\n",
       "      <td>b</td>\n",
       "      <td>good</td>\n",
       "    </tr>\n",
       "    <tr>\n",
       "      <th>2</th>\n",
       "      <td>3</td>\n",
       "      <td>b</td>\n",
       "      <td>good</td>\n",
       "    </tr>\n",
       "    <tr>\n",
       "      <th>0</th>\n",
       "      <td>1</td>\n",
       "      <td>a</td>\n",
       "      <td>very good</td>\n",
       "    </tr>\n",
       "    <tr>\n",
       "      <th>3</th>\n",
       "      <td>4</td>\n",
       "      <td>a</td>\n",
       "      <td>very good</td>\n",
       "    </tr>\n",
       "    <tr>\n",
       "      <th>4</th>\n",
       "      <td>5</td>\n",
       "      <td>a</td>\n",
       "      <td>very good</td>\n",
       "    </tr>\n",
       "  </tbody>\n",
       "</table>\n",
       "</div>"
      ],
      "text/plain": [
       "   id raw_grade      grade\n",
       "5   6         e   very bad\n",
       "1   2         b       good\n",
       "2   3         b       good\n",
       "0   1         a  very good\n",
       "3   4         a  very good\n",
       "4   5         a  very good"
      ]
     },
     "execution_count": 189,
     "metadata": {},
     "output_type": "execute_result"
    }
   ],
   "source": [
    "df.sort_values(by=\"grade\")"
   ]
  },
  {
   "cell_type": "markdown",
   "metadata": {
    "_cell_guid": "c36e4653-564c-4366-bd3e-9fcd0807ee45",
    "_uuid": "35364a872dd0c030ec3b09901b464762a4000ef9"
   },
   "source": [
    "カテゴリータイプの列のグルーピングは空のカテゴリーを含みます。"
   ]
  },
  {
   "cell_type": "code",
   "execution_count": 95,
   "metadata": {
    "_cell_guid": "b7eb5c6c-8857-42bc-86ce-8c13dbc4044c",
    "_uuid": "300a83bdb3f4e92697b0fbf2b51ced032cdb507e"
   },
   "outputs": [
    {
     "data": {
      "text/plain": [
       "grade\n",
       "very bad     1\n",
       "bad          0\n",
       "medium       0\n",
       "good         2\n",
       "very good    3\n",
       "dtype: int64"
      ]
     },
     "execution_count": 95,
     "metadata": {},
     "output_type": "execute_result"
    }
   ],
   "source": [
    "df.groupby(\"grade\").size()"
   ]
  },
  {
   "cell_type": "markdown",
   "metadata": {
    "_cell_guid": "f7329129-1fc9-434a-ac45-e79986ed395c",
    "_uuid": "4fad41dc8d59a36e31eee33e2e4ceadaef91ef5c"
   },
   "source": [
    "# プロッティング\n",
    "[Plotting](https://pandas.pydata.org/pandas-docs/stable/visualization.html#visualization) docs"
   ]
  },
  {
   "cell_type": "code",
   "execution_count": 194,
   "metadata": {
    "_cell_guid": "161bb7ae-199a-4afb-a96e-cd44ce1ad5ba",
    "_uuid": "d7773d5d125e65665d1fa5742a5d96a4c4f66869"
   },
   "outputs": [
    {
     "data": {
      "text/plain": [
       "<matplotlib.axes._subplots.AxesSubplot at 0x11c4b85c0>"
      ]
     },
     "execution_count": 194,
     "metadata": {},
     "output_type": "execute_result"
    },
    {
     "data": {
      "image/png": "[encoded data removed]",
      "text/plain": [
       "<matplotlib.figure.Figure at 0x11c4d31d0>"
      ]
     },
     "metadata": {},
     "output_type": "display_data"
    }
   ],
   "source": [
    "%matplotlib inline\n",
    "ts = pd.Series(np.random.randn(1000), index=pd.date_range('1/1/2000', periods=1000))\n",
    "ts = ts.cumsum()\n",
    "ts.plot()"
   ]
  },
  {
   "cell_type": "markdown",
   "metadata": {
    "_cell_guid": "0176b40e-ada1-4bcd-8e12-d3ff15e1b0f7",
    "_uuid": "7b6fa4a5c292aeadb392e26b6b8c22de265340e6"
   },
   "source": [
    "データフレームの場合、plot()により簡単に全てのコラムをラベルと共にグラフ表示できます。"
   ]
  },
  {
   "cell_type": "code",
   "execution_count": 196,
   "metadata": {
    "_cell_guid": "486b1a48-5629-43a9-a421-ab9659b3b5c2",
    "_uuid": "dd719ceca935f661779a4ae7a9d0bdb456707afd"
   },
   "outputs": [
    {
     "data": {
      "text/plain": [
       "<matplotlib.legend.Legend at 0x11c4db550>"
      ]
     },
     "execution_count": 196,
     "metadata": {},
     "output_type": "execute_result"
    },
    {
     "data": {
      "text/plain": [
       "<matplotlib.figure.Figure at 0x11bf27898>"
      ]
     },
     "metadata": {},
     "output_type": "display_data"
    },
    {
     "data": {
      "image/png": "[encoded data removed]",
      "text/plain": [
       "<matplotlib.figure.Figure at 0x11be39cc0>"
      ]
     },
     "metadata": {},
     "output_type": "display_data"
    }
   ],
   "source": [
    "df = pd.DataFrame(np.random.randn(1000, 4), index=ts.index,\n",
    "   .....:                   columns=['A', 'B', 'C', 'D'])\n",
    "df = df.cumsum()\n",
    "plt.figure(); df.plot(); plt.legend(loc='best')"
   ]
  },
  {
   "cell_type": "markdown",
   "metadata": {
    "_cell_guid": "8f173711-84cf-405d-a974-8f3d467a1699",
    "_uuid": "6707cccfbd1da29773303b644ad02a47e917e182"
   },
   "source": [
    "# データの入出力\n",
    "### CSV\n",
    "[Writing to a csv file](https://pandas.pydata.org/pandas-docs/stable/io.html#io-store-in-csv)."
   ]
  },
  {
   "cell_type": "code",
   "execution_count": 197,
   "metadata": {
    "_cell_guid": "c2854c44-5039-4c4f-9333-f4b0f33edc5b",
    "_uuid": "f321aa65d66246497c509d32969d3e1a3d717391"
   },
   "outputs": [],
   "source": [
    "df.to_csv('foo.csv')"
   ]
  },
  {
   "cell_type": "code",
   "execution_count": 198,
   "metadata": {
    "_cell_guid": "746340a9-c552-4995-8cbd-067f7dd62e35",
    "_uuid": "c0daece574ad9366f247716b0bfe7f3fd0c9351e"
   },
   "outputs": [
    {
     "data": {
      "text/html": [
       "<div>\n",
       "<style>\n",
       "    .dataframe thead tr:only-child th {\n",
       "        text-align: right;\n",
       "    }\n",
       "\n",
       "    .dataframe thead th {\n",
       "        text-align: left;\n",
       "    }\n",
       "\n",
       "    .dataframe tbody tr th {\n",
       "        vertical-align: top;\n",
       "    }\n",
       "</style>\n",
       "<table border=\"1\" class=\"dataframe\">\n",
       "  <thead>\n",
       "    <tr style=\"text-align: right;\">\n",
       "      <th></th>\n",
       "      <th>Unnamed: 0</th>\n",
       "      <th>A</th>\n",
       "      <th>B</th>\n",
       "      <th>C</th>\n",
       "      <th>D</th>\n",
       "    </tr>\n",
       "  </thead>\n",
       "  <tbody>\n",
       "    <tr>\n",
       "      <th>0</th>\n",
       "      <td>2000-01-01</td>\n",
       "      <td>0.154706</td>\n",
       "      <td>-0.060075</td>\n",
       "      <td>-0.203504</td>\n",
       "      <td>-0.815337</td>\n",
       "    </tr>\n",
       "    <tr>\n",
       "      <th>1</th>\n",
       "      <td>2000-01-02</td>\n",
       "      <td>-0.870487</td>\n",
       "      <td>0.835744</td>\n",
       "      <td>1.050080</td>\n",
       "      <td>-0.506594</td>\n",
       "    </tr>\n",
       "    <tr>\n",
       "      <th>2</th>\n",
       "      <td>2000-01-03</td>\n",
       "      <td>0.371501</td>\n",
       "      <td>1.524442</td>\n",
       "      <td>-0.621150</td>\n",
       "      <td>-0.666120</td>\n",
       "    </tr>\n",
       "    <tr>\n",
       "      <th>3</th>\n",
       "      <td>2000-01-04</td>\n",
       "      <td>1.493495</td>\n",
       "      <td>0.890769</td>\n",
       "      <td>1.263293</td>\n",
       "      <td>-0.047958</td>\n",
       "    </tr>\n",
       "    <tr>\n",
       "      <th>4</th>\n",
       "      <td>2000-01-05</td>\n",
       "      <td>2.532939</td>\n",
       "      <td>0.904475</td>\n",
       "      <td>0.844214</td>\n",
       "      <td>-0.912442</td>\n",
       "    </tr>\n",
       "    <tr>\n",
       "      <th>5</th>\n",
       "      <td>2000-01-06</td>\n",
       "      <td>2.195014</td>\n",
       "      <td>1.581366</td>\n",
       "      <td>0.310124</td>\n",
       "      <td>-1.122016</td>\n",
       "    </tr>\n",
       "    <tr>\n",
       "      <th>6</th>\n",
       "      <td>2000-01-07</td>\n",
       "      <td>2.830326</td>\n",
       "      <td>1.870079</td>\n",
       "      <td>-0.456010</td>\n",
       "      <td>0.855891</td>\n",
       "    </tr>\n",
       "    <tr>\n",
       "      <th>7</th>\n",
       "      <td>2000-01-08</td>\n",
       "      <td>1.809257</td>\n",
       "      <td>1.726105</td>\n",
       "      <td>-0.402068</td>\n",
       "      <td>0.269554</td>\n",
       "    </tr>\n",
       "    <tr>\n",
       "      <th>8</th>\n",
       "      <td>2000-01-09</td>\n",
       "      <td>2.373136</td>\n",
       "      <td>1.273628</td>\n",
       "      <td>0.654795</td>\n",
       "      <td>-0.576437</td>\n",
       "    </tr>\n",
       "    <tr>\n",
       "      <th>9</th>\n",
       "      <td>2000-01-10</td>\n",
       "      <td>5.449404</td>\n",
       "      <td>0.650808</td>\n",
       "      <td>1.447183</td>\n",
       "      <td>-1.571929</td>\n",
       "    </tr>\n",
       "    <tr>\n",
       "      <th>10</th>\n",
       "      <td>2000-01-11</td>\n",
       "      <td>6.665689</td>\n",
       "      <td>2.833406</td>\n",
       "      <td>1.311929</td>\n",
       "      <td>-1.325265</td>\n",
       "    </tr>\n",
       "    <tr>\n",
       "      <th>11</th>\n",
       "      <td>2000-01-12</td>\n",
       "      <td>4.824232</td>\n",
       "      <td>4.411289</td>\n",
       "      <td>-0.160094</td>\n",
       "      <td>-1.031954</td>\n",
       "    </tr>\n",
       "    <tr>\n",
       "      <th>12</th>\n",
       "      <td>2000-01-13</td>\n",
       "      <td>4.310966</td>\n",
       "      <td>2.771083</td>\n",
       "      <td>-0.828971</td>\n",
       "      <td>-1.371591</td>\n",
       "    </tr>\n",
       "    <tr>\n",
       "      <th>13</th>\n",
       "      <td>2000-01-14</td>\n",
       "      <td>4.682564</td>\n",
       "      <td>2.440130</td>\n",
       "      <td>-0.871358</td>\n",
       "      <td>-0.755837</td>\n",
       "    </tr>\n",
       "    <tr>\n",
       "      <th>14</th>\n",
       "      <td>2000-01-15</td>\n",
       "      <td>5.246210</td>\n",
       "      <td>3.847410</td>\n",
       "      <td>-2.163159</td>\n",
       "      <td>-2.748325</td>\n",
       "    </tr>\n",
       "    <tr>\n",
       "      <th>15</th>\n",
       "      <td>2000-01-16</td>\n",
       "      <td>5.980890</td>\n",
       "      <td>3.874724</td>\n",
       "      <td>-2.921339</td>\n",
       "      <td>-3.702486</td>\n",
       "    </tr>\n",
       "    <tr>\n",
       "      <th>16</th>\n",
       "      <td>2000-01-17</td>\n",
       "      <td>6.586541</td>\n",
       "      <td>3.351841</td>\n",
       "      <td>-4.539366</td>\n",
       "      <td>-3.793364</td>\n",
       "    </tr>\n",
       "    <tr>\n",
       "      <th>17</th>\n",
       "      <td>2000-01-18</td>\n",
       "      <td>7.567864</td>\n",
       "      <td>4.376352</td>\n",
       "      <td>-3.592222</td>\n",
       "      <td>-4.823626</td>\n",
       "    </tr>\n",
       "    <tr>\n",
       "      <th>18</th>\n",
       "      <td>2000-01-19</td>\n",
       "      <td>9.340843</td>\n",
       "      <td>2.934511</td>\n",
       "      <td>-4.339627</td>\n",
       "      <td>-4.030243</td>\n",
       "    </tr>\n",
       "    <tr>\n",
       "      <th>19</th>\n",
       "      <td>2000-01-20</td>\n",
       "      <td>8.973936</td>\n",
       "      <td>4.196310</td>\n",
       "      <td>-4.561716</td>\n",
       "      <td>-4.363136</td>\n",
       "    </tr>\n",
       "    <tr>\n",
       "      <th>20</th>\n",
       "      <td>2000-01-21</td>\n",
       "      <td>8.464201</td>\n",
       "      <td>4.083549</td>\n",
       "      <td>-3.335874</td>\n",
       "      <td>-5.000566</td>\n",
       "    </tr>\n",
       "    <tr>\n",
       "      <th>21</th>\n",
       "      <td>2000-01-22</td>\n",
       "      <td>8.759538</td>\n",
       "      <td>3.206468</td>\n",
       "      <td>-3.053678</td>\n",
       "      <td>-3.537895</td>\n",
       "    </tr>\n",
       "    <tr>\n",
       "      <th>22</th>\n",
       "      <td>2000-01-23</td>\n",
       "      <td>9.599300</td>\n",
       "      <td>3.005357</td>\n",
       "      <td>-3.669598</td>\n",
       "      <td>-3.868717</td>\n",
       "    </tr>\n",
       "    <tr>\n",
       "      <th>23</th>\n",
       "      <td>2000-01-24</td>\n",
       "      <td>9.075533</td>\n",
       "      <td>2.725963</td>\n",
       "      <td>-3.648647</td>\n",
       "      <td>-4.340469</td>\n",
       "    </tr>\n",
       "    <tr>\n",
       "      <th>24</th>\n",
       "      <td>2000-01-25</td>\n",
       "      <td>9.975994</td>\n",
       "      <td>3.044426</td>\n",
       "      <td>-3.382709</td>\n",
       "      <td>-3.360695</td>\n",
       "    </tr>\n",
       "    <tr>\n",
       "      <th>25</th>\n",
       "      <td>2000-01-26</td>\n",
       "      <td>10.322346</td>\n",
       "      <td>3.839157</td>\n",
       "      <td>-3.282049</td>\n",
       "      <td>-4.873845</td>\n",
       "    </tr>\n",
       "    <tr>\n",
       "      <th>26</th>\n",
       "      <td>2000-01-27</td>\n",
       "      <td>11.938931</td>\n",
       "      <td>3.362475</td>\n",
       "      <td>-3.139241</td>\n",
       "      <td>-5.709398</td>\n",
       "    </tr>\n",
       "    <tr>\n",
       "      <th>27</th>\n",
       "      <td>2000-01-28</td>\n",
       "      <td>11.894143</td>\n",
       "      <td>4.087359</td>\n",
       "      <td>-2.220083</td>\n",
       "      <td>-5.451053</td>\n",
       "    </tr>\n",
       "    <tr>\n",
       "      <th>28</th>\n",
       "      <td>2000-01-29</td>\n",
       "      <td>10.532910</td>\n",
       "      <td>3.122393</td>\n",
       "      <td>-1.445314</td>\n",
       "      <td>-6.609753</td>\n",
       "    </tr>\n",
       "    <tr>\n",
       "      <th>29</th>\n",
       "      <td>2000-01-30</td>\n",
       "      <td>11.110201</td>\n",
       "      <td>1.886534</td>\n",
       "      <td>-2.683659</td>\n",
       "      <td>-6.692400</td>\n",
       "    </tr>\n",
       "    <tr>\n",
       "      <th>...</th>\n",
       "      <td>...</td>\n",
       "      <td>...</td>\n",
       "      <td>...</td>\n",
       "      <td>...</td>\n",
       "      <td>...</td>\n",
       "    </tr>\n",
       "    <tr>\n",
       "      <th>970</th>\n",
       "      <td>2002-08-28</td>\n",
       "      <td>30.856710</td>\n",
       "      <td>-5.330076</td>\n",
       "      <td>43.973035</td>\n",
       "      <td>-19.003705</td>\n",
       "    </tr>\n",
       "    <tr>\n",
       "      <th>971</th>\n",
       "      <td>2002-08-29</td>\n",
       "      <td>29.666121</td>\n",
       "      <td>-5.716569</td>\n",
       "      <td>45.190498</td>\n",
       "      <td>-18.508137</td>\n",
       "    </tr>\n",
       "    <tr>\n",
       "      <th>972</th>\n",
       "      <td>2002-08-30</td>\n",
       "      <td>27.941940</td>\n",
       "      <td>-5.966064</td>\n",
       "      <td>45.426954</td>\n",
       "      <td>-18.037593</td>\n",
       "    </tr>\n",
       "    <tr>\n",
       "      <th>973</th>\n",
       "      <td>2002-08-31</td>\n",
       "      <td>26.250094</td>\n",
       "      <td>-7.279371</td>\n",
       "      <td>44.625481</td>\n",
       "      <td>-18.766882</td>\n",
       "    </tr>\n",
       "    <tr>\n",
       "      <th>974</th>\n",
       "      <td>2002-09-01</td>\n",
       "      <td>27.897254</td>\n",
       "      <td>-8.117301</td>\n",
       "      <td>44.649346</td>\n",
       "      <td>-18.759103</td>\n",
       "    </tr>\n",
       "    <tr>\n",
       "      <th>975</th>\n",
       "      <td>2002-09-02</td>\n",
       "      <td>28.621480</td>\n",
       "      <td>-8.209665</td>\n",
       "      <td>45.073846</td>\n",
       "      <td>-18.832869</td>\n",
       "    </tr>\n",
       "    <tr>\n",
       "      <th>976</th>\n",
       "      <td>2002-09-03</td>\n",
       "      <td>27.123198</td>\n",
       "      <td>-6.965306</td>\n",
       "      <td>45.284372</td>\n",
       "      <td>-19.006523</td>\n",
       "    </tr>\n",
       "    <tr>\n",
       "      <th>977</th>\n",
       "      <td>2002-09-04</td>\n",
       "      <td>28.001472</td>\n",
       "      <td>-6.478418</td>\n",
       "      <td>43.704464</td>\n",
       "      <td>-19.913521</td>\n",
       "    </tr>\n",
       "    <tr>\n",
       "      <th>978</th>\n",
       "      <td>2002-09-05</td>\n",
       "      <td>27.039814</td>\n",
       "      <td>-4.024865</td>\n",
       "      <td>43.302537</td>\n",
       "      <td>-20.475133</td>\n",
       "    </tr>\n",
       "    <tr>\n",
       "      <th>979</th>\n",
       "      <td>2002-09-06</td>\n",
       "      <td>28.536526</td>\n",
       "      <td>-4.517476</td>\n",
       "      <td>42.823272</td>\n",
       "      <td>-19.621583</td>\n",
       "    </tr>\n",
       "    <tr>\n",
       "      <th>980</th>\n",
       "      <td>2002-09-07</td>\n",
       "      <td>27.995356</td>\n",
       "      <td>-5.617715</td>\n",
       "      <td>43.281040</td>\n",
       "      <td>-19.714596</td>\n",
       "    </tr>\n",
       "    <tr>\n",
       "      <th>981</th>\n",
       "      <td>2002-09-08</td>\n",
       "      <td>28.028398</td>\n",
       "      <td>-6.750618</td>\n",
       "      <td>43.725155</td>\n",
       "      <td>-18.149268</td>\n",
       "    </tr>\n",
       "    <tr>\n",
       "      <th>982</th>\n",
       "      <td>2002-09-09</td>\n",
       "      <td>28.654480</td>\n",
       "      <td>-6.215719</td>\n",
       "      <td>45.049100</td>\n",
       "      <td>-18.867801</td>\n",
       "    </tr>\n",
       "    <tr>\n",
       "      <th>983</th>\n",
       "      <td>2002-09-10</td>\n",
       "      <td>30.136465</td>\n",
       "      <td>-4.987808</td>\n",
       "      <td>43.500089</td>\n",
       "      <td>-18.262784</td>\n",
       "    </tr>\n",
       "    <tr>\n",
       "      <th>984</th>\n",
       "      <td>2002-09-11</td>\n",
       "      <td>30.961481</td>\n",
       "      <td>-4.923566</td>\n",
       "      <td>41.445023</td>\n",
       "      <td>-18.184181</td>\n",
       "    </tr>\n",
       "    <tr>\n",
       "      <th>985</th>\n",
       "      <td>2002-09-12</td>\n",
       "      <td>30.935953</td>\n",
       "      <td>-4.661349</td>\n",
       "      <td>41.740423</td>\n",
       "      <td>-17.413301</td>\n",
       "    </tr>\n",
       "    <tr>\n",
       "      <th>986</th>\n",
       "      <td>2002-09-13</td>\n",
       "      <td>31.397896</td>\n",
       "      <td>-4.725976</td>\n",
       "      <td>41.570744</td>\n",
       "      <td>-18.076430</td>\n",
       "    </tr>\n",
       "    <tr>\n",
       "      <th>987</th>\n",
       "      <td>2002-09-14</td>\n",
       "      <td>32.298160</td>\n",
       "      <td>-5.642958</td>\n",
       "      <td>42.454639</td>\n",
       "      <td>-19.571574</td>\n",
       "    </tr>\n",
       "    <tr>\n",
       "      <th>988</th>\n",
       "      <td>2002-09-15</td>\n",
       "      <td>30.427874</td>\n",
       "      <td>-4.448565</td>\n",
       "      <td>43.922733</td>\n",
       "      <td>-19.614304</td>\n",
       "    </tr>\n",
       "    <tr>\n",
       "      <th>989</th>\n",
       "      <td>2002-09-16</td>\n",
       "      <td>29.161576</td>\n",
       "      <td>-3.744814</td>\n",
       "      <td>45.160804</td>\n",
       "      <td>-19.705972</td>\n",
       "    </tr>\n",
       "    <tr>\n",
       "      <th>990</th>\n",
       "      <td>2002-09-17</td>\n",
       "      <td>29.387734</td>\n",
       "      <td>-5.344866</td>\n",
       "      <td>46.849050</td>\n",
       "      <td>-19.815241</td>\n",
       "    </tr>\n",
       "    <tr>\n",
       "      <th>991</th>\n",
       "      <td>2002-09-18</td>\n",
       "      <td>30.058992</td>\n",
       "      <td>-5.435946</td>\n",
       "      <td>48.774839</td>\n",
       "      <td>-19.369103</td>\n",
       "    </tr>\n",
       "    <tr>\n",
       "      <th>992</th>\n",
       "      <td>2002-09-19</td>\n",
       "      <td>32.196716</td>\n",
       "      <td>-5.830473</td>\n",
       "      <td>48.876517</td>\n",
       "      <td>-18.063972</td>\n",
       "    </tr>\n",
       "    <tr>\n",
       "      <th>993</th>\n",
       "      <td>2002-09-20</td>\n",
       "      <td>32.880210</td>\n",
       "      <td>-8.038525</td>\n",
       "      <td>49.915426</td>\n",
       "      <td>-18.006411</td>\n",
       "    </tr>\n",
       "    <tr>\n",
       "      <th>994</th>\n",
       "      <td>2002-09-21</td>\n",
       "      <td>33.049700</td>\n",
       "      <td>-8.286460</td>\n",
       "      <td>49.601997</td>\n",
       "      <td>-16.986677</td>\n",
       "    </tr>\n",
       "    <tr>\n",
       "      <th>995</th>\n",
       "      <td>2002-09-22</td>\n",
       "      <td>32.345937</td>\n",
       "      <td>-10.244344</td>\n",
       "      <td>50.858068</td>\n",
       "      <td>-17.704474</td>\n",
       "    </tr>\n",
       "    <tr>\n",
       "      <th>996</th>\n",
       "      <td>2002-09-23</td>\n",
       "      <td>32.773776</td>\n",
       "      <td>-9.233040</td>\n",
       "      <td>49.463529</td>\n",
       "      <td>-16.355287</td>\n",
       "    </tr>\n",
       "    <tr>\n",
       "      <th>997</th>\n",
       "      <td>2002-09-24</td>\n",
       "      <td>33.074175</td>\n",
       "      <td>-10.167359</td>\n",
       "      <td>48.841742</td>\n",
       "      <td>-15.872839</td>\n",
       "    </tr>\n",
       "    <tr>\n",
       "      <th>998</th>\n",
       "      <td>2002-09-25</td>\n",
       "      <td>34.365066</td>\n",
       "      <td>-8.512432</td>\n",
       "      <td>50.284642</td>\n",
       "      <td>-17.357429</td>\n",
       "    </tr>\n",
       "    <tr>\n",
       "      <th>999</th>\n",
       "      <td>2002-09-26</td>\n",
       "      <td>33.004521</td>\n",
       "      <td>-7.099023</td>\n",
       "      <td>51.228505</td>\n",
       "      <td>-18.707187</td>\n",
       "    </tr>\n",
       "  </tbody>\n",
       "</table>\n",
       "<p>1000 rows × 5 columns</p>\n",
       "</div>"
      ],
      "text/plain": [
       "     Unnamed: 0          A          B          C          D\n",
       "0    2000-01-01   0.154706  -0.060075  -0.203504  -0.815337\n",
       "1    2000-01-02  -0.870487   0.835744   1.050080  -0.506594\n",
       "2    2000-01-03   0.371501   1.524442  -0.621150  -0.666120\n",
       "3    2000-01-04   1.493495   0.890769   1.263293  -0.047958\n",
       "4    2000-01-05   2.532939   0.904475   0.844214  -0.912442\n",
       "5    2000-01-06   2.195014   1.581366   0.310124  -1.122016\n",
       "6    2000-01-07   2.830326   1.870079  -0.456010   0.855891\n",
       "7    2000-01-08   1.809257   1.726105  -0.402068   0.269554\n",
       "8    2000-01-09   2.373136   1.273628   0.654795  -0.576437\n",
       "9    2000-01-10   5.449404   0.650808   1.447183  -1.571929\n",
       "10   2000-01-11   6.665689   2.833406   1.311929  -1.325265\n",
       "11   2000-01-12   4.824232   4.411289  -0.160094  -1.031954\n",
       "12   2000-01-13   4.310966   2.771083  -0.828971  -1.371591\n",
       "13   2000-01-14   4.682564   2.440130  -0.871358  -0.755837\n",
       "14   2000-01-15   5.246210   3.847410  -2.163159  -2.748325\n",
       "15   2000-01-16   5.980890   3.874724  -2.921339  -3.702486\n",
       "16   2000-01-17   6.586541   3.351841  -4.539366  -3.793364\n",
       "17   2000-01-18   7.567864   4.376352  -3.592222  -4.823626\n",
       "18   2000-01-19   9.340843   2.934511  -4.339627  -4.030243\n",
       "19   2000-01-20   8.973936   4.196310  -4.561716  -4.363136\n",
       "20   2000-01-21   8.464201   4.083549  -3.335874  -5.000566\n",
       "21   2000-01-22   8.759538   3.206468  -3.053678  -3.537895\n",
       "22   2000-01-23   9.599300   3.005357  -3.669598  -3.868717\n",
       "23   2000-01-24   9.075533   2.725963  -3.648647  -4.340469\n",
       "24   2000-01-25   9.975994   3.044426  -3.382709  -3.360695\n",
       "25   2000-01-26  10.322346   3.839157  -3.282049  -4.873845\n",
       "26   2000-01-27  11.938931   3.362475  -3.139241  -5.709398\n",
       "27   2000-01-28  11.894143   4.087359  -2.220083  -5.451053\n",
       "28   2000-01-29  10.532910   3.122393  -1.445314  -6.609753\n",
       "29   2000-01-30  11.110201   1.886534  -2.683659  -6.692400\n",
       "..          ...        ...        ...        ...        ...\n",
       "970  2002-08-28  30.856710  -5.330076  43.973035 -19.003705\n",
       "971  2002-08-29  29.666121  -5.716569  45.190498 -18.508137\n",
       "972  2002-08-30  27.941940  -5.966064  45.426954 -18.037593\n",
       "973  2002-08-31  26.250094  -7.279371  44.625481 -18.766882\n",
       "974  2002-09-01  27.897254  -8.117301  44.649346 -18.759103\n",
       "975  2002-09-02  28.621480  -8.209665  45.073846 -18.832869\n",
       "976  2002-09-03  27.123198  -6.965306  45.284372 -19.006523\n",
       "977  2002-09-04  28.001472  -6.478418  43.704464 -19.913521\n",
       "978  2002-09-05  27.039814  -4.024865  43.302537 -20.475133\n",
       "979  2002-09-06  28.536526  -4.517476  42.823272 -19.621583\n",
       "980  2002-09-07  27.995356  -5.617715  43.281040 -19.714596\n",
       "981  2002-09-08  28.028398  -6.750618  43.725155 -18.149268\n",
       "982  2002-09-09  28.654480  -6.215719  45.049100 -18.867801\n",
       "983  2002-09-10  30.136465  -4.987808  43.500089 -18.262784\n",
       "984  2002-09-11  30.961481  -4.923566  41.445023 -18.184181\n",
       "985  2002-09-12  30.935953  -4.661349  41.740423 -17.413301\n",
       "986  2002-09-13  31.397896  -4.725976  41.570744 -18.076430\n",
       "987  2002-09-14  32.298160  -5.642958  42.454639 -19.571574\n",
       "988  2002-09-15  30.427874  -4.448565  43.922733 -19.614304\n",
       "989  2002-09-16  29.161576  -3.744814  45.160804 -19.705972\n",
       "990  2002-09-17  29.387734  -5.344866  46.849050 -19.815241\n",
       "991  2002-09-18  30.058992  -5.435946  48.774839 -19.369103\n",
       "992  2002-09-19  32.196716  -5.830473  48.876517 -18.063972\n",
       "993  2002-09-20  32.880210  -8.038525  49.915426 -18.006411\n",
       "994  2002-09-21  33.049700  -8.286460  49.601997 -16.986677\n",
       "995  2002-09-22  32.345937 -10.244344  50.858068 -17.704474\n",
       "996  2002-09-23  32.773776  -9.233040  49.463529 -16.355287\n",
       "997  2002-09-24  33.074175 -10.167359  48.841742 -15.872839\n",
       "998  2002-09-25  34.365066  -8.512432  50.284642 -17.357429\n",
       "999  2002-09-26  33.004521  -7.099023  51.228505 -18.707187\n",
       "\n",
       "[1000 rows x 5 columns]"
      ]
     },
     "execution_count": 198,
     "metadata": {},
     "output_type": "execute_result"
    }
   ],
   "source": [
    "pd.read_csv('foo.csv')"
   ]
  },
  {
   "cell_type": "markdown",
   "metadata": {
    "_cell_guid": "9150ae74-87f2-45cc-be98-402a4306eb0a",
    "_uuid": "fce91364024568435d238e35732efc3679beccd5"
   },
   "source": [
    "### HDF5\n",
    "[HDFStores](https://pandas.pydata.org/pandas-docs/stable/io.html#io-hdf5)への読み書き\n",
    "\n",
    "HDF5への書き込み\n",
    "\n",
    "※エラーが出る場合には、\n",
    "\n",
    "linuxの場合：\n",
    "```\n",
    "sudo apt-get install python3-tables\n",
    "```\n",
    "conda等を利用している場合：\n",
    "```\n",
    "conda install -c conda-forge pytables\n",
    "```\n",
    "\n",
    "を実行して下さい。"
   ]
  },
  {
   "cell_type": "code",
   "execution_count": 200,
   "metadata": {
    "_cell_guid": "b94c044e-244b-493f-9278-43690d36694f",
    "_uuid": "a3fb0c63d5aadac15d06e76c56ada820058ef667"
   },
   "outputs": [],
   "source": [
    "df.to_hdf('foo.h5','df')"
   ]
  },
  {
   "cell_type": "markdown",
   "metadata": {
    "_cell_guid": "1ba92b6b-8e82-438d-91c8-cbe9990d0aef",
    "_uuid": "ae23a982a9599ad470198ba616318d781b71496a"
   },
   "source": [
    "Reading from a HDF5 Store:"
   ]
  },
  {
   "cell_type": "code",
   "execution_count": 201,
   "metadata": {
    "_cell_guid": "0d0cc9f7-50e5-4aef-870b-2bb728223f2d",
    "_uuid": "6920cb4f6cfcbb0cfcf806447ef236051f8c1b45",
    "scrolled": true
   },
   "outputs": [
    {
     "data": {
      "text/html": [
       "<div>\n",
       "<style>\n",
       "    .dataframe thead tr:only-child th {\n",
       "        text-align: right;\n",
       "    }\n",
       "\n",
       "    .dataframe thead th {\n",
       "        text-align: left;\n",
       "    }\n",
       "\n",
       "    .dataframe tbody tr th {\n",
       "        vertical-align: top;\n",
       "    }\n",
       "</style>\n",
       "<table border=\"1\" class=\"dataframe\">\n",
       "  <thead>\n",
       "    <tr style=\"text-align: right;\">\n",
       "      <th></th>\n",
       "      <th>A</th>\n",
       "      <th>B</th>\n",
       "      <th>C</th>\n",
       "      <th>D</th>\n",
       "    </tr>\n",
       "  </thead>\n",
       "  <tbody>\n",
       "    <tr>\n",
       "      <th>2000-01-01</th>\n",
       "      <td>0.154706</td>\n",
       "      <td>-0.060075</td>\n",
       "      <td>-0.203504</td>\n",
       "      <td>-0.815337</td>\n",
       "    </tr>\n",
       "    <tr>\n",
       "      <th>2000-01-02</th>\n",
       "      <td>-0.870487</td>\n",
       "      <td>0.835744</td>\n",
       "      <td>1.050080</td>\n",
       "      <td>-0.506594</td>\n",
       "    </tr>\n",
       "    <tr>\n",
       "      <th>2000-01-03</th>\n",
       "      <td>0.371501</td>\n",
       "      <td>1.524442</td>\n",
       "      <td>-0.621150</td>\n",
       "      <td>-0.666120</td>\n",
       "    </tr>\n",
       "    <tr>\n",
       "      <th>2000-01-04</th>\n",
       "      <td>1.493495</td>\n",
       "      <td>0.890769</td>\n",
       "      <td>1.263293</td>\n",
       "      <td>-0.047958</td>\n",
       "    </tr>\n",
       "    <tr>\n",
       "      <th>2000-01-05</th>\n",
       "      <td>2.532939</td>\n",
       "      <td>0.904475</td>\n",
       "      <td>0.844214</td>\n",
       "      <td>-0.912442</td>\n",
       "    </tr>\n",
       "    <tr>\n",
       "      <th>2000-01-06</th>\n",
       "      <td>2.195014</td>\n",
       "      <td>1.581366</td>\n",
       "      <td>0.310124</td>\n",
       "      <td>-1.122016</td>\n",
       "    </tr>\n",
       "    <tr>\n",
       "      <th>2000-01-07</th>\n",
       "      <td>2.830326</td>\n",
       "      <td>1.870079</td>\n",
       "      <td>-0.456010</td>\n",
       "      <td>0.855891</td>\n",
       "    </tr>\n",
       "    <tr>\n",
       "      <th>2000-01-08</th>\n",
       "      <td>1.809257</td>\n",
       "      <td>1.726105</td>\n",
       "      <td>-0.402068</td>\n",
       "      <td>0.269554</td>\n",
       "    </tr>\n",
       "    <tr>\n",
       "      <th>2000-01-09</th>\n",
       "      <td>2.373136</td>\n",
       "      <td>1.273628</td>\n",
       "      <td>0.654795</td>\n",
       "      <td>-0.576437</td>\n",
       "    </tr>\n",
       "    <tr>\n",
       "      <th>2000-01-10</th>\n",
       "      <td>5.449404</td>\n",
       "      <td>0.650808</td>\n",
       "      <td>1.447183</td>\n",
       "      <td>-1.571929</td>\n",
       "    </tr>\n",
       "    <tr>\n",
       "      <th>2000-01-11</th>\n",
       "      <td>6.665689</td>\n",
       "      <td>2.833406</td>\n",
       "      <td>1.311929</td>\n",
       "      <td>-1.325265</td>\n",
       "    </tr>\n",
       "    <tr>\n",
       "      <th>2000-01-12</th>\n",
       "      <td>4.824232</td>\n",
       "      <td>4.411289</td>\n",
       "      <td>-0.160094</td>\n",
       "      <td>-1.031954</td>\n",
       "    </tr>\n",
       "    <tr>\n",
       "      <th>2000-01-13</th>\n",
       "      <td>4.310966</td>\n",
       "      <td>2.771083</td>\n",
       "      <td>-0.828971</td>\n",
       "      <td>-1.371591</td>\n",
       "    </tr>\n",
       "    <tr>\n",
       "      <th>2000-01-14</th>\n",
       "      <td>4.682564</td>\n",
       "      <td>2.440130</td>\n",
       "      <td>-0.871358</td>\n",
       "      <td>-0.755837</td>\n",
       "    </tr>\n",
       "    <tr>\n",
       "      <th>2000-01-15</th>\n",
       "      <td>5.246210</td>\n",
       "      <td>3.847410</td>\n",
       "      <td>-2.163159</td>\n",
       "      <td>-2.748325</td>\n",
       "    </tr>\n",
       "    <tr>\n",
       "      <th>2000-01-16</th>\n",
       "      <td>5.980890</td>\n",
       "      <td>3.874724</td>\n",
       "      <td>-2.921339</td>\n",
       "      <td>-3.702486</td>\n",
       "    </tr>\n",
       "    <tr>\n",
       "      <th>2000-01-17</th>\n",
       "      <td>6.586541</td>\n",
       "      <td>3.351841</td>\n",
       "      <td>-4.539366</td>\n",
       "      <td>-3.793364</td>\n",
       "    </tr>\n",
       "    <tr>\n",
       "      <th>2000-01-18</th>\n",
       "      <td>7.567864</td>\n",
       "      <td>4.376352</td>\n",
       "      <td>-3.592222</td>\n",
       "      <td>-4.823626</td>\n",
       "    </tr>\n",
       "    <tr>\n",
       "      <th>2000-01-19</th>\n",
       "      <td>9.340843</td>\n",
       "      <td>2.934511</td>\n",
       "      <td>-4.339627</td>\n",
       "      <td>-4.030243</td>\n",
       "    </tr>\n",
       "    <tr>\n",
       "      <th>2000-01-20</th>\n",
       "      <td>8.973936</td>\n",
       "      <td>4.196310</td>\n",
       "      <td>-4.561716</td>\n",
       "      <td>-4.363136</td>\n",
       "    </tr>\n",
       "    <tr>\n",
       "      <th>2000-01-21</th>\n",
       "      <td>8.464201</td>\n",
       "      <td>4.083549</td>\n",
       "      <td>-3.335874</td>\n",
       "      <td>-5.000566</td>\n",
       "    </tr>\n",
       "    <tr>\n",
       "      <th>2000-01-22</th>\n",
       "      <td>8.759538</td>\n",
       "      <td>3.206468</td>\n",
       "      <td>-3.053678</td>\n",
       "      <td>-3.537895</td>\n",
       "    </tr>\n",
       "    <tr>\n",
       "      <th>2000-01-23</th>\n",
       "      <td>9.599300</td>\n",
       "      <td>3.005357</td>\n",
       "      <td>-3.669598</td>\n",
       "      <td>-3.868717</td>\n",
       "    </tr>\n",
       "    <tr>\n",
       "      <th>2000-01-24</th>\n",
       "      <td>9.075533</td>\n",
       "      <td>2.725963</td>\n",
       "      <td>-3.648647</td>\n",
       "      <td>-4.340469</td>\n",
       "    </tr>\n",
       "    <tr>\n",
       "      <th>2000-01-25</th>\n",
       "      <td>9.975994</td>\n",
       "      <td>3.044426</td>\n",
       "      <td>-3.382709</td>\n",
       "      <td>-3.360695</td>\n",
       "    </tr>\n",
       "    <tr>\n",
       "      <th>2000-01-26</th>\n",
       "      <td>10.322346</td>\n",
       "      <td>3.839157</td>\n",
       "      <td>-3.282049</td>\n",
       "      <td>-4.873845</td>\n",
       "    </tr>\n",
       "    <tr>\n",
       "      <th>2000-01-27</th>\n",
       "      <td>11.938931</td>\n",
       "      <td>3.362475</td>\n",
       "      <td>-3.139241</td>\n",
       "      <td>-5.709398</td>\n",
       "    </tr>\n",
       "    <tr>\n",
       "      <th>2000-01-28</th>\n",
       "      <td>11.894143</td>\n",
       "      <td>4.087359</td>\n",
       "      <td>-2.220083</td>\n",
       "      <td>-5.451053</td>\n",
       "    </tr>\n",
       "    <tr>\n",
       "      <th>2000-01-29</th>\n",
       "      <td>10.532910</td>\n",
       "      <td>3.122393</td>\n",
       "      <td>-1.445314</td>\n",
       "      <td>-6.609753</td>\n",
       "    </tr>\n",
       "    <tr>\n",
       "      <th>2000-01-30</th>\n",
       "      <td>11.110201</td>\n",
       "      <td>1.886534</td>\n",
       "      <td>-2.683659</td>\n",
       "      <td>-6.692400</td>\n",
       "    </tr>\n",
       "    <tr>\n",
       "      <th>...</th>\n",
       "      <td>...</td>\n",
       "      <td>...</td>\n",
       "      <td>...</td>\n",
       "      <td>...</td>\n",
       "    </tr>\n",
       "    <tr>\n",
       "      <th>2002-08-28</th>\n",
       "      <td>30.856710</td>\n",
       "      <td>-5.330076</td>\n",
       "      <td>43.973035</td>\n",
       "      <td>-19.003705</td>\n",
       "    </tr>\n",
       "    <tr>\n",
       "      <th>2002-08-29</th>\n",
       "      <td>29.666121</td>\n",
       "      <td>-5.716569</td>\n",
       "      <td>45.190498</td>\n",
       "      <td>-18.508137</td>\n",
       "    </tr>\n",
       "    <tr>\n",
       "      <th>2002-08-30</th>\n",
       "      <td>27.941940</td>\n",
       "      <td>-5.966064</td>\n",
       "      <td>45.426954</td>\n",
       "      <td>-18.037593</td>\n",
       "    </tr>\n",
       "    <tr>\n",
       "      <th>2002-08-31</th>\n",
       "      <td>26.250094</td>\n",
       "      <td>-7.279371</td>\n",
       "      <td>44.625481</td>\n",
       "      <td>-18.766882</td>\n",
       "    </tr>\n",
       "    <tr>\n",
       "      <th>2002-09-01</th>\n",
       "      <td>27.897254</td>\n",
       "      <td>-8.117301</td>\n",
       "      <td>44.649346</td>\n",
       "      <td>-18.759103</td>\n",
       "    </tr>\n",
       "    <tr>\n",
       "      <th>2002-09-02</th>\n",
       "      <td>28.621480</td>\n",
       "      <td>-8.209665</td>\n",
       "      <td>45.073846</td>\n",
       "      <td>-18.832869</td>\n",
       "    </tr>\n",
       "    <tr>\n",
       "      <th>2002-09-03</th>\n",
       "      <td>27.123198</td>\n",
       "      <td>-6.965306</td>\n",
       "      <td>45.284372</td>\n",
       "      <td>-19.006523</td>\n",
       "    </tr>\n",
       "    <tr>\n",
       "      <th>2002-09-04</th>\n",
       "      <td>28.001472</td>\n",
       "      <td>-6.478418</td>\n",
       "      <td>43.704464</td>\n",
       "      <td>-19.913521</td>\n",
       "    </tr>\n",
       "    <tr>\n",
       "      <th>2002-09-05</th>\n",
       "      <td>27.039814</td>\n",
       "      <td>-4.024865</td>\n",
       "      <td>43.302537</td>\n",
       "      <td>-20.475133</td>\n",
       "    </tr>\n",
       "    <tr>\n",
       "      <th>2002-09-06</th>\n",
       "      <td>28.536526</td>\n",
       "      <td>-4.517476</td>\n",
       "      <td>42.823272</td>\n",
       "      <td>-19.621583</td>\n",
       "    </tr>\n",
       "    <tr>\n",
       "      <th>2002-09-07</th>\n",
       "      <td>27.995356</td>\n",
       "      <td>-5.617715</td>\n",
       "      <td>43.281040</td>\n",
       "      <td>-19.714596</td>\n",
       "    </tr>\n",
       "    <tr>\n",
       "      <th>2002-09-08</th>\n",
       "      <td>28.028398</td>\n",
       "      <td>-6.750618</td>\n",
       "      <td>43.725155</td>\n",
       "      <td>-18.149268</td>\n",
       "    </tr>\n",
       "    <tr>\n",
       "      <th>2002-09-09</th>\n",
       "      <td>28.654480</td>\n",
       "      <td>-6.215719</td>\n",
       "      <td>45.049100</td>\n",
       "      <td>-18.867801</td>\n",
       "    </tr>\n",
       "    <tr>\n",
       "      <th>2002-09-10</th>\n",
       "      <td>30.136465</td>\n",
       "      <td>-4.987808</td>\n",
       "      <td>43.500089</td>\n",
       "      <td>-18.262784</td>\n",
       "    </tr>\n",
       "    <tr>\n",
       "      <th>2002-09-11</th>\n",
       "      <td>30.961481</td>\n",
       "      <td>-4.923566</td>\n",
       "      <td>41.445023</td>\n",
       "      <td>-18.184181</td>\n",
       "    </tr>\n",
       "    <tr>\n",
       "      <th>2002-09-12</th>\n",
       "      <td>30.935953</td>\n",
       "      <td>-4.661349</td>\n",
       "      <td>41.740423</td>\n",
       "      <td>-17.413301</td>\n",
       "    </tr>\n",
       "    <tr>\n",
       "      <th>2002-09-13</th>\n",
       "      <td>31.397896</td>\n",
       "      <td>-4.725976</td>\n",
       "      <td>41.570744</td>\n",
       "      <td>-18.076430</td>\n",
       "    </tr>\n",
       "    <tr>\n",
       "      <th>2002-09-14</th>\n",
       "      <td>32.298160</td>\n",
       "      <td>-5.642958</td>\n",
       "      <td>42.454639</td>\n",
       "      <td>-19.571574</td>\n",
       "    </tr>\n",
       "    <tr>\n",
       "      <th>2002-09-15</th>\n",
       "      <td>30.427874</td>\n",
       "      <td>-4.448565</td>\n",
       "      <td>43.922733</td>\n",
       "      <td>-19.614304</td>\n",
       "    </tr>\n",
       "    <tr>\n",
       "      <th>2002-09-16</th>\n",
       "      <td>29.161576</td>\n",
       "      <td>-3.744814</td>\n",
       "      <td>45.160804</td>\n",
       "      <td>-19.705972</td>\n",
       "    </tr>\n",
       "    <tr>\n",
       "      <th>2002-09-17</th>\n",
       "      <td>29.387734</td>\n",
       "      <td>-5.344866</td>\n",
       "      <td>46.849050</td>\n",
       "      <td>-19.815241</td>\n",
       "    </tr>\n",
       "    <tr>\n",
       "      <th>2002-09-18</th>\n",
       "      <td>30.058992</td>\n",
       "      <td>-5.435946</td>\n",
       "      <td>48.774839</td>\n",
       "      <td>-19.369103</td>\n",
       "    </tr>\n",
       "    <tr>\n",
       "      <th>2002-09-19</th>\n",
       "      <td>32.196716</td>\n",
       "      <td>-5.830473</td>\n",
       "      <td>48.876517</td>\n",
       "      <td>-18.063972</td>\n",
       "    </tr>\n",
       "    <tr>\n",
       "      <th>2002-09-20</th>\n",
       "      <td>32.880210</td>\n",
       "      <td>-8.038525</td>\n",
       "      <td>49.915426</td>\n",
       "      <td>-18.006411</td>\n",
       "    </tr>\n",
       "    <tr>\n",
       "      <th>2002-09-21</th>\n",
       "      <td>33.049700</td>\n",
       "      <td>-8.286460</td>\n",
       "      <td>49.601997</td>\n",
       "      <td>-16.986677</td>\n",
       "    </tr>\n",
       "    <tr>\n",
       "      <th>2002-09-22</th>\n",
       "      <td>32.345937</td>\n",
       "      <td>-10.244344</td>\n",
       "      <td>50.858068</td>\n",
       "      <td>-17.704474</td>\n",
       "    </tr>\n",
       "    <tr>\n",
       "      <th>2002-09-23</th>\n",
       "      <td>32.773776</td>\n",
       "      <td>-9.233040</td>\n",
       "      <td>49.463529</td>\n",
       "      <td>-16.355287</td>\n",
       "    </tr>\n",
       "    <tr>\n",
       "      <th>2002-09-24</th>\n",
       "      <td>33.074175</td>\n",
       "      <td>-10.167359</td>\n",
       "      <td>48.841742</td>\n",
       "      <td>-15.872839</td>\n",
       "    </tr>\n",
       "    <tr>\n",
       "      <th>2002-09-25</th>\n",
       "      <td>34.365066</td>\n",
       "      <td>-8.512432</td>\n",
       "      <td>50.284642</td>\n",
       "      <td>-17.357429</td>\n",
       "    </tr>\n",
       "    <tr>\n",
       "      <th>2002-09-26</th>\n",
       "      <td>33.004521</td>\n",
       "      <td>-7.099023</td>\n",
       "      <td>51.228505</td>\n",
       "      <td>-18.707187</td>\n",
       "    </tr>\n",
       "  </tbody>\n",
       "</table>\n",
       "<p>1000 rows × 4 columns</p>\n",
       "</div>"
      ],
      "text/plain": [
       "                    A          B          C          D\n",
       "2000-01-01   0.154706  -0.060075  -0.203504  -0.815337\n",
       "2000-01-02  -0.870487   0.835744   1.050080  -0.506594\n",
       "2000-01-03   0.371501   1.524442  -0.621150  -0.666120\n",
       "2000-01-04   1.493495   0.890769   1.263293  -0.047958\n",
       "2000-01-05   2.532939   0.904475   0.844214  -0.912442\n",
       "2000-01-06   2.195014   1.581366   0.310124  -1.122016\n",
       "2000-01-07   2.830326   1.870079  -0.456010   0.855891\n",
       "2000-01-08   1.809257   1.726105  -0.402068   0.269554\n",
       "2000-01-09   2.373136   1.273628   0.654795  -0.576437\n",
       "2000-01-10   5.449404   0.650808   1.447183  -1.571929\n",
       "2000-01-11   6.665689   2.833406   1.311929  -1.325265\n",
       "2000-01-12   4.824232   4.411289  -0.160094  -1.031954\n",
       "2000-01-13   4.310966   2.771083  -0.828971  -1.371591\n",
       "2000-01-14   4.682564   2.440130  -0.871358  -0.755837\n",
       "2000-01-15   5.246210   3.847410  -2.163159  -2.748325\n",
       "2000-01-16   5.980890   3.874724  -2.921339  -3.702486\n",
       "2000-01-17   6.586541   3.351841  -4.539366  -3.793364\n",
       "2000-01-18   7.567864   4.376352  -3.592222  -4.823626\n",
       "2000-01-19   9.340843   2.934511  -4.339627  -4.030243\n",
       "2000-01-20   8.973936   4.196310  -4.561716  -4.363136\n",
       "2000-01-21   8.464201   4.083549  -3.335874  -5.000566\n",
       "2000-01-22   8.759538   3.206468  -3.053678  -3.537895\n",
       "2000-01-23   9.599300   3.005357  -3.669598  -3.868717\n",
       "2000-01-24   9.075533   2.725963  -3.648647  -4.340469\n",
       "2000-01-25   9.975994   3.044426  -3.382709  -3.360695\n",
       "2000-01-26  10.322346   3.839157  -3.282049  -4.873845\n",
       "2000-01-27  11.938931   3.362475  -3.139241  -5.709398\n",
       "2000-01-28  11.894143   4.087359  -2.220083  -5.451053\n",
       "2000-01-29  10.532910   3.122393  -1.445314  -6.609753\n",
       "2000-01-30  11.110201   1.886534  -2.683659  -6.692400\n",
       "...               ...        ...        ...        ...\n",
       "2002-08-28  30.856710  -5.330076  43.973035 -19.003705\n",
       "2002-08-29  29.666121  -5.716569  45.190498 -18.508137\n",
       "2002-08-30  27.941940  -5.966064  45.426954 -18.037593\n",
       "2002-08-31  26.250094  -7.279371  44.625481 -18.766882\n",
       "2002-09-01  27.897254  -8.117301  44.649346 -18.759103\n",
       "2002-09-02  28.621480  -8.209665  45.073846 -18.832869\n",
       "2002-09-03  27.123198  -6.965306  45.284372 -19.006523\n",
       "2002-09-04  28.001472  -6.478418  43.704464 -19.913521\n",
       "2002-09-05  27.039814  -4.024865  43.302537 -20.475133\n",
       "2002-09-06  28.536526  -4.517476  42.823272 -19.621583\n",
       "2002-09-07  27.995356  -5.617715  43.281040 -19.714596\n",
       "2002-09-08  28.028398  -6.750618  43.725155 -18.149268\n",
       "2002-09-09  28.654480  -6.215719  45.049100 -18.867801\n",
       "2002-09-10  30.136465  -4.987808  43.500089 -18.262784\n",
       "2002-09-11  30.961481  -4.923566  41.445023 -18.184181\n",
       "2002-09-12  30.935953  -4.661349  41.740423 -17.413301\n",
       "2002-09-13  31.397896  -4.725976  41.570744 -18.076430\n",
       "2002-09-14  32.298160  -5.642958  42.454639 -19.571574\n",
       "2002-09-15  30.427874  -4.448565  43.922733 -19.614304\n",
       "2002-09-16  29.161576  -3.744814  45.160804 -19.705972\n",
       "2002-09-17  29.387734  -5.344866  46.849050 -19.815241\n",
       "2002-09-18  30.058992  -5.435946  48.774839 -19.369103\n",
       "2002-09-19  32.196716  -5.830473  48.876517 -18.063972\n",
       "2002-09-20  32.880210  -8.038525  49.915426 -18.006411\n",
       "2002-09-21  33.049700  -8.286460  49.601997 -16.986677\n",
       "2002-09-22  32.345937 -10.244344  50.858068 -17.704474\n",
       "2002-09-23  32.773776  -9.233040  49.463529 -16.355287\n",
       "2002-09-24  33.074175 -10.167359  48.841742 -15.872839\n",
       "2002-09-25  34.365066  -8.512432  50.284642 -17.357429\n",
       "2002-09-26  33.004521  -7.099023  51.228505 -18.707187\n",
       "\n",
       "[1000 rows x 4 columns]"
      ]
     },
     "execution_count": 201,
     "metadata": {},
     "output_type": "execute_result"
    }
   ],
   "source": [
    "pd.read_hdf('foo.h5','df')"
   ]
  },
  {
   "cell_type": "markdown",
   "metadata": {
    "_cell_guid": "577ea484-5412-4e56-bce9-e7ac085f43e7",
    "_uuid": "1ed3197b98a526670ad2e5fc2fd3d783f4aa26df"
   },
   "source": [
    "### Excel\n",
    "[MS Excel](https://pandas.pydata.org/pandas-docs/stable/io.html#io-excel)の読み書き\n",
    "\n",
    "エクセルファイルへの書き込み\n",
    "\n",
    "エラーが出るときは、\n",
    "pip install openpyxl　xlrd\n",
    "\n",
    "anaconda を利用している場合：\n",
    "conda install openpyxl　xlrd\n",
    "\n",
    "でopenpyxl及びxlrdをインストールして下さい。\n"
   ]
  },
  {
   "cell_type": "code",
   "execution_count": 203,
   "metadata": {
    "_cell_guid": "56ebcc49-1c6e-4fba-b0be-885bd38c8edd",
    "_uuid": "b4aa25c0d51d6981aefeb56d369f73892d89bf75"
   },
   "outputs": [],
   "source": [
    "df.to_excel('foo.xlsx', sheet_name='Sheet1')"
   ]
  },
  {
   "cell_type": "markdown",
   "metadata": {
    "_cell_guid": "516aeff5-882d-464f-a4a8-23c39a9faa78",
    "_uuid": "53c3b30580b3f53be31cf66c379f0a930b5ebe6d"
   },
   "source": [
    "Reading from an excel file:"
   ]
  },
  {
   "cell_type": "code",
   "execution_count": 205,
   "metadata": {
    "_cell_guid": "7d1fb689-56d4-4ebf-bf7e-775f55268861",
    "_uuid": "80517bdf809673c3b298888c8b2e0835e1f862dc"
   },
   "outputs": [
    {
     "data": {
      "text/html": [
       "<div>\n",
       "<style>\n",
       "    .dataframe thead tr:only-child th {\n",
       "        text-align: right;\n",
       "    }\n",
       "\n",
       "    .dataframe thead th {\n",
       "        text-align: left;\n",
       "    }\n",
       "\n",
       "    .dataframe tbody tr th {\n",
       "        vertical-align: top;\n",
       "    }\n",
       "</style>\n",
       "<table border=\"1\" class=\"dataframe\">\n",
       "  <thead>\n",
       "    <tr style=\"text-align: right;\">\n",
       "      <th></th>\n",
       "      <th>A</th>\n",
       "      <th>B</th>\n",
       "      <th>C</th>\n",
       "      <th>D</th>\n",
       "    </tr>\n",
       "  </thead>\n",
       "  <tbody>\n",
       "    <tr>\n",
       "      <th>2000-01-01</th>\n",
       "      <td>0.154706</td>\n",
       "      <td>-0.060075</td>\n",
       "      <td>-0.203504</td>\n",
       "      <td>-0.815337</td>\n",
       "    </tr>\n",
       "    <tr>\n",
       "      <th>2000-01-02</th>\n",
       "      <td>-0.870487</td>\n",
       "      <td>0.835744</td>\n",
       "      <td>1.050080</td>\n",
       "      <td>-0.506594</td>\n",
       "    </tr>\n",
       "    <tr>\n",
       "      <th>2000-01-03</th>\n",
       "      <td>0.371501</td>\n",
       "      <td>1.524442</td>\n",
       "      <td>-0.621150</td>\n",
       "      <td>-0.666120</td>\n",
       "    </tr>\n",
       "    <tr>\n",
       "      <th>2000-01-04</th>\n",
       "      <td>1.493495</td>\n",
       "      <td>0.890769</td>\n",
       "      <td>1.263293</td>\n",
       "      <td>-0.047958</td>\n",
       "    </tr>\n",
       "    <tr>\n",
       "      <th>2000-01-05</th>\n",
       "      <td>2.532939</td>\n",
       "      <td>0.904475</td>\n",
       "      <td>0.844214</td>\n",
       "      <td>-0.912442</td>\n",
       "    </tr>\n",
       "    <tr>\n",
       "      <th>2000-01-06</th>\n",
       "      <td>2.195014</td>\n",
       "      <td>1.581366</td>\n",
       "      <td>0.310124</td>\n",
       "      <td>-1.122016</td>\n",
       "    </tr>\n",
       "    <tr>\n",
       "      <th>2000-01-07</th>\n",
       "      <td>2.830326</td>\n",
       "      <td>1.870079</td>\n",
       "      <td>-0.456010</td>\n",
       "      <td>0.855891</td>\n",
       "    </tr>\n",
       "    <tr>\n",
       "      <th>2000-01-08</th>\n",
       "      <td>1.809257</td>\n",
       "      <td>1.726105</td>\n",
       "      <td>-0.402068</td>\n",
       "      <td>0.269554</td>\n",
       "    </tr>\n",
       "    <tr>\n",
       "      <th>2000-01-09</th>\n",
       "      <td>2.373136</td>\n",
       "      <td>1.273628</td>\n",
       "      <td>0.654795</td>\n",
       "      <td>-0.576437</td>\n",
       "    </tr>\n",
       "    <tr>\n",
       "      <th>2000-01-10</th>\n",
       "      <td>5.449404</td>\n",
       "      <td>0.650808</td>\n",
       "      <td>1.447183</td>\n",
       "      <td>-1.571929</td>\n",
       "    </tr>\n",
       "    <tr>\n",
       "      <th>2000-01-11</th>\n",
       "      <td>6.665689</td>\n",
       "      <td>2.833406</td>\n",
       "      <td>1.311929</td>\n",
       "      <td>-1.325265</td>\n",
       "    </tr>\n",
       "    <tr>\n",
       "      <th>2000-01-12</th>\n",
       "      <td>4.824232</td>\n",
       "      <td>4.411289</td>\n",
       "      <td>-0.160094</td>\n",
       "      <td>-1.031954</td>\n",
       "    </tr>\n",
       "    <tr>\n",
       "      <th>2000-01-13</th>\n",
       "      <td>4.310966</td>\n",
       "      <td>2.771083</td>\n",
       "      <td>-0.828971</td>\n",
       "      <td>-1.371591</td>\n",
       "    </tr>\n",
       "    <tr>\n",
       "      <th>2000-01-14</th>\n",
       "      <td>4.682564</td>\n",
       "      <td>2.440130</td>\n",
       "      <td>-0.871358</td>\n",
       "      <td>-0.755837</td>\n",
       "    </tr>\n",
       "    <tr>\n",
       "      <th>2000-01-15</th>\n",
       "      <td>5.246210</td>\n",
       "      <td>3.847410</td>\n",
       "      <td>-2.163159</td>\n",
       "      <td>-2.748325</td>\n",
       "    </tr>\n",
       "    <tr>\n",
       "      <th>2000-01-16</th>\n",
       "      <td>5.980890</td>\n",
       "      <td>3.874724</td>\n",
       "      <td>-2.921339</td>\n",
       "      <td>-3.702486</td>\n",
       "    </tr>\n",
       "    <tr>\n",
       "      <th>2000-01-17</th>\n",
       "      <td>6.586541</td>\n",
       "      <td>3.351841</td>\n",
       "      <td>-4.539366</td>\n",
       "      <td>-3.793364</td>\n",
       "    </tr>\n",
       "    <tr>\n",
       "      <th>2000-01-18</th>\n",
       "      <td>7.567864</td>\n",
       "      <td>4.376352</td>\n",
       "      <td>-3.592222</td>\n",
       "      <td>-4.823626</td>\n",
       "    </tr>\n",
       "    <tr>\n",
       "      <th>2000-01-19</th>\n",
       "      <td>9.340843</td>\n",
       "      <td>2.934511</td>\n",
       "      <td>-4.339627</td>\n",
       "      <td>-4.030243</td>\n",
       "    </tr>\n",
       "    <tr>\n",
       "      <th>2000-01-20</th>\n",
       "      <td>8.973936</td>\n",
       "      <td>4.196310</td>\n",
       "      <td>-4.561716</td>\n",
       "      <td>-4.363136</td>\n",
       "    </tr>\n",
       "    <tr>\n",
       "      <th>2000-01-21</th>\n",
       "      <td>8.464201</td>\n",
       "      <td>4.083549</td>\n",
       "      <td>-3.335874</td>\n",
       "      <td>-5.000566</td>\n",
       "    </tr>\n",
       "    <tr>\n",
       "      <th>2000-01-22</th>\n",
       "      <td>8.759538</td>\n",
       "      <td>3.206468</td>\n",
       "      <td>-3.053678</td>\n",
       "      <td>-3.537895</td>\n",
       "    </tr>\n",
       "    <tr>\n",
       "      <th>2000-01-23</th>\n",
       "      <td>9.599300</td>\n",
       "      <td>3.005357</td>\n",
       "      <td>-3.669598</td>\n",
       "      <td>-3.868717</td>\n",
       "    </tr>\n",
       "    <tr>\n",
       "      <th>2000-01-24</th>\n",
       "      <td>9.075533</td>\n",
       "      <td>2.725963</td>\n",
       "      <td>-3.648647</td>\n",
       "      <td>-4.340469</td>\n",
       "    </tr>\n",
       "    <tr>\n",
       "      <th>2000-01-25</th>\n",
       "      <td>9.975994</td>\n",
       "      <td>3.044426</td>\n",
       "      <td>-3.382709</td>\n",
       "      <td>-3.360695</td>\n",
       "    </tr>\n",
       "    <tr>\n",
       "      <th>2000-01-26</th>\n",
       "      <td>10.322346</td>\n",
       "      <td>3.839157</td>\n",
       "      <td>-3.282049</td>\n",
       "      <td>-4.873845</td>\n",
       "    </tr>\n",
       "    <tr>\n",
       "      <th>2000-01-27</th>\n",
       "      <td>11.938931</td>\n",
       "      <td>3.362475</td>\n",
       "      <td>-3.139241</td>\n",
       "      <td>-5.709398</td>\n",
       "    </tr>\n",
       "    <tr>\n",
       "      <th>2000-01-28</th>\n",
       "      <td>11.894143</td>\n",
       "      <td>4.087359</td>\n",
       "      <td>-2.220083</td>\n",
       "      <td>-5.451053</td>\n",
       "    </tr>\n",
       "    <tr>\n",
       "      <th>2000-01-29</th>\n",
       "      <td>10.532910</td>\n",
       "      <td>3.122393</td>\n",
       "      <td>-1.445314</td>\n",
       "      <td>-6.609753</td>\n",
       "    </tr>\n",
       "    <tr>\n",
       "      <th>2000-01-30</th>\n",
       "      <td>11.110201</td>\n",
       "      <td>1.886534</td>\n",
       "      <td>-2.683659</td>\n",
       "      <td>-6.692400</td>\n",
       "    </tr>\n",
       "    <tr>\n",
       "      <th>...</th>\n",
       "      <td>...</td>\n",
       "      <td>...</td>\n",
       "      <td>...</td>\n",
       "      <td>...</td>\n",
       "    </tr>\n",
       "    <tr>\n",
       "      <th>2002-08-28</th>\n",
       "      <td>30.856710</td>\n",
       "      <td>-5.330076</td>\n",
       "      <td>43.973035</td>\n",
       "      <td>-19.003705</td>\n",
       "    </tr>\n",
       "    <tr>\n",
       "      <th>2002-08-29</th>\n",
       "      <td>29.666121</td>\n",
       "      <td>-5.716569</td>\n",
       "      <td>45.190498</td>\n",
       "      <td>-18.508137</td>\n",
       "    </tr>\n",
       "    <tr>\n",
       "      <th>2002-08-30</th>\n",
       "      <td>27.941940</td>\n",
       "      <td>-5.966064</td>\n",
       "      <td>45.426954</td>\n",
       "      <td>-18.037593</td>\n",
       "    </tr>\n",
       "    <tr>\n",
       "      <th>2002-08-31</th>\n",
       "      <td>26.250094</td>\n",
       "      <td>-7.279371</td>\n",
       "      <td>44.625481</td>\n",
       "      <td>-18.766882</td>\n",
       "    </tr>\n",
       "    <tr>\n",
       "      <th>2002-09-01</th>\n",
       "      <td>27.897254</td>\n",
       "      <td>-8.117301</td>\n",
       "      <td>44.649346</td>\n",
       "      <td>-18.759103</td>\n",
       "    </tr>\n",
       "    <tr>\n",
       "      <th>2002-09-02</th>\n",
       "      <td>28.621480</td>\n",
       "      <td>-8.209665</td>\n",
       "      <td>45.073846</td>\n",
       "      <td>-18.832869</td>\n",
       "    </tr>\n",
       "    <tr>\n",
       "      <th>2002-09-03</th>\n",
       "      <td>27.123198</td>\n",
       "      <td>-6.965306</td>\n",
       "      <td>45.284372</td>\n",
       "      <td>-19.006523</td>\n",
       "    </tr>\n",
       "    <tr>\n",
       "      <th>2002-09-04</th>\n",
       "      <td>28.001472</td>\n",
       "      <td>-6.478418</td>\n",
       "      <td>43.704464</td>\n",
       "      <td>-19.913521</td>\n",
       "    </tr>\n",
       "    <tr>\n",
       "      <th>2002-09-05</th>\n",
       "      <td>27.039814</td>\n",
       "      <td>-4.024865</td>\n",
       "      <td>43.302537</td>\n",
       "      <td>-20.475133</td>\n",
       "    </tr>\n",
       "    <tr>\n",
       "      <th>2002-09-06</th>\n",
       "      <td>28.536526</td>\n",
       "      <td>-4.517476</td>\n",
       "      <td>42.823272</td>\n",
       "      <td>-19.621583</td>\n",
       "    </tr>\n",
       "    <tr>\n",
       "      <th>2002-09-07</th>\n",
       "      <td>27.995356</td>\n",
       "      <td>-5.617715</td>\n",
       "      <td>43.281040</td>\n",
       "      <td>-19.714596</td>\n",
       "    </tr>\n",
       "    <tr>\n",
       "      <th>2002-09-08</th>\n",
       "      <td>28.028398</td>\n",
       "      <td>-6.750618</td>\n",
       "      <td>43.725155</td>\n",
       "      <td>-18.149268</td>\n",
       "    </tr>\n",
       "    <tr>\n",
       "      <th>2002-09-09</th>\n",
       "      <td>28.654480</td>\n",
       "      <td>-6.215719</td>\n",
       "      <td>45.049100</td>\n",
       "      <td>-18.867801</td>\n",
       "    </tr>\n",
       "    <tr>\n",
       "      <th>2002-09-10</th>\n",
       "      <td>30.136465</td>\n",
       "      <td>-4.987808</td>\n",
       "      <td>43.500089</td>\n",
       "      <td>-18.262784</td>\n",
       "    </tr>\n",
       "    <tr>\n",
       "      <th>2002-09-11</th>\n",
       "      <td>30.961481</td>\n",
       "      <td>-4.923566</td>\n",
       "      <td>41.445023</td>\n",
       "      <td>-18.184181</td>\n",
       "    </tr>\n",
       "    <tr>\n",
       "      <th>2002-09-12</th>\n",
       "      <td>30.935953</td>\n",
       "      <td>-4.661349</td>\n",
       "      <td>41.740423</td>\n",
       "      <td>-17.413301</td>\n",
       "    </tr>\n",
       "    <tr>\n",
       "      <th>2002-09-13</th>\n",
       "      <td>31.397896</td>\n",
       "      <td>-4.725976</td>\n",
       "      <td>41.570744</td>\n",
       "      <td>-18.076430</td>\n",
       "    </tr>\n",
       "    <tr>\n",
       "      <th>2002-09-14</th>\n",
       "      <td>32.298160</td>\n",
       "      <td>-5.642958</td>\n",
       "      <td>42.454639</td>\n",
       "      <td>-19.571574</td>\n",
       "    </tr>\n",
       "    <tr>\n",
       "      <th>2002-09-15</th>\n",
       "      <td>30.427874</td>\n",
       "      <td>-4.448565</td>\n",
       "      <td>43.922733</td>\n",
       "      <td>-19.614304</td>\n",
       "    </tr>\n",
       "    <tr>\n",
       "      <th>2002-09-16</th>\n",
       "      <td>29.161576</td>\n",
       "      <td>-3.744814</td>\n",
       "      <td>45.160804</td>\n",
       "      <td>-19.705972</td>\n",
       "    </tr>\n",
       "    <tr>\n",
       "      <th>2002-09-17</th>\n",
       "      <td>29.387734</td>\n",
       "      <td>-5.344866</td>\n",
       "      <td>46.849050</td>\n",
       "      <td>-19.815241</td>\n",
       "    </tr>\n",
       "    <tr>\n",
       "      <th>2002-09-18</th>\n",
       "      <td>30.058992</td>\n",
       "      <td>-5.435946</td>\n",
       "      <td>48.774839</td>\n",
       "      <td>-19.369103</td>\n",
       "    </tr>\n",
       "    <tr>\n",
       "      <th>2002-09-19</th>\n",
       "      <td>32.196716</td>\n",
       "      <td>-5.830473</td>\n",
       "      <td>48.876517</td>\n",
       "      <td>-18.063972</td>\n",
       "    </tr>\n",
       "    <tr>\n",
       "      <th>2002-09-20</th>\n",
       "      <td>32.880210</td>\n",
       "      <td>-8.038525</td>\n",
       "      <td>49.915426</td>\n",
       "      <td>-18.006411</td>\n",
       "    </tr>\n",
       "    <tr>\n",
       "      <th>2002-09-21</th>\n",
       "      <td>33.049700</td>\n",
       "      <td>-8.286460</td>\n",
       "      <td>49.601997</td>\n",
       "      <td>-16.986677</td>\n",
       "    </tr>\n",
       "    <tr>\n",
       "      <th>2002-09-22</th>\n",
       "      <td>32.345937</td>\n",
       "      <td>-10.244344</td>\n",
       "      <td>50.858068</td>\n",
       "      <td>-17.704474</td>\n",
       "    </tr>\n",
       "    <tr>\n",
       "      <th>2002-09-23</th>\n",
       "      <td>32.773776</td>\n",
       "      <td>-9.233040</td>\n",
       "      <td>49.463529</td>\n",
       "      <td>-16.355287</td>\n",
       "    </tr>\n",
       "    <tr>\n",
       "      <th>2002-09-24</th>\n",
       "      <td>33.074175</td>\n",
       "      <td>-10.167359</td>\n",
       "      <td>48.841742</td>\n",
       "      <td>-15.872839</td>\n",
       "    </tr>\n",
       "    <tr>\n",
       "      <th>2002-09-25</th>\n",
       "      <td>34.365066</td>\n",
       "      <td>-8.512432</td>\n",
       "      <td>50.284642</td>\n",
       "      <td>-17.357429</td>\n",
       "    </tr>\n",
       "    <tr>\n",
       "      <th>2002-09-26</th>\n",
       "      <td>33.004521</td>\n",
       "      <td>-7.099023</td>\n",
       "      <td>51.228505</td>\n",
       "      <td>-18.707187</td>\n",
       "    </tr>\n",
       "  </tbody>\n",
       "</table>\n",
       "<p>1000 rows × 4 columns</p>\n",
       "</div>"
      ],
      "text/plain": [
       "                    A          B          C          D\n",
       "2000-01-01   0.154706  -0.060075  -0.203504  -0.815337\n",
       "2000-01-02  -0.870487   0.835744   1.050080  -0.506594\n",
       "2000-01-03   0.371501   1.524442  -0.621150  -0.666120\n",
       "2000-01-04   1.493495   0.890769   1.263293  -0.047958\n",
       "2000-01-05   2.532939   0.904475   0.844214  -0.912442\n",
       "2000-01-06   2.195014   1.581366   0.310124  -1.122016\n",
       "2000-01-07   2.830326   1.870079  -0.456010   0.855891\n",
       "2000-01-08   1.809257   1.726105  -0.402068   0.269554\n",
       "2000-01-09   2.373136   1.273628   0.654795  -0.576437\n",
       "2000-01-10   5.449404   0.650808   1.447183  -1.571929\n",
       "2000-01-11   6.665689   2.833406   1.311929  -1.325265\n",
       "2000-01-12   4.824232   4.411289  -0.160094  -1.031954\n",
       "2000-01-13   4.310966   2.771083  -0.828971  -1.371591\n",
       "2000-01-14   4.682564   2.440130  -0.871358  -0.755837\n",
       "2000-01-15   5.246210   3.847410  -2.163159  -2.748325\n",
       "2000-01-16   5.980890   3.874724  -2.921339  -3.702486\n",
       "2000-01-17   6.586541   3.351841  -4.539366  -3.793364\n",
       "2000-01-18   7.567864   4.376352  -3.592222  -4.823626\n",
       "2000-01-19   9.340843   2.934511  -4.339627  -4.030243\n",
       "2000-01-20   8.973936   4.196310  -4.561716  -4.363136\n",
       "2000-01-21   8.464201   4.083549  -3.335874  -5.000566\n",
       "2000-01-22   8.759538   3.206468  -3.053678  -3.537895\n",
       "2000-01-23   9.599300   3.005357  -3.669598  -3.868717\n",
       "2000-01-24   9.075533   2.725963  -3.648647  -4.340469\n",
       "2000-01-25   9.975994   3.044426  -3.382709  -3.360695\n",
       "2000-01-26  10.322346   3.839157  -3.282049  -4.873845\n",
       "2000-01-27  11.938931   3.362475  -3.139241  -5.709398\n",
       "2000-01-28  11.894143   4.087359  -2.220083  -5.451053\n",
       "2000-01-29  10.532910   3.122393  -1.445314  -6.609753\n",
       "2000-01-30  11.110201   1.886534  -2.683659  -6.692400\n",
       "...               ...        ...        ...        ...\n",
       "2002-08-28  30.856710  -5.330076  43.973035 -19.003705\n",
       "2002-08-29  29.666121  -5.716569  45.190498 -18.508137\n",
       "2002-08-30  27.941940  -5.966064  45.426954 -18.037593\n",
       "2002-08-31  26.250094  -7.279371  44.625481 -18.766882\n",
       "2002-09-01  27.897254  -8.117301  44.649346 -18.759103\n",
       "2002-09-02  28.621480  -8.209665  45.073846 -18.832869\n",
       "2002-09-03  27.123198  -6.965306  45.284372 -19.006523\n",
       "2002-09-04  28.001472  -6.478418  43.704464 -19.913521\n",
       "2002-09-05  27.039814  -4.024865  43.302537 -20.475133\n",
       "2002-09-06  28.536526  -4.517476  42.823272 -19.621583\n",
       "2002-09-07  27.995356  -5.617715  43.281040 -19.714596\n",
       "2002-09-08  28.028398  -6.750618  43.725155 -18.149268\n",
       "2002-09-09  28.654480  -6.215719  45.049100 -18.867801\n",
       "2002-09-10  30.136465  -4.987808  43.500089 -18.262784\n",
       "2002-09-11  30.961481  -4.923566  41.445023 -18.184181\n",
       "2002-09-12  30.935953  -4.661349  41.740423 -17.413301\n",
       "2002-09-13  31.397896  -4.725976  41.570744 -18.076430\n",
       "2002-09-14  32.298160  -5.642958  42.454639 -19.571574\n",
       "2002-09-15  30.427874  -4.448565  43.922733 -19.614304\n",
       "2002-09-16  29.161576  -3.744814  45.160804 -19.705972\n",
       "2002-09-17  29.387734  -5.344866  46.849050 -19.815241\n",
       "2002-09-18  30.058992  -5.435946  48.774839 -19.369103\n",
       "2002-09-19  32.196716  -5.830473  48.876517 -18.063972\n",
       "2002-09-20  32.880210  -8.038525  49.915426 -18.006411\n",
       "2002-09-21  33.049700  -8.286460  49.601997 -16.986677\n",
       "2002-09-22  32.345937 -10.244344  50.858068 -17.704474\n",
       "2002-09-23  32.773776  -9.233040  49.463529 -16.355287\n",
       "2002-09-24  33.074175 -10.167359  48.841742 -15.872839\n",
       "2002-09-25  34.365066  -8.512432  50.284642 -17.357429\n",
       "2002-09-26  33.004521  -7.099023  51.228505 -18.707187\n",
       "\n",
       "[1000 rows x 4 columns]"
      ]
     },
     "execution_count": 205,
     "metadata": {},
     "output_type": "execute_result"
    }
   ],
   "source": [
    "pd.read_excel('foo.xlsx', 'Sheet1', index_col=None, na_values=['NA'])"
   ]
  },
  {
   "cell_type": "markdown",
   "metadata": {
    "_cell_guid": "830c58b5-67de-4ba4-9085-1bd6f1c36103",
    "_uuid": "94a7efe1ddf6a862c752a87095e6b3d9fe895a93"
   },
   "source": [
    "# わかった！\n",
    "以下のようにプログラムを実行してエラー（例外）が出る場合には、"
   ]
  },
  {
   "cell_type": "code",
   "execution_count": 206,
   "metadata": {
    "_cell_guid": "68e21fe7-fdee-4f1f-a6be-421232f995be",
    "_uuid": "dff1fa5f0b4cedf3d85de3d630ee37071442a840",
    "scrolled": true
   },
   "outputs": [
    {
     "ename": "ValueError",
     "evalue": "The truth value of a Series is ambiguous. Use a.empty, a.bool(), a.item(), a.any() or a.all().",
     "output_type": "error",
     "traceback": [
      "\u001b[0;31m---------------------------------------------------------------------------\u001b[0m",
      "\u001b[0;31mValueError\u001b[0m                                Traceback (most recent call last)",
      "\u001b[0;32m<ipython-input-206-9cae3ab0f79f>\u001b[0m in \u001b[0;36m<module>\u001b[0;34m()\u001b[0m\n\u001b[0;32m----> 1\u001b[0;31m \u001b[0;32mif\u001b[0m \u001b[0mpd\u001b[0m\u001b[0;34m.\u001b[0m\u001b[0mSeries\u001b[0m\u001b[0;34m(\u001b[0m\u001b[0;34m[\u001b[0m\u001b[0;32mFalse\u001b[0m\u001b[0;34m,\u001b[0m \u001b[0;32mTrue\u001b[0m\u001b[0;34m,\u001b[0m \u001b[0;32mFalse\u001b[0m\u001b[0;34m]\u001b[0m\u001b[0;34m)\u001b[0m\u001b[0;34m:\u001b[0m\u001b[0;34m\u001b[0m\u001b[0m\n\u001b[0m\u001b[1;32m      2\u001b[0m     \u001b[0mprint\u001b[0m\u001b[0;34m(\u001b[0m\u001b[0;34m\"I was true\"\u001b[0m\u001b[0;34m)\u001b[0m\u001b[0;34m\u001b[0m\u001b[0m\n",
      "\u001b[0;32m~/anaconda/envs/coins36/lib/python3.6/site-packages/pandas/core/generic.py\u001b[0m in \u001b[0;36m__nonzero__\u001b[0;34m(self)\u001b[0m\n\u001b[1;32m    953\u001b[0m         raise ValueError(\"The truth value of a {0} is ambiguous. \"\n\u001b[1;32m    954\u001b[0m                          \u001b[0;34m\"Use a.empty, a.bool(), a.item(), a.any() or a.all().\"\u001b[0m\u001b[0;34m\u001b[0m\u001b[0m\n\u001b[0;32m--> 955\u001b[0;31m                          .format(self.__class__.__name__))\n\u001b[0m\u001b[1;32m    956\u001b[0m \u001b[0;34m\u001b[0m\u001b[0m\n\u001b[1;32m    957\u001b[0m     \u001b[0m__bool__\u001b[0m \u001b[0;34m=\u001b[0m \u001b[0m__nonzero__\u001b[0m\u001b[0;34m\u001b[0m\u001b[0m\n",
      "\u001b[0;31mValueError\u001b[0m: The truth value of a Series is ambiguous. Use a.empty, a.bool(), a.item(), a.any() or a.all()."
     ]
    }
   ],
   "source": [
    "if pd.Series([False, True, False]):\n",
    "    print(\"I was true\")"
   ]
  },
  {
   "cell_type": "markdown",
   "metadata": {
    "_cell_guid": "8ec225d7-810b-445a-a9e2-4b8ca63c9585",
    "_uuid": "ee08221d61b141f4442820ecc5b749b1f66127a0"
   },
   "source": [
    "[ Comparisons](https://pandas.pydata.org/pandas-docs/stable/basics.html#basics-compare) あるいは、\n",
    "\n",
    " [Gotchas](https://pandas.pydata.org/pandas-docs/stable/gotchas.html#gotchas) を見てみましょう。"
   ]
  },
  {
   "cell_type": "code",
   "execution_count": 207,
   "metadata": {},
   "outputs": [
    {
     "name": "stdout",
     "output_type": "stream",
     "text": [
      "I was true\n"
     ]
    }
   ],
   "source": [
    "if pd.Series([False, True, False]).any():\n",
    "    print(\"I was true\")"
   ]
  },
  {
   "cell_type": "code",
   "execution_count": null,
   "metadata": {},
   "outputs": [],
   "source": []
  }
 ],
 "metadata": {
  "kernelspec": {
   "display_name": "coins36",
   "language": "python",
   "name": "coins36"
  },
  "language_info": {
   "codemirror_mode": {
    "name": "ipython",
    "version": 3
   },
   "file_extension": ".py",
   "mimetype": "text/x-python",
   "name": "python",
   "nbconvert_exporter": "python",
   "pygments_lexer": "ipython3",
   "version": "3.6.2"
  }
 },
 "nbformat": 4,
 "nbformat_minor": 1
}
